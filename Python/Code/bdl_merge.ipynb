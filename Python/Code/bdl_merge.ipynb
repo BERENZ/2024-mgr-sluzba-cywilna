{
 "cells": [
  {
   "cell_type": "code",
   "id": "initial_id",
   "metadata": {
    "collapsed": true,
    "ExecuteTime": {
     "end_time": "2025-05-17T22:14:55.133667Z",
     "start_time": "2025-05-17T22:14:55.130018Z"
    }
   },
   "source": [
    "import pandas as pd\n",
    "import matplotlib.pyplot as plt\n",
    "import gdown\n",
    "import zipfile\n",
    "import os"
   ],
   "outputs": [],
   "execution_count": 196
  },
  {
   "metadata": {
    "ExecuteTime": {
     "end_time": "2025-05-17T22:15:05.546831Z",
     "start_time": "2025-05-17T22:14:55.257824Z"
    }
   },
   "cell_type": "code",
   "source": [
    "# Loading main data from GDrive.\n",
    "file_id = \"1omkd2We20kQ5fmJBLvm46SARBBXEmWJI\"\n",
    "url = f\"https://drive.google.com/uc?id={file_id}\"\n",
    "file_extension = \"downloaded_file.csv\"\n",
    "gdown.download(url, file_extension, quiet=False)\n",
    "df = pd.read_csv(file_extension, sep=\",\")"
   ],
   "id": "eb756af13da3a08b",
   "outputs": [
    {
     "name": "stderr",
     "output_type": "stream",
     "text": [
      "Downloading...\n",
      "From (original): https://drive.google.com/uc?id=1omkd2We20kQ5fmJBLvm46SARBBXEmWJI\n",
      "From (redirected): https://drive.google.com/uc?id=1omkd2We20kQ5fmJBLvm46SARBBXEmWJI&confirm=t&uuid=61c039d9-0af2-492f-a37b-b6a32a25bcc3\n",
      "To: C:\\Users\\Konrad\\Desktop\\Magisterka\\Kod\\2024-mgr-sluzba-cywilna\\Python\\Code\\downloaded_file.csv\n",
      "100%|██████████| 254M/254M [00:03<00:00, 66.2MB/s] \n"
     ]
    }
   ],
   "execution_count": 197
  },
  {
   "metadata": {},
   "cell_type": "markdown",
   "source": "### Main data preprocessing",
   "id": "a5cdcf2fd7056364"
  },
  {
   "metadata": {
    "ExecuteTime": {
     "end_time": "2025-05-17T22:15:05.589313Z",
     "start_time": "2025-05-17T22:15:05.547834Z"
    }
   },
   "cell_type": "code",
   "source": [
    "merged_bdl = df.copy()\n",
    "\n",
    "# More intuitive names.\n",
    "columns_to_rename = {\n",
    "    \"REGON\": \"REGON_of_district\",\n",
    "    \"wynagrodzenia\": \"bdl_avg_district_salary_per_year\",\n",
    "    \"year_announced\": \"year\",\n",
    "    \"promocja\": \"advertised_institution\",\n",
    "    \"kandydaci\": \"applicants\",\n",
    "    \"views\": \"ad_views\",\n",
    "    \"JPT_NAZWA_\": \"district_name\"\n",
    "}\n",
    "\n",
    "for key, value in columns_to_rename.items():\n",
    "    merged_bdl.rename(columns={key: value}, inplace=True)"
   ],
   "id": "fc9d6dbf50ef6137",
   "outputs": [],
   "execution_count": 198
  },
  {
   "metadata": {
    "ExecuteTime": {
     "end_time": "2025-05-17T22:15:05.636254Z",
     "start_time": "2025-05-17T22:15:05.606648Z"
    }
   },
   "cell_type": "code",
   "source": [
    "# Inconsistent data types (for later merge).\n",
    "merged_bdl['district'] = merged_bdl['district'].astype(str)\n",
    "merged_bdl['voivodeship'] = merged_bdl['voivodeship'].astype(str)\n",
    "merged_bdl['year'] = merged_bdl['year'].astype(int)"
   ],
   "id": "fe4a9dc87830572",
   "outputs": [],
   "execution_count": 199
  },
  {
   "metadata": {},
   "cell_type": "markdown",
   "source": "### BDL data preprocessing\n",
   "id": "2c2ec27125fd44c7"
  },
  {
   "metadata": {
    "ExecuteTime": {
     "end_time": "2025-05-17T22:15:35.668789Z",
     "start_time": "2025-05-17T22:15:05.651438Z"
    }
   },
   "cell_type": "code",
   "source": [
    "# Importing BDL data.\n",
    "\n",
    "cena_mieszkan = pd.DataFrame()\n",
    "mediana_wieku = pd.DataFrame()\n",
    "saldo_migracji = pd.DataFrame() # dotyczy osób w wieku produkcyjnym\n",
    "wsp_feminizacji = pd.DataFrame()\n",
    "wydatki_powiat = pd.DataFrame() # w złotówkach\n",
    "wynagrodzenia = pd.DataFrame() # w złotówkach\n",
    "kapital_zagraniczny = pd.DataFrame()\n",
    "bezrobocie = pd.DataFrame()\n",
    "\n",
    "bdl_dfs_list = [\n",
    "    cena_mieszkan,\n",
    "    mediana_wieku,\n",
    "    saldo_migracji,\n",
    "    wsp_feminizacji,\n",
    "    wydatki_powiat,\n",
    "    wynagrodzenia,\n",
    "    kapital_zagraniczny,\n",
    "    bezrobocie\n",
    "]\n",
    "\n",
    "file_ids = {\n",
    "    \"cena_mieszkan\": \"12UWwTtqRazIEctdzxib34fs8I_-ZUOD7\",\n",
    "    \"mediana_wieku\": \"1D8jvho56cqn5dNGhMPaHujF3tmoQ1L6K\",\n",
    "    \"saldo_migracji\": \"1sVL3iXGzc9D2k38ogErl84mVIzl6SzIP\",\n",
    "    \"wsp_feminizacji\": \"163IRO4q5iU-MdyN3kYXkFHDavpyr353f\",\n",
    "    \"wydatki_powiat\": \"1YMXflzDmozNqxQLpcd6oc1e1vtUVyUtS\",\n",
    "    \"wynagrodzenia\": \"104z3VjCcv66e2L034D-o3vJY2wROJwCY\",\n",
    "    \"kapital_zagraniczny\": \"1cthFg7vwfyQdrHjce4MDCst3cktJaJq0\",\n",
    "    \"bezrobocie\": \"1vi07rn-mKkDHaWVtQchGJhs0VQIKmFr5\"\n",
    "}\n",
    "\n",
    "for i in range(len(file_ids)):\n",
    "    url = f\"https://drive.google.com/uc?id={list(file_ids.values())[i]}\"\n",
    "    file_extension = \"downloaded_file.csv\"\n",
    "    gdown.download(url, file_extension, quiet=False)\n",
    "    bdl_dfs_list[i] = pd.read_csv(file_extension, sep=\";\", on_bad_lines='skip')"
   ],
   "id": "717b06fe133681cb",
   "outputs": [
    {
     "name": "stderr",
     "output_type": "stream",
     "text": [
      "Downloading...\n",
      "From: https://drive.google.com/uc?id=12UWwTtqRazIEctdzxib34fs8I_-ZUOD7\n",
      "To: C:\\Users\\Konrad\\Desktop\\Magisterka\\Kod\\2024-mgr-sluzba-cywilna\\Python\\Code\\downloaded_file.csv\n",
      "100%|██████████| 204k/204k [00:00<00:00, 4.32MB/s]\n",
      "Downloading...\n",
      "From: https://drive.google.com/uc?id=1D8jvho56cqn5dNGhMPaHujF3tmoQ1L6K\n",
      "To: C:\\Users\\Konrad\\Desktop\\Magisterka\\Kod\\2024-mgr-sluzba-cywilna\\Python\\Code\\downloaded_file.csv\n",
      "100%|██████████| 144k/144k [00:00<00:00, 2.27MB/s]\n",
      "Downloading...\n",
      "From: https://drive.google.com/uc?id=1sVL3iXGzc9D2k38ogErl84mVIzl6SzIP\n",
      "To: C:\\Users\\Konrad\\Desktop\\Magisterka\\Kod\\2024-mgr-sluzba-cywilna\\Python\\Code\\downloaded_file.csv\n",
      "100%|██████████| 259k/259k [00:00<00:00, 4.04MB/s]\n",
      "Downloading...\n",
      "From: https://drive.google.com/uc?id=163IRO4q5iU-MdyN3kYXkFHDavpyr353f\n",
      "To: C:\\Users\\Konrad\\Desktop\\Magisterka\\Kod\\2024-mgr-sluzba-cywilna\\Python\\Code\\downloaded_file.csv\n",
      "100%|██████████| 176k/176k [00:00<00:00, 3.70MB/s]\n",
      "Downloading...\n",
      "From: https://drive.google.com/uc?id=1YMXflzDmozNqxQLpcd6oc1e1vtUVyUtS\n",
      "To: C:\\Users\\Konrad\\Desktop\\Magisterka\\Kod\\2024-mgr-sluzba-cywilna\\Python\\Code\\downloaded_file.csv\n",
      "100%|██████████| 150k/150k [00:00<00:00, 2.37MB/s]\n",
      "Downloading...\n",
      "From: https://drive.google.com/uc?id=104z3VjCcv66e2L034D-o3vJY2wROJwCY\n",
      "To: C:\\Users\\Konrad\\Desktop\\Magisterka\\Kod\\2024-mgr-sluzba-cywilna\\Python\\Code\\downloaded_file.csv\n",
      "100%|██████████| 575k/575k [00:00<00:00, 6.05MB/s]\n",
      "Downloading...\n",
      "From: https://drive.google.com/uc?id=1cthFg7vwfyQdrHjce4MDCst3cktJaJq0\n",
      "To: C:\\Users\\Konrad\\Desktop\\Magisterka\\Kod\\2024-mgr-sluzba-cywilna\\Python\\Code\\downloaded_file.csv\n",
      "100%|██████████| 38.4k/38.4k [00:00<00:00, 1.20MB/s]\n",
      "Downloading...\n",
      "From: https://drive.google.com/uc?id=1vi07rn-mKkDHaWVtQchGJhs0VQIKmFr5\n",
      "To: C:\\Users\\Konrad\\Desktop\\Magisterka\\Kod\\2024-mgr-sluzba-cywilna\\Python\\Code\\downloaded_file.csv\n",
      "100%|██████████| 83.5k/83.5k [00:00<00:00, 1.75MB/s]\n"
     ]
    }
   ],
   "execution_count": 200
  },
  {
   "metadata": {
    "ExecuteTime": {
     "end_time": "2025-05-17T22:15:35.687929Z",
     "start_time": "2025-05-17T22:15:35.683729Z"
    }
   },
   "cell_type": "code",
   "source": [
    "# Wybieram interesujące mnie kolumny dotyczące bezrobocia.\n",
    "bdl_dfs_list[7] = pd.concat([bdl_dfs_list[7].iloc[:, [0]], bdl_dfs_list[7].iloc[:, 26:32]], axis=1)\n",
    "\n",
    "# # Wybieram interesujące mnie kolumny dotyczące udziału kapitału zagranicznego.\n",
    "bdl_dfs_list[6] = pd.concat([bdl_dfs_list[6].iloc[:, [0]], bdl_dfs_list[6].iloc[:, 14:20]], axis=1)"
   ],
   "id": "85a77ec4a02c3fd6",
   "outputs": [],
   "execution_count": 201
  },
  {
   "metadata": {
    "ExecuteTime": {
     "end_time": "2025-05-17T22:15:35.711981Z",
     "start_time": "2025-05-17T22:15:35.702999Z"
    }
   },
   "cell_type": "code",
   "source": [
    "# Removing unnecessary columns.\n",
    "\n",
    "unique_columns_to_delete = [\n",
    "    [\"Transakcje rynkowe\", \"Powierzchnia użytkowa lokali mieszkalnych\"],\n",
    "    [\"Migracje\", \"Wiek\"],\n",
    "    [\"Ogółem\"],\n",
    "    [\"Wskaźniki\"],\n",
    "    [\"Wyszczególnienie\"],\n",
    "    [\"Płeć\"]\n",
    "]\n",
    "\n",
    "for i in range(len(bdl_dfs_list)):\n",
    "    try:\n",
    "        bdl_dfs_list[i].drop([\"Nazwa\", \"Jednostka miary\", \"Atrybut\"], axis=1, inplace=True)\n",
    "        bdl_dfs_list[i] = bdl_dfs_list[i].iloc[:, :-1] # the last column has a different name in every df and is always unnecessary.\n",
    "    except:\n",
    "        pass\n",
    "\n",
    "    # Columns unique for single dataframes.\n",
    "    for columns in unique_columns_to_delete:\n",
    "        try:\n",
    "            bdl_dfs_list[i].drop(columns, axis=1, inplace=True)\n",
    "        except:\n",
    "            pass"
   ],
   "id": "eadf2b79477ee0d5",
   "outputs": [],
   "execution_count": 202
  },
  {
   "metadata": {
    "ExecuteTime": {
     "end_time": "2025-05-17T22:15:35.730590Z",
     "start_time": "2025-05-17T22:15:35.726941Z"
    }
   },
   "cell_type": "code",
   "source": [
    "# Renaming columns with the same name across multiple dataframes.\n",
    "try:\n",
    "    for i in range(len(bdl_dfs_list)):\n",
    "        bdl_dfs_list[i].rename(columns={\"Wartosc\": list(file_ids.keys())[i]}, inplace=True)\n",
    "except:\n",
    "    pass"
   ],
   "id": "1c1b2e760c0efc2a",
   "outputs": [],
   "execution_count": 203
  },
  {
   "metadata": {
    "ExecuteTime": {
     "end_time": "2025-05-17T22:15:35.751233Z",
     "start_time": "2025-05-17T22:15:35.746079Z"
    }
   },
   "cell_type": "code",
   "source": [
    "# Cleaning non-absolute values of salaries.\n",
    "bdl_dfs_list[5][\"wynagrodzenia\"] = (\n",
    "    bdl_dfs_list[5][\"wynagrodzenia\"]\n",
    "    .str.replace(\",\", \".\", regex=False)\n",
    "    .astype(float)\n",
    ")\n",
    "\n",
    "bdl_dfs_list[5] = bdl_dfs_list[5][bdl_dfs_list[5][\"wynagrodzenia\"] >= 2200]"
   ],
   "id": "8bb7ac9b38efa72d",
   "outputs": [],
   "execution_count": 204
  },
  {
   "metadata": {
    "ExecuteTime": {
     "end_time": "2025-05-17T22:15:35.773824Z",
     "start_time": "2025-05-17T22:15:35.766132Z"
    }
   },
   "cell_type": "code",
   "source": [
    "bdl_dfs_list[6] = pd.melt(\n",
    "    bdl_dfs_list[6],\n",
    "    id_vars=['Kod'],\n",
    "    value_vars=['kapitał zagraniczny na 1 mieszkańca w wieku produkcyjnym;2018;[zł]', 'kapitał zagraniczny na 1 mieszkańca w wieku produkcyjnym;2019;[zł]', 'kapitał zagraniczny na 1 mieszkańca w wieku produkcyjnym;2020;[zł]', 'kapitał zagraniczny na 1 mieszkańca w wieku produkcyjnym;2021;[zł]', 'kapitał zagraniczny na 1 mieszkańca w wieku produkcyjnym;2022;[zł]', 'kapitał zagraniczny na 1 mieszkańca w wieku produkcyjnym;2023;[zł]'],\n",
    "    var_name='Rok',\n",
    "    value_name='foreign_capital'\n",
    ")\n",
    "\n",
    "# Strip the 'value' prefix to keep only the year\n",
    "bdl_dfs_list[6]['Rok'] = bdl_dfs_list[6]['Rok'].str.extract(r'(\\d{4})')"
   ],
   "id": "e120bcccb1afe2cc",
   "outputs": [],
   "execution_count": 205
  },
  {
   "metadata": {
    "ExecuteTime": {
     "end_time": "2025-05-17T22:15:35.796436Z",
     "start_time": "2025-05-17T22:15:35.789751Z"
    }
   },
   "cell_type": "code",
   "source": [
    "bdl_dfs_list[7] = pd.melt(\n",
    "    bdl_dfs_list[7],\n",
    "    id_vars=['Kod'],\n",
    "    value_vars=['w % ludności aktywnej zawodowo;2018;[%]', 'w % ludności aktywnej zawodowo;2019;[%]', 'w % ludności aktywnej zawodowo;2020;[%]', 'w % ludności aktywnej zawodowo;2021;[%]', 'w % ludności aktywnej zawodowo;2022;[%]', 'w % ludności aktywnej zawodowo;2023;[%]'],\n",
    "    var_name='Rok',\n",
    "    value_name='unemployment'\n",
    ")\n",
    "\n",
    "# Strip the 'value' prefix to keep only the year\n",
    "bdl_dfs_list[7]['Rok'] = bdl_dfs_list[7]['Rok'].str.extract(r'(\\d{4})')"
   ],
   "id": "996294cc475b0ebe",
   "outputs": [],
   "execution_count": 206
  },
  {
   "metadata": {},
   "cell_type": "markdown",
   "source": "### Merge",
   "id": "fb246e9da91ce2d8"
  },
  {
   "metadata": {
    "ExecuteTime": {
     "end_time": "2025-05-17T22:15:36.400997Z",
     "start_time": "2025-05-17T22:15:35.832339Z"
    }
   },
   "cell_type": "code",
   "source": [
    "for i in range(len(bdl_dfs_list)):\n",
    "    bdl_dfs_list[i]['Kod'] = bdl_dfs_list[i]['Kod'].astype(str)\n",
    "\n",
    "    mask_whole_country_or_voivodeships = ((bdl_dfs_list[i]['Kod'].str[0] == \"0\") & (bdl_dfs_list[i]['Kod'].str[2] == \"0\") & (bdl_dfs_list[i]['Kod'].str[3] == \"0\"))\n",
    "    bdl_dfs_list[i] = bdl_dfs_list[i][~mask_whole_country_or_voivodeships]\n",
    "\n",
    "    # For single-digit voivodeships, the code's length is 6.\n",
    "    mask_length_6 = (bdl_dfs_list[i]['Kod'].str.len() == 6) \n",
    "    mask_length_7 = (bdl_dfs_list[i]['Kod'].str.len() == 7)\n",
    "\n",
    "    # Single-digits districts include 0 and we want to remove it (e.g. '07' instead of '7').\n",
    "    mask_district_single_digit_length_6 = ((bdl_dfs_list[i]['Kod'].str[1] == \"0\") & mask_length_6)\n",
    "    mask_district_non_single_digit_length_6 = ((bdl_dfs_list[i]['Kod'].str[1] != \"0\") & mask_length_6)\n",
    "    mask_district_single_length_7 = ((bdl_dfs_list[i]['Kod'].str[2] == \"0\") & mask_length_7)\n",
    "    mask_district_non_single_length_7 = ((bdl_dfs_list[i]['Kod'].str[2] != \"0\") & mask_length_7)\n",
    "    \n",
    "    # Districts.\n",
    "    bdl_dfs_list[i].loc[mask_district_single_digit_length_6, 'district'] = bdl_dfs_list[i].loc[mask_district_single_digit_length_6, 'Kod'].str[2:3]\n",
    "    bdl_dfs_list[i].loc[mask_district_non_single_digit_length_6, 'district'] = bdl_dfs_list[i].loc[mask_district_non_single_digit_length_6, 'Kod'].str[1:3]\n",
    "    bdl_dfs_list[i].loc[mask_district_single_length_7, 'district'] = bdl_dfs_list[i].loc[mask_district_single_length_7, 'Kod'].str[3:4]\n",
    "    bdl_dfs_list[i].loc[mask_district_non_single_length_7, 'district'] = bdl_dfs_list[i].loc[mask_district_non_single_length_7, 'Kod'].str[2:4]\n",
    "    \n",
    "    # Voivodeships.\n",
    "    bdl_dfs_list[i].loc[mask_length_6, 'voivodeship'] = bdl_dfs_list[i].loc[mask_length_6, 'Kod'].str[0:1]\n",
    "    bdl_dfs_list[i].loc[mask_length_7, 'voivodeship'] = bdl_dfs_list[i].loc[mask_length_7, 'Kod'].str[0:2]\n",
    "\n",
    "    bdl_dfs_list[i]['Rok'] = bdl_dfs_list[i]['Rok'].astype(int)\n",
    "    bdl_dfs_list[i].drop(['Kod'], axis=1, inplace=True)\n",
    "\n",
    "    # Merge\n",
    "    merged_bdl = pd.merge(merged_bdl, bdl_dfs_list[i], left_on=[\"district\", \"voivodeship\", \"year\"], right_on=[\"district\", \"voivodeship\", \"Rok\"], how=\"left\")\n",
    "    merged_bdl.drop([\"Rok\"], axis=1, inplace=True)"
   ],
   "id": "236922c14a4e0225",
   "outputs": [],
   "execution_count": 208
  },
  {
   "metadata": {
    "ExecuteTime": {
     "end_time": "2025-05-17T22:17:04.417451Z",
     "start_time": "2025-05-17T22:17:04.391444Z"
    }
   },
   "cell_type": "code",
   "source": [
    "# Removing 2017 data (too few records).\n",
    "merged_bdl = merged_bdl[merged_bdl[\"year\"] > 2017]"
   ],
   "id": "a9d6bf0bcbc19238",
   "outputs": [],
   "execution_count": 212
  }
 ],
 "metadata": {
  "kernelspec": {
   "display_name": "Python 3",
   "language": "python",
   "name": "python3"
  },
  "language_info": {
   "codemirror_mode": {
    "name": "ipython",
    "version": 2
   },
   "file_extension": ".py",
   "mimetype": "text/x-python",
   "name": "python",
   "nbconvert_exporter": "python",
   "pygments_lexer": "ipython2",
   "version": "2.7.6"
  }
 },
 "nbformat": 4,
 "nbformat_minor": 5
}
