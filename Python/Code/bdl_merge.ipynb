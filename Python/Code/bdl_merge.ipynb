{
 "cells": [
  {
   "cell_type": "code",
   "id": "initial_id",
   "metadata": {
    "collapsed": true,
    "ExecuteTime": {
     "end_time": "2025-04-26T13:26:49.080135Z",
     "start_time": "2025-04-26T13:26:48.750773Z"
    }
   },
   "source": [
    "import pandas as pd\n",
    "import matplotlib.pyplot as plt\n",
    "import gdown\n",
    "import zipfile\n",
    "import os"
   ],
   "outputs": [],
   "execution_count": 1
  },
  {
   "metadata": {
    "ExecuteTime": {
     "end_time": "2025-04-26T13:26:56.501222Z",
     "start_time": "2025-04-26T13:26:49.087649Z"
    }
   },
   "cell_type": "code",
   "source": [
    "# Loading main data from GDrive.\n",
    "file_id = \"1MNRptIrru5k8FJpBek1gmBK-codD1BDl\"\n",
    "url = f\"https://drive.google.com/uc?id={file_id}\"\n",
    "file_extension = \"downloaded_file.csv\"\n",
    "gdown.download(url, file_extension, quiet=False)\n",
    "df = pd.read_csv(file_extension, sep=\",\")"
   ],
   "id": "eb756af13da3a08b",
   "outputs": [
    {
     "name": "stderr",
     "output_type": "stream",
     "text": [
      "Downloading...\n",
      "From (original): https://drive.google.com/uc?id=1MNRptIrru5k8FJpBek1gmBK-codD1BDl\n",
      "From (redirected): https://drive.google.com/uc?id=1MNRptIrru5k8FJpBek1gmBK-codD1BDl&confirm=t&uuid=947992c6-0758-4ecb-abf3-68a7092d85ff\n",
      "To: C:\\Users\\Konrad\\Desktop\\Magisterka\\Kod\\2024-mgr-sluzba-cywilna\\Python\\Code\\downloaded_file.csv\n",
      "100%|██████████| 254M/254M [00:03<00:00, 64.6MB/s] \n"
     ]
    }
   ],
   "execution_count": 2
  },
  {
   "metadata": {},
   "cell_type": "markdown",
   "source": "### Main data preprocessing",
   "id": "a5cdcf2fd7056364"
  },
  {
   "metadata": {
    "ExecuteTime": {
     "end_time": "2025-04-26T13:26:56.709222Z",
     "start_time": "2025-04-26T13:26:56.696262Z"
    }
   },
   "cell_type": "code",
   "source": [
    "merged_bdl = df.copy()\n",
    "\n",
    "# More intuitive names.\n",
    "columns_to_rename = {\n",
    "    \"REGON\": \"REGON_of_district\",\n",
    "    \"wynagrodzenia\": \"bdl_avg_district_salary_per_year\",\n",
    "    \"year_announced\": \"year\",\n",
    "    \"promocja\": \"advertised_institution\",\n",
    "    \"kandydaci\": \"applicants\",\n",
    "    \"views\": \"ad_views\",\n",
    "    \"JPT_NAZWA_\": \"district_name\"\n",
    "}\n",
    "\n",
    "for key, value in columns_to_rename.items():\n",
    "    merged_bdl.rename(columns={key: value}, inplace=True)"
   ],
   "id": "fc9d6dbf50ef6137",
   "outputs": [],
   "execution_count": 3
  },
  {
   "metadata": {
    "ExecuteTime": {
     "end_time": "2025-04-26T13:27:47.067203Z",
     "start_time": "2025-04-26T13:27:47.040848Z"
    }
   },
   "cell_type": "code",
   "source": [
    "# Inconsistent data types (for later merge).\n",
    "merged_bdl['district'] = merged_bdl['district'].astype(str)\n",
    "merged_bdl['voivodeship'] = merged_bdl['voivodeship'].astype(str)\n",
    "merged_bdl['year'] = merged_bdl['year'].astype(int)"
   ],
   "id": "fe4a9dc87830572",
   "outputs": [],
   "execution_count": 4
  },
  {
   "metadata": {},
   "cell_type": "markdown",
   "source": "### BDL data preprocessing\n",
   "id": "2c2ec27125fd44c7"
  },
  {
   "metadata": {
    "ExecuteTime": {
     "end_time": "2025-04-26T13:28:15.754881Z",
     "start_time": "2025-04-26T13:27:52.194740Z"
    }
   },
   "cell_type": "code",
   "source": [
    "# Importing BDL data.\n",
    "\n",
    "cena_mieszkan = pd.DataFrame()\n",
    "mediana_wieku = pd.DataFrame()\n",
    "saldo_migracji = pd.DataFrame() # dotyczy osób w wieku produkcyjnym\n",
    "wsp_feminizacji = pd.DataFrame()\n",
    "wydatki_powiat = pd.DataFrame() # w złotówkach\n",
    "wynagrodzenia = pd.DataFrame() # w złotówkach\n",
    "\n",
    "bdl_dfs_list = [\n",
    "    cena_mieszkan,\n",
    "    mediana_wieku,\n",
    "    saldo_migracji,\n",
    "    wsp_feminizacji,\n",
    "    wydatki_powiat,\n",
    "    wynagrodzenia\n",
    "]\n",
    "\n",
    "file_ids = {\n",
    "    \"cena_mieszkan\": \"12UWwTtqRazIEctdzxib34fs8I_-ZUOD7\",\n",
    "    \"mediana_wieku\": \"1D8jvho56cqn5dNGhMPaHujF3tmoQ1L6K\",\n",
    "    \"saldo_migracji\": \"1sVL3iXGzc9D2k38ogErl84mVIzl6SzIP\",\n",
    "    \"wsp_feminizacji\": \"163IRO4q5iU-MdyN3kYXkFHDavpyr353f\",\n",
    "    \"wydatki_powiat\": \"1YMXflzDmozNqxQLpcd6oc1e1vtUVyUtS\",\n",
    "    \"wynagrodzenia\": \"104z3VjCcv66e2L034D-o3vJY2wROJwCY\"\n",
    "}\n",
    "\n",
    "for i in range(len(file_ids)):\n",
    "    url = f\"https://drive.google.com/uc?id={list(file_ids.values())[i]}\"\n",
    "    file_extension = \"downloaded_file.csv\"\n",
    "    gdown.download(url, file_extension, quiet=False)\n",
    "    bdl_dfs_list[i] = pd.read_csv(file_extension, sep=\";\", on_bad_lines='skip')"
   ],
   "id": "717b06fe133681cb",
   "outputs": [
    {
     "name": "stderr",
     "output_type": "stream",
     "text": [
      "Downloading...\n",
      "From: https://drive.google.com/uc?id=12UWwTtqRazIEctdzxib34fs8I_-ZUOD7\n",
      "To: C:\\Users\\Konrad\\Desktop\\Magisterka\\Kod\\2024-mgr-sluzba-cywilna\\Python\\Code\\downloaded_file.csv\n",
      "100%|██████████| 204k/204k [00:00<00:00, 3.29MB/s]\n",
      "Downloading...\n",
      "From: https://drive.google.com/uc?id=1D8jvho56cqn5dNGhMPaHujF3tmoQ1L6K\n",
      "To: C:\\Users\\Konrad\\Desktop\\Magisterka\\Kod\\2024-mgr-sluzba-cywilna\\Python\\Code\\downloaded_file.csv\n",
      "100%|██████████| 144k/144k [00:00<00:00, 3.95MB/s]\n",
      "Downloading...\n",
      "From: https://drive.google.com/uc?id=1sVL3iXGzc9D2k38ogErl84mVIzl6SzIP\n",
      "To: C:\\Users\\Konrad\\Desktop\\Magisterka\\Kod\\2024-mgr-sluzba-cywilna\\Python\\Code\\downloaded_file.csv\n",
      "100%|██████████| 259k/259k [00:00<00:00, 3.73MB/s]\n",
      "Downloading...\n",
      "From: https://drive.google.com/uc?id=163IRO4q5iU-MdyN3kYXkFHDavpyr353f\n",
      "To: C:\\Users\\Konrad\\Desktop\\Magisterka\\Kod\\2024-mgr-sluzba-cywilna\\Python\\Code\\downloaded_file.csv\n",
      "100%|██████████| 176k/176k [00:00<00:00, 3.07MB/s]\n",
      "Downloading...\n",
      "From: https://drive.google.com/uc?id=1YMXflzDmozNqxQLpcd6oc1e1vtUVyUtS\n",
      "To: C:\\Users\\Konrad\\Desktop\\Magisterka\\Kod\\2024-mgr-sluzba-cywilna\\Python\\Code\\downloaded_file.csv\n",
      "100%|██████████| 150k/150k [00:00<00:00, 2.48MB/s]\n",
      "Downloading...\n",
      "From: https://drive.google.com/uc?id=104z3VjCcv66e2L034D-o3vJY2wROJwCY\n",
      "To: C:\\Users\\Konrad\\Desktop\\Magisterka\\Kod\\2024-mgr-sluzba-cywilna\\Python\\Code\\downloaded_file.csv\n",
      "100%|██████████| 575k/575k [00:00<00:00, 6.39MB/s]\n"
     ]
    }
   ],
   "execution_count": 5
  },
  {
   "metadata": {
    "ExecuteTime": {
     "end_time": "2025-04-26T13:28:15.777012Z",
     "start_time": "2025-04-26T13:28:15.755523Z"
    }
   },
   "cell_type": "code",
   "source": [
    "# Removing unnecessary columns.\n",
    "\n",
    "unique_columns_to_delete = [\n",
    "    [\"Transakcje rynkowe\", \"Powierzchnia użytkowa lokali mieszkalnych\"],\n",
    "    [\"Migracje\", \"Wiek\"],\n",
    "    [\"Ogółem\"],\n",
    "    [\"Wskaźniki\"],\n",
    "    [\"Wyszczególnienie\"],\n",
    "    [\"Płeć\"]\n",
    "]\n",
    "\n",
    "for i in range(len(bdl_dfs_list)):\n",
    "    try:\n",
    "        bdl_dfs_list[i].drop([\"Nazwa\", \"Jednostka miary\", \"Atrybut\"], axis=1, inplace=True)\n",
    "        bdl_dfs_list[i] = bdl_dfs_list[i].iloc[:, :-1] # the last column has a different name in every df and is always unnecessary.\n",
    "    except:\n",
    "        pass\n",
    "\n",
    "    # Columns unique for single dataframes.\n",
    "    for columns in unique_columns_to_delete:\n",
    "        try:\n",
    "            bdl_dfs_list[i].drop(columns, axis=1, inplace=True)\n",
    "        except:\n",
    "            pass"
   ],
   "id": "eadf2b79477ee0d5",
   "outputs": [],
   "execution_count": 6
  },
  {
   "metadata": {
    "ExecuteTime": {
     "end_time": "2025-04-26T13:28:15.793668Z",
     "start_time": "2025-04-26T13:28:15.789575Z"
    }
   },
   "cell_type": "code",
   "source": [
    "# Renaming columns with the same name across multiple dataframes.\n",
    "for i in range(len(bdl_dfs_list)):\n",
    "    bdl_dfs_list[i].rename(columns={\"Wartosc\": list(file_ids.keys())[i]}, inplace=True)"
   ],
   "id": "1c1b2e760c0efc2a",
   "outputs": [],
   "execution_count": 7
  },
  {
   "metadata": {
    "ExecuteTime": {
     "end_time": "2025-04-26T13:31:47.324664Z",
     "start_time": "2025-04-26T13:31:47.315669Z"
    }
   },
   "cell_type": "code",
   "source": [
    "# Cleaning non-absolute values of salaries.\n",
    "bdl_dfs_list[5][\"wynagrodzenia\"] = (\n",
    "    bdl_dfs_list[5][\"wynagrodzenia\"]\n",
    "    .str.replace(\",\", \".\", regex=False)\n",
    "    .astype(float)\n",
    ")\n",
    "\n",
    "bdl_dfs_list[5] = bdl_dfs_list[5][bdl_dfs_list[5][\"wynagrodzenia\"] >= 2500]"
   ],
   "id": "8bb7ac9b38efa72d",
   "outputs": [
    {
     "data": {
      "text/plain": [
       "          Kod   Rok  wynagrodzenia\n",
       "0           0  2017        4527.89\n",
       "1           0  2018        4834.76\n",
       "2           0  2019        5181.63\n",
       "3           0  2020        5523.32\n",
       "4           0  2021        6001.02\n",
       "...       ...   ...            ...\n",
       "5546  3263000  2019        5222.62\n",
       "5547  3263000  2020        5517.68\n",
       "5548  3263000  2021        5564.41\n",
       "5549  3263000  2022        6061.29\n",
       "5550  3263000  2023        6847.78\n",
       "\n",
       "[2777 rows x 3 columns]"
      ],
      "text/html": [
       "<div>\n",
       "<style scoped>\n",
       "    .dataframe tbody tr th:only-of-type {\n",
       "        vertical-align: middle;\n",
       "    }\n",
       "\n",
       "    .dataframe tbody tr th {\n",
       "        vertical-align: top;\n",
       "    }\n",
       "\n",
       "    .dataframe thead th {\n",
       "        text-align: right;\n",
       "    }\n",
       "</style>\n",
       "<table border=\"1\" class=\"dataframe\">\n",
       "  <thead>\n",
       "    <tr style=\"text-align: right;\">\n",
       "      <th></th>\n",
       "      <th>Kod</th>\n",
       "      <th>Rok</th>\n",
       "      <th>wynagrodzenia</th>\n",
       "    </tr>\n",
       "  </thead>\n",
       "  <tbody>\n",
       "    <tr>\n",
       "      <th>0</th>\n",
       "      <td>0</td>\n",
       "      <td>2017</td>\n",
       "      <td>4527.89</td>\n",
       "    </tr>\n",
       "    <tr>\n",
       "      <th>1</th>\n",
       "      <td>0</td>\n",
       "      <td>2018</td>\n",
       "      <td>4834.76</td>\n",
       "    </tr>\n",
       "    <tr>\n",
       "      <th>2</th>\n",
       "      <td>0</td>\n",
       "      <td>2019</td>\n",
       "      <td>5181.63</td>\n",
       "    </tr>\n",
       "    <tr>\n",
       "      <th>3</th>\n",
       "      <td>0</td>\n",
       "      <td>2020</td>\n",
       "      <td>5523.32</td>\n",
       "    </tr>\n",
       "    <tr>\n",
       "      <th>4</th>\n",
       "      <td>0</td>\n",
       "      <td>2021</td>\n",
       "      <td>6001.02</td>\n",
       "    </tr>\n",
       "    <tr>\n",
       "      <th>...</th>\n",
       "      <td>...</td>\n",
       "      <td>...</td>\n",
       "      <td>...</td>\n",
       "    </tr>\n",
       "    <tr>\n",
       "      <th>5546</th>\n",
       "      <td>3263000</td>\n",
       "      <td>2019</td>\n",
       "      <td>5222.62</td>\n",
       "    </tr>\n",
       "    <tr>\n",
       "      <th>5547</th>\n",
       "      <td>3263000</td>\n",
       "      <td>2020</td>\n",
       "      <td>5517.68</td>\n",
       "    </tr>\n",
       "    <tr>\n",
       "      <th>5548</th>\n",
       "      <td>3263000</td>\n",
       "      <td>2021</td>\n",
       "      <td>5564.41</td>\n",
       "    </tr>\n",
       "    <tr>\n",
       "      <th>5549</th>\n",
       "      <td>3263000</td>\n",
       "      <td>2022</td>\n",
       "      <td>6061.29</td>\n",
       "    </tr>\n",
       "    <tr>\n",
       "      <th>5550</th>\n",
       "      <td>3263000</td>\n",
       "      <td>2023</td>\n",
       "      <td>6847.78</td>\n",
       "    </tr>\n",
       "  </tbody>\n",
       "</table>\n",
       "<p>2777 rows × 3 columns</p>\n",
       "</div>"
      ]
     },
     "execution_count": 17,
     "metadata": {},
     "output_type": "execute_result"
    }
   ],
   "execution_count": 17
  },
  {
   "metadata": {},
   "cell_type": "markdown",
   "source": "### Merge",
   "id": "fb246e9da91ce2d8"
  },
  {
   "metadata": {
    "ExecuteTime": {
     "end_time": "2025-04-26T13:33:15.826552Z",
     "start_time": "2025-04-26T13:33:15.401783Z"
    }
   },
   "cell_type": "code",
   "source": [
    "for i in range(len(bdl_dfs_list)):\n",
    "    bdl_dfs_list[i]['Kod'] = bdl_dfs_list[i]['Kod'].astype(str)\n",
    "    \n",
    "    mask_whole_country = (bdl_dfs_list[i]['Kod'].str[0] == \"0\")\n",
    "    mask_whole_voivodeships = ((bdl_dfs_list[i]['Kod'].str[1] == \"0\") & (bdl_dfs_list[i]['Kod'].str[2] == \"0\"))\n",
    "    \n",
    "    bdl_dfs_list[i] = bdl_dfs_list[i][~mask_whole_country]\n",
    "    bdl_dfs_list[i] = bdl_dfs_list[i][~mask_whole_voivodeships]\n",
    "\n",
    "    # For single-digit voivodeships, the code's length is 6.\n",
    "    mask_length_6 = (bdl_dfs_list[i]['Kod'].str.len() == 6) \n",
    "    mask_length_7 = (bdl_dfs_list[i]['Kod'].str.len() == 7)\n",
    "\n",
    "    # Single-digits districts include 0 and we want to remove it (e.g. '07' instead of '7').\n",
    "    mask_district_single_digit_length_6 = ((bdl_dfs_list[i]['Kod'].str[1] == \"0\") & mask_length_6)\n",
    "    mask_district_non_single_digit_length_6 = ((bdl_dfs_list[i]['Kod'].str[1] != \"0\") & mask_length_6)\n",
    "    mask_district_single_length_7 = ((bdl_dfs_list[i]['Kod'].str[2] == \"0\") & mask_length_7)\n",
    "    mask_district_non_single_length_7 = ((bdl_dfs_list[i]['Kod'].str[2] != \"0\") & mask_length_7)\n",
    "    \n",
    "    # Districts.\n",
    "    bdl_dfs_list[i].loc[mask_district_single_digit_length_6, 'district'] = bdl_dfs_list[i].loc[mask_district_single_digit_length_6, 'Kod'].str[2:3]\n",
    "    bdl_dfs_list[i].loc[mask_district_non_single_digit_length_6, 'district'] = bdl_dfs_list[i].loc[mask_district_non_single_digit_length_6, 'Kod'].str[1:3]\n",
    "    bdl_dfs_list[i].loc[mask_district_single_length_7, 'district'] = bdl_dfs_list[i].loc[mask_district_single_length_7, 'Kod'].str[3:4]\n",
    "    bdl_dfs_list[i].loc[mask_district_non_single_length_7, 'district'] = bdl_dfs_list[i].loc[mask_district_non_single_length_7, 'Kod'].str[2:4]\n",
    "    \n",
    "    # Voivodeships.\n",
    "    bdl_dfs_list[i].loc[mask_length_6, 'voivodeship'] = bdl_dfs_list[i].loc[mask_length_6, 'Kod'].str[0:1]\n",
    "    bdl_dfs_list[i].loc[mask_length_7, 'voivodeship'] = bdl_dfs_list[i].loc[mask_length_7, 'Kod'].str[0:2]\n",
    "\n",
    "    # Inconsistent data types.\n",
    "    bdl_dfs_list[i]['district'] = bdl_dfs_list[i]['district'].astype(str)\n",
    "    bdl_dfs_list[i]['voivodeship'] = bdl_dfs_list[i]['voivodeship'].astype(str)\n",
    "    bdl_dfs_list[i]['Rok'] = bdl_dfs_list[i]['Rok'].astype(int)\n",
    "\n",
    "    bdl_dfs_list[i].drop(['Kod'], axis=1, inplace=True)\n",
    "\n",
    "    # Merge\n",
    "    merged_bdl = pd.merge(merged_bdl, bdl_dfs_list[i], left_on=[\"district\", \"voivodeship\", \"year\"], right_on=[\"district\", \"voivodeship\", \"Rok\"], how=\"left\")\n",
    "    merged_bdl.drop([\"Rok\"], axis=1, inplace=True)"
   ],
   "id": "236922c14a4e0225",
   "outputs": [
    {
     "name": "stderr",
     "output_type": "stream",
     "text": [
      "C:\\Users\\Konrad\\AppData\\Local\\Temp\\ipykernel_4384\\1083514685.py:8: UserWarning: Boolean Series key will be reindexed to match DataFrame index.\n",
      "  bdl_dfs_list[i] = bdl_dfs_list[i][~mask_whole_voivodeships]\n",
      "C:\\Users\\Konrad\\AppData\\Local\\Temp\\ipykernel_4384\\1083514685.py:8: UserWarning: Boolean Series key will be reindexed to match DataFrame index.\n",
      "  bdl_dfs_list[i] = bdl_dfs_list[i][~mask_whole_voivodeships]\n",
      "C:\\Users\\Konrad\\AppData\\Local\\Temp\\ipykernel_4384\\1083514685.py:8: UserWarning: Boolean Series key will be reindexed to match DataFrame index.\n",
      "  bdl_dfs_list[i] = bdl_dfs_list[i][~mask_whole_voivodeships]\n",
      "C:\\Users\\Konrad\\AppData\\Local\\Temp\\ipykernel_4384\\1083514685.py:8: UserWarning: Boolean Series key will be reindexed to match DataFrame index.\n",
      "  bdl_dfs_list[i] = bdl_dfs_list[i][~mask_whole_voivodeships]\n",
      "C:\\Users\\Konrad\\AppData\\Local\\Temp\\ipykernel_4384\\1083514685.py:8: UserWarning: Boolean Series key will be reindexed to match DataFrame index.\n",
      "  bdl_dfs_list[i] = bdl_dfs_list[i][~mask_whole_voivodeships]\n",
      "C:\\Users\\Konrad\\AppData\\Local\\Temp\\ipykernel_4384\\1083514685.py:2: SettingWithCopyWarning: \n",
      "A value is trying to be set on a copy of a slice from a DataFrame.\n",
      "Try using .loc[row_indexer,col_indexer] = value instead\n",
      "\n",
      "See the caveats in the documentation: https://pandas.pydata.org/pandas-docs/stable/user_guide/indexing.html#returning-a-view-versus-a-copy\n",
      "  bdl_dfs_list[i]['Kod'] = bdl_dfs_list[i]['Kod'].astype(str)\n",
      "C:\\Users\\Konrad\\AppData\\Local\\Temp\\ipykernel_4384\\1083514685.py:8: UserWarning: Boolean Series key will be reindexed to match DataFrame index.\n",
      "  bdl_dfs_list[i] = bdl_dfs_list[i][~mask_whole_voivodeships]\n"
     ]
    }
   ],
   "execution_count": 18
  }
 ],
 "metadata": {
  "kernelspec": {
   "display_name": "Python 3",
   "language": "python",
   "name": "python3"
  },
  "language_info": {
   "codemirror_mode": {
    "name": "ipython",
    "version": 2
   },
   "file_extension": ".py",
   "mimetype": "text/x-python",
   "name": "python",
   "nbconvert_exporter": "python",
   "pygments_lexer": "ipython2",
   "version": "2.7.6"
  }
 },
 "nbformat": 4,
 "nbformat_minor": 5
}
