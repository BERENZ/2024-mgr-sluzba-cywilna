{
 "cells": [
  {
   "metadata": {
    "ExecuteTime": {
     "end_time": "2024-11-14T18:06:03.995807Z",
     "start_time": "2024-11-14T18:06:03.993909Z"
    }
   },
   "cell_type": "code",
   "source": [
    "import pandas as pd\n",
    "import numpy as np\n",
    "import gdown"
   ],
   "id": "24fe45077cdb4746",
   "outputs": [],
   "execution_count": 122
  },
  {
   "metadata": {},
   "cell_type": "markdown",
   "source": "### PROMOCJA",
   "id": "5191c51026d0969"
  },
  {
   "metadata": {
    "ExecuteTime": {
     "end_time": "2024-11-14T18:06:04.273957Z",
     "start_time": "2024-11-14T18:06:04.052208Z"
    }
   },
   "cell_type": "code",
   "source": [
    "p2019 = pd.read_excel('/Users/Manuela/PycharmProjects/mgr/Data/kprm/PROMOCJA/p2019.xls', sheet_name=0, skiprows=2, names=['podmiot', 'promocja'])\n",
    "p2020 = pd.read_excel('/Users/Manuela/PycharmProjects/mgr/Data/kprm/PROMOCJA/p2020.xls', sheet_name=0, skiprows=2, names=['podmiot', 'promocja'])\n",
    "p2021 = pd.read_excel('/Users/Manuela/PycharmProjects/mgr/Data/kprm/PROMOCJA/p2021.xlsx', sheet_name=1, names=['podmiot', 'brak', 'szkoly', 'targi'] )\n",
    "p2022 = pd.read_excel('/Users/Manuela/PycharmProjects/mgr/Data/kprm/PROMOCJA/p2022.xlsx', sheet_name=0, names=['podmiot', 'brak', 'szkoly', 'targi'] )\n",
    "p2023 = pd.read_excel('/Users/Manuela/PycharmProjects/mgr/Data/kprm/PROMOCJA/p2023.xlsx', sheet_name=0, names=['podmiot', 'brak', 'szkoly', 'targi'], skipfooter=2 )\n",
    "p2019.head()"
   ],
   "id": "8191b67ca21f827d",
   "outputs": [
    {
     "data": {
      "text/plain": [
       "                                             podmiot  \\\n",
       "0            Archiwum Główne Akt Dawnych w Warszawie   \n",
       "1                   Archiwum Państwowe w Białymstoku   \n",
       "2                    Archiwum Państwowe w Bydgoszczy   \n",
       "3  Archiwum Państwowe w Elblągu z siedzibą w Malb...   \n",
       "4        Archiwum Państwowe w Gorzowie Wielkopolskim   \n",
       "\n",
       "                                            promocja  \n",
       "0  Udział w Nocy Muzeów,udział w wydarzeniu Archi...  \n",
       "1  Przeprowadziliśmy 6 lekcji dla młodzieży szkol...  \n",
       "2  Popularyzacja zasobu Archiwum:Wystawy, publika...  \n",
       "3  noc muzeów,lekcje archiwalne dla dzieci i młod...  \n",
       "4  Organizowane były konferencje, lekcje archiwal...  "
      ],
      "text/html": [
       "<div>\n",
       "<style scoped>\n",
       "    .dataframe tbody tr th:only-of-type {\n",
       "        vertical-align: middle;\n",
       "    }\n",
       "\n",
       "    .dataframe tbody tr th {\n",
       "        vertical-align: top;\n",
       "    }\n",
       "\n",
       "    .dataframe thead th {\n",
       "        text-align: right;\n",
       "    }\n",
       "</style>\n",
       "<table border=\"1\" class=\"dataframe\">\n",
       "  <thead>\n",
       "    <tr style=\"text-align: right;\">\n",
       "      <th></th>\n",
       "      <th>podmiot</th>\n",
       "      <th>promocja</th>\n",
       "    </tr>\n",
       "  </thead>\n",
       "  <tbody>\n",
       "    <tr>\n",
       "      <th>0</th>\n",
       "      <td>Archiwum Główne Akt Dawnych w Warszawie</td>\n",
       "      <td>Udział w Nocy Muzeów,udział w wydarzeniu Archi...</td>\n",
       "    </tr>\n",
       "    <tr>\n",
       "      <th>1</th>\n",
       "      <td>Archiwum Państwowe w Białymstoku</td>\n",
       "      <td>Przeprowadziliśmy 6 lekcji dla młodzieży szkol...</td>\n",
       "    </tr>\n",
       "    <tr>\n",
       "      <th>2</th>\n",
       "      <td>Archiwum Państwowe w Bydgoszczy</td>\n",
       "      <td>Popularyzacja zasobu Archiwum:Wystawy, publika...</td>\n",
       "    </tr>\n",
       "    <tr>\n",
       "      <th>3</th>\n",
       "      <td>Archiwum Państwowe w Elblągu z siedzibą w Malb...</td>\n",
       "      <td>noc muzeów,lekcje archiwalne dla dzieci i młod...</td>\n",
       "    </tr>\n",
       "    <tr>\n",
       "      <th>4</th>\n",
       "      <td>Archiwum Państwowe w Gorzowie Wielkopolskim</td>\n",
       "      <td>Organizowane były konferencje, lekcje archiwal...</td>\n",
       "    </tr>\n",
       "  </tbody>\n",
       "</table>\n",
       "</div>"
      ]
     },
     "execution_count": 123,
     "metadata": {},
     "output_type": "execute_result"
    }
   ],
   "execution_count": 123
  },
  {
   "metadata": {
    "ExecuteTime": {
     "end_time": "2024-11-14T18:06:04.279557Z",
     "start_time": "2024-11-14T18:06:04.275011Z"
    }
   },
   "cell_type": "code",
   "source": [
    "p2019['promocja'] = 1\n",
    "p2020['promocja'] = 1\n",
    "\n",
    "p2021['promocja'] = np.where(p2021['szkoly'] | p2021['targi'], 1, 0)\n",
    "\n",
    "\n",
    "p2022['promocja'] = np.where(p2022['szkoly'] | p2022['targi'], 1, 0)\n",
    "\n",
    "\n",
    "p2023['promocja'] = np.where(p2023['szkoly'] | p2023['targi'], 1, 0)\n",
    "\n",
    "p2019['rok'] = 2019\n",
    "p2020['rok'] = 2020\n",
    "p2021['rok'] = 2021\n",
    "p2022['rok'] = 2022\n",
    "p2023['rok'] = 2023"
   ],
   "id": "1079d07cca41a175",
   "outputs": [],
   "execution_count": 124
  },
  {
   "metadata": {
    "ExecuteTime": {
     "end_time": "2024-11-14T18:06:04.284312Z",
     "start_time": "2024-11-14T18:06:04.280395Z"
    }
   },
   "cell_type": "code",
   "source": [
    "p2019f = p2019.copy()\n",
    "p2020f = p2020.copy()\n",
    "p2021f=p2021[['podmiot', 'promocja', 'rok']].copy()\n",
    "p2022f=p2022[['podmiot', 'promocja', 'rok']].copy()\n",
    "p2023f=p2023[['podmiot','promocja', 'rok']].copy()"
   ],
   "id": "f5313087834c948c",
   "outputs": [],
   "execution_count": 125
  },
  {
   "metadata": {
    "ExecuteTime": {
     "end_time": "2024-11-14T18:06:04.293581Z",
     "start_time": "2024-11-14T18:06:04.285764Z"
    }
   },
   "cell_type": "code",
   "source": [
    "p2019f['podmiot'] = p2019f['podmiot'].str.replace(' ', '').str.lower()\n",
    "p2020f['podmiot'] = p2020f['podmiot'].str.replace(' ', '').str.lower()\n",
    "p2021f['podmiot'] = p2021f['podmiot'].str.replace(' ', '').str.lower()\n",
    "p2022f['podmiot'] = p2022f['podmiot'].str.replace(' ', '').str.lower()\n",
    "p2023f['podmiot'] = p2023f['podmiot'].str.replace(' ', '').str.lower()"
   ],
   "id": "5268b8e02fb8b20d",
   "outputs": [],
   "execution_count": 126
  },
  {
   "metadata": {
    "ExecuteTime": {
     "end_time": "2024-11-14T18:06:04.297496Z",
     "start_time": "2024-11-14T18:06:04.294419Z"
    }
   },
   "cell_type": "code",
   "source": [
    "promocja = pd.concat([p2019f, p2020f, p2021f, p2022f, p2023f], ignore_index=True)\n",
    "promocja = promocja[['rok', 'podmiot', 'promocja']]"
   ],
   "id": "918db866889db01d",
   "outputs": [],
   "execution_count": 127
  },
  {
   "metadata": {},
   "cell_type": "markdown",
   "source": "### NABORY",
   "id": "d95c30de9ade79b1"
  },
  {
   "metadata": {
    "ExecuteTime": {
     "end_time": "2024-11-14T18:06:04.609251Z",
     "start_time": "2024-11-14T18:06:04.298365Z"
    }
   },
   "cell_type": "code",
   "source": [
    "n2023 = pd.read_excel('/Users/Manuela/PycharmProjects/mgr/Data/kprm/NABORY/n.xlsx', sheet_name=0, names=['podmiot', 'kandydaci'], usecols=[1,2])\n",
    "n2022 = pd.read_excel('/Users/Manuela/PycharmProjects/mgr/Data/kprm/NABORY/n.xlsx', sheet_name=1, names=['podmiot', 'kandydaci'], usecols=[1,2])\n",
    "n2021 = pd.read_excel('/Users/Manuela/PycharmProjects/mgr/Data/kprm/NABORY/n.xlsx', sheet_name=2, names=['podmiot', 'kandydaci'], usecols=[1,2])\n",
    "n2020 = pd.read_excel('/Users/Manuela/PycharmProjects/mgr/Data/kprm/NABORY/n.xlsx', sheet_name=3, names=['podmiot', 'kandydaci'], usecols=[1,2])\n",
    "n2019 = pd.read_excel('/Users/Manuela/PycharmProjects/mgr/Data/kprm/NABORY/n.xlsx', sheet_name=4, names=['podmiot', 'kandydaci'], usecols=[1,2])\n",
    "n2018 = pd.read_excel('/Users/Manuela/PycharmProjects/mgr/Data/kprm/NABORY/n.xlsx', sheet_name=5, names=['podmiot', 'kandydaci'], usecols=[1,2])"
   ],
   "id": "1b19bc912c07f4c2",
   "outputs": [],
   "execution_count": 128
  },
  {
   "metadata": {
    "ExecuteTime": {
     "end_time": "2024-11-14T18:06:04.614102Z",
     "start_time": "2024-11-14T18:06:04.610105Z"
    }
   },
   "cell_type": "code",
   "source": [
    "n2023f = n2023.copy()\n",
    "n2022f = n2022.copy()\n",
    "n2021f = n2021.copy()\n",
    "n2020f = n2020.copy()\n",
    "n2019f = n2019.copy()\n",
    "n2018f = n2018.copy()\n",
    "\n",
    "n2018f['rok'] = 2018\n",
    "n2019f['rok'] = 2019\n",
    "n2020f['rok'] = 2020\n",
    "n2021f['rok'] = 2021\n",
    "n2022f['rok'] = 2022\n",
    "n2023f['rok'] = 2023"
   ],
   "id": "a117416dd07d2ed6",
   "outputs": [],
   "execution_count": 129
  },
  {
   "metadata": {
    "ExecuteTime": {
     "end_time": "2024-11-14T18:06:04.628443Z",
     "start_time": "2024-11-14T18:06:04.614670Z"
    }
   },
   "cell_type": "code",
   "source": [
    "n2023f['podmiot'] = n2023f['podmiot'].str.replace(' ', '').str.lower()\n",
    "n2022f['podmiot'] = n2022f['podmiot'].str.replace(' ', '').str.lower()\n",
    "n2021f['podmiot'] = n2021f['podmiot'].str.replace(' ', '').str.lower()\n",
    "n2020f['podmiot'] = n2020f['podmiot'].str.replace(' ', '').str.lower()\n",
    "n2019f['podmiot'] = n2019f['podmiot'].str.replace(' ', '').str.lower()\n",
    "n2018f['podmiot'] = n2018f['podmiot'].str.replace(' ', '').str.lower()\n",
    "n2018f.head()"
   ],
   "id": "d8621cb7ecc932b7",
   "outputs": [
    {
     "data": {
      "text/plain": [
       "                              podmiot          kandydaci   rok\n",
       "0         archiwumaktnowychwwarszawie 12.785714285714286  2018\n",
       "1  archiwumgłówneaktdawnychwwarszawie  5.600000000000000  2018\n",
       "2           archiwumnarodowewkrakowie                 11  2018\n",
       "3       archiwumpaństwowewbiałymstoku                  4  2018\n",
       "4        archiwumpaństwowewbydgoszczy 22.666666666666668  2018"
      ],
      "text/html": [
       "<div>\n",
       "<style scoped>\n",
       "    .dataframe tbody tr th:only-of-type {\n",
       "        vertical-align: middle;\n",
       "    }\n",
       "\n",
       "    .dataframe tbody tr th {\n",
       "        vertical-align: top;\n",
       "    }\n",
       "\n",
       "    .dataframe thead th {\n",
       "        text-align: right;\n",
       "    }\n",
       "</style>\n",
       "<table border=\"1\" class=\"dataframe\">\n",
       "  <thead>\n",
       "    <tr style=\"text-align: right;\">\n",
       "      <th></th>\n",
       "      <th>podmiot</th>\n",
       "      <th>kandydaci</th>\n",
       "      <th>rok</th>\n",
       "    </tr>\n",
       "  </thead>\n",
       "  <tbody>\n",
       "    <tr>\n",
       "      <th>0</th>\n",
       "      <td>archiwumaktnowychwwarszawie</td>\n",
       "      <td>12.785714285714286</td>\n",
       "      <td>2018</td>\n",
       "    </tr>\n",
       "    <tr>\n",
       "      <th>1</th>\n",
       "      <td>archiwumgłówneaktdawnychwwarszawie</td>\n",
       "      <td>5.600000000000000</td>\n",
       "      <td>2018</td>\n",
       "    </tr>\n",
       "    <tr>\n",
       "      <th>2</th>\n",
       "      <td>archiwumnarodowewkrakowie</td>\n",
       "      <td>11</td>\n",
       "      <td>2018</td>\n",
       "    </tr>\n",
       "    <tr>\n",
       "      <th>3</th>\n",
       "      <td>archiwumpaństwowewbiałymstoku</td>\n",
       "      <td>4</td>\n",
       "      <td>2018</td>\n",
       "    </tr>\n",
       "    <tr>\n",
       "      <th>4</th>\n",
       "      <td>archiwumpaństwowewbydgoszczy</td>\n",
       "      <td>22.666666666666668</td>\n",
       "      <td>2018</td>\n",
       "    </tr>\n",
       "  </tbody>\n",
       "</table>\n",
       "</div>"
      ]
     },
     "execution_count": 130,
     "metadata": {},
     "output_type": "execute_result"
    }
   ],
   "execution_count": 130
  },
  {
   "metadata": {
    "ExecuteTime": {
     "end_time": "2024-11-14T18:06:04.638244Z",
     "start_time": "2024-11-14T18:06:04.629204Z"
    }
   },
   "cell_type": "code",
   "source": [
    "nabory = pd.concat([n2018f, n2019f, n2020f, n2021f, n2022f, n2023f], ignore_index=True)\n",
    "nabory = nabory[['rok', 'podmiot', 'kandydaci']]\n",
    "nabory['kandydaci'] = pd.to_numeric(nabory['kandydaci'], errors='coerce').fillna(0)\n",
    "\n",
    "nabory.dtypes"
   ],
   "id": "98a490b84aba9961",
   "outputs": [
    {
     "data": {
      "text/plain": [
       "rok            int64\n",
       "podmiot       object\n",
       "kandydaci    float64\n",
       "dtype: object"
      ]
     },
     "execution_count": 131,
     "metadata": {},
     "output_type": "execute_result"
    }
   ],
   "execution_count": 131
  },
  {
   "metadata": {},
   "cell_type": "markdown",
   "source": "### WYNAGRODZENIA, FLUKTUACJA, KOBIETY ",
   "id": "fc9fb404c51caebd"
  },
  {
   "metadata": {
    "ExecuteTime": {
     "end_time": "2024-11-14T18:06:09.370013Z",
     "start_time": "2024-11-14T18:06:04.640400Z"
    }
   },
   "cell_type": "code",
   "source": [
    "zatr_wyn = pd.read_excel('/Users/Manuela/PycharmProjects/mgr/Data/kprm/WYNAGRODZNIA_FLUKTUACJA_PRACAZDALNA/zat_wyn_fluk_kob.xlsx', sheet_name=0, usecols=[0,2,5,6,7], names=['rok', 'podmiot', 'grupa_stanowisk', 'zatr_etat', 'wynagrodzenie'], skipfooter=1)\n",
    "fluk = pd.read_excel('/Users/Manuela/PycharmProjects/mgr/Data/kprm/WYNAGRODZNIA_FLUKTUACJA_PRACAZDALNA/zat_wyn_fluk_kob.xlsx', sheet_name=1, usecols=[0,2,5],names=['rok', 'podmiot', 'fluktuacja'])\n",
    "kob = pd.read_excel('/Users/Manuela/PycharmProjects/mgr/Data/kprm/WYNAGRODZNIA_FLUKTUACJA_PRACAZDALNA/zat_wyn_fluk_kob.xlsx', sheet_name=2, usecols=[0,2,5],names=['rok', 'podmiot', 'kobiety'])"
   ],
   "id": "793bf586f950d081",
   "outputs": [],
   "execution_count": 132
  },
  {
   "metadata": {
    "ExecuteTime": {
     "end_time": "2024-11-14T18:06:09.445804Z",
     "start_time": "2024-11-14T18:06:09.371014Z"
    }
   },
   "cell_type": "code",
   "source": [
    "zatr_wyn['rok'] = zatr_wyn['rok'].str.slice(0, 4).astype(int)\n",
    "zatr_wyn['podmiot'] = zatr_wyn['podmiot'].str.replace(' ', '').str.lower()\n",
    "\n",
    "fluk['rok'] = fluk['rok'].str.slice(0, 4).astype(int)\n",
    "fluk['podmiot'] = fluk['podmiot'].str.replace(' ', '').str.lower()\n",
    "fluk['fluktuacja'] = pd.to_numeric(fluk['fluktuacja'], errors='coerce').fillna(0)\n",
    "\n",
    "kob['rok'] = kob['rok'].str.slice(0, 4).astype(int)\n",
    "kob['podmiot'] = fluk['podmiot'].str.replace(' ', '').str.lower()\n",
    "kob['kobiety'] = pd.to_numeric(kob['kobiety'], errors='coerce').fillna(0)"
   ],
   "id": "82eb1ab2da906e85",
   "outputs": [],
   "execution_count": 133
  },
  {
   "metadata": {
    "ExecuteTime": {
     "end_time": "2024-11-14T18:06:09.449645Z",
     "start_time": "2024-11-14T18:06:09.446507Z"
    }
   },
   "cell_type": "code",
   "source": "fluk.dtypes",
   "id": "e7045e11c7fd29b1",
   "outputs": [
    {
     "data": {
      "text/plain": [
       "rok             int64\n",
       "podmiot        object\n",
       "fluktuacja    float64\n",
       "dtype: object"
      ]
     },
     "execution_count": 134,
     "metadata": {},
     "output_type": "execute_result"
    }
   ],
   "execution_count": 134
  },
  {
   "metadata": {
    "ExecuteTime": {
     "end_time": "2024-11-14T18:06:09.461780Z",
     "start_time": "2024-11-14T18:06:09.450371Z"
    }
   },
   "cell_type": "code",
   "source": [
    "fluk_kob = fluk.merge(kob, on=['podmiot', 'rok'], how='outer')\n",
    "fluk_kob"
   ],
   "id": "a6b74587f4e9c96",
   "outputs": [
    {
     "data": {
      "text/plain": [
       "        rok                                podmiot        fluktuacja  \\\n",
       "0      2018            archiwumaktnowychwwarszawie 0.191838158353680   \n",
       "1      2019            archiwumaktnowychwwarszawie 0.154607297464440   \n",
       "2      2020            archiwumaktnowychwwarszawie 0.151381354863126   \n",
       "3      2021            archiwumaktnowychwwarszawie 0.163043478260870   \n",
       "4      2022            archiwumaktnowychwwarszawie 0.104761904761905   \n",
       "...     ...                                    ...               ...   \n",
       "10804  2019  świętokrzyskiurządwojewódzkiwkielcach 0.142307048384396   \n",
       "10805  2020  świętokrzyskiurządwojewódzkiwkielcach 0.102712156122477   \n",
       "10806  2021  świętokrzyskiurządwojewódzkiwkielcach 0.066502258305855   \n",
       "10807  2022  świętokrzyskiurządwojewódzkiwkielcach 0.105711110508769   \n",
       "10808  2023  świętokrzyskiurządwojewódzkiwkielcach 0.096318493150685   \n",
       "\n",
       "                kobiety  \n",
       "0     0.661290322580645  \n",
       "1     0.625000000000000  \n",
       "2     0.597560975609756  \n",
       "3     0.580645161290323  \n",
       "4     0.591836734693878  \n",
       "...                 ...  \n",
       "10804 0.753424657534247  \n",
       "10805 0.777464788732394  \n",
       "10806 0.771186440677966  \n",
       "10807 0.693627450980392  \n",
       "10808 0.775510204081633  \n",
       "\n",
       "[10809 rows x 4 columns]"
      ],
      "text/html": [
       "<div>\n",
       "<style scoped>\n",
       "    .dataframe tbody tr th:only-of-type {\n",
       "        vertical-align: middle;\n",
       "    }\n",
       "\n",
       "    .dataframe tbody tr th {\n",
       "        vertical-align: top;\n",
       "    }\n",
       "\n",
       "    .dataframe thead th {\n",
       "        text-align: right;\n",
       "    }\n",
       "</style>\n",
       "<table border=\"1\" class=\"dataframe\">\n",
       "  <thead>\n",
       "    <tr style=\"text-align: right;\">\n",
       "      <th></th>\n",
       "      <th>rok</th>\n",
       "      <th>podmiot</th>\n",
       "      <th>fluktuacja</th>\n",
       "      <th>kobiety</th>\n",
       "    </tr>\n",
       "  </thead>\n",
       "  <tbody>\n",
       "    <tr>\n",
       "      <th>0</th>\n",
       "      <td>2018</td>\n",
       "      <td>archiwumaktnowychwwarszawie</td>\n",
       "      <td>0.191838158353680</td>\n",
       "      <td>0.661290322580645</td>\n",
       "    </tr>\n",
       "    <tr>\n",
       "      <th>1</th>\n",
       "      <td>2019</td>\n",
       "      <td>archiwumaktnowychwwarszawie</td>\n",
       "      <td>0.154607297464440</td>\n",
       "      <td>0.625000000000000</td>\n",
       "    </tr>\n",
       "    <tr>\n",
       "      <th>2</th>\n",
       "      <td>2020</td>\n",
       "      <td>archiwumaktnowychwwarszawie</td>\n",
       "      <td>0.151381354863126</td>\n",
       "      <td>0.597560975609756</td>\n",
       "    </tr>\n",
       "    <tr>\n",
       "      <th>3</th>\n",
       "      <td>2021</td>\n",
       "      <td>archiwumaktnowychwwarszawie</td>\n",
       "      <td>0.163043478260870</td>\n",
       "      <td>0.580645161290323</td>\n",
       "    </tr>\n",
       "    <tr>\n",
       "      <th>4</th>\n",
       "      <td>2022</td>\n",
       "      <td>archiwumaktnowychwwarszawie</td>\n",
       "      <td>0.104761904761905</td>\n",
       "      <td>0.591836734693878</td>\n",
       "    </tr>\n",
       "    <tr>\n",
       "      <th>...</th>\n",
       "      <td>...</td>\n",
       "      <td>...</td>\n",
       "      <td>...</td>\n",
       "      <td>...</td>\n",
       "    </tr>\n",
       "    <tr>\n",
       "      <th>10804</th>\n",
       "      <td>2019</td>\n",
       "      <td>świętokrzyskiurządwojewódzkiwkielcach</td>\n",
       "      <td>0.142307048384396</td>\n",
       "      <td>0.753424657534247</td>\n",
       "    </tr>\n",
       "    <tr>\n",
       "      <th>10805</th>\n",
       "      <td>2020</td>\n",
       "      <td>świętokrzyskiurządwojewódzkiwkielcach</td>\n",
       "      <td>0.102712156122477</td>\n",
       "      <td>0.777464788732394</td>\n",
       "    </tr>\n",
       "    <tr>\n",
       "      <th>10806</th>\n",
       "      <td>2021</td>\n",
       "      <td>świętokrzyskiurządwojewódzkiwkielcach</td>\n",
       "      <td>0.066502258305855</td>\n",
       "      <td>0.771186440677966</td>\n",
       "    </tr>\n",
       "    <tr>\n",
       "      <th>10807</th>\n",
       "      <td>2022</td>\n",
       "      <td>świętokrzyskiurządwojewódzkiwkielcach</td>\n",
       "      <td>0.105711110508769</td>\n",
       "      <td>0.693627450980392</td>\n",
       "    </tr>\n",
       "    <tr>\n",
       "      <th>10808</th>\n",
       "      <td>2023</td>\n",
       "      <td>świętokrzyskiurządwojewódzkiwkielcach</td>\n",
       "      <td>0.096318493150685</td>\n",
       "      <td>0.775510204081633</td>\n",
       "    </tr>\n",
       "  </tbody>\n",
       "</table>\n",
       "<p>10809 rows × 4 columns</p>\n",
       "</div>"
      ]
     },
     "execution_count": 135,
     "metadata": {},
     "output_type": "execute_result"
    }
   ],
   "execution_count": 135
  },
  {
   "metadata": {
    "ExecuteTime": {
     "end_time": "2024-11-14T18:06:09.466269Z",
     "start_time": "2024-11-14T18:06:09.462432Z"
    }
   },
   "cell_type": "code",
   "source": "zatr_wyn.head()",
   "id": "a4f4d0c843219219",
   "outputs": [
    {
     "data": {
      "text/plain": [
       "    rok                                 podmiot  \\\n",
       "0  2018  izbaadministracjiskarbowejwbiałymstoku   \n",
       "1  2018  izbaadministracjiskarbowejwbiałymstoku   \n",
       "2  2018  izbaadministracjiskarbowejwbiałymstoku   \n",
       "3  2018  izbaadministracjiskarbowejwbiałymstoku   \n",
       "4  2018  izbaadministracjiskarbowejwbiałymstoku   \n",
       "\n",
       "                             grupa_stanowisk           zatr_etat  \\\n",
       "0                    Stanowiska koordynujące 138.740000000000009   \n",
       "1                     Stanowiska samodzielne 533.269999999999982   \n",
       "2                 Stanowiska specjalistyczne 594.240000000000009   \n",
       "3  Stanowiska średniego szczebla zarządzania                 NaN   \n",
       "4                    Stanowiska wspomagające  15.980000000000000   \n",
       "\n",
       "         wynagrodzenie  \n",
       "0 8786.639277305272117  \n",
       "1 6589.990373856895530  \n",
       "2 5446.807406659487242  \n",
       "3                  NaN  \n",
       "4 4902.273675427617491  "
      ],
      "text/html": [
       "<div>\n",
       "<style scoped>\n",
       "    .dataframe tbody tr th:only-of-type {\n",
       "        vertical-align: middle;\n",
       "    }\n",
       "\n",
       "    .dataframe tbody tr th {\n",
       "        vertical-align: top;\n",
       "    }\n",
       "\n",
       "    .dataframe thead th {\n",
       "        text-align: right;\n",
       "    }\n",
       "</style>\n",
       "<table border=\"1\" class=\"dataframe\">\n",
       "  <thead>\n",
       "    <tr style=\"text-align: right;\">\n",
       "      <th></th>\n",
       "      <th>rok</th>\n",
       "      <th>podmiot</th>\n",
       "      <th>grupa_stanowisk</th>\n",
       "      <th>zatr_etat</th>\n",
       "      <th>wynagrodzenie</th>\n",
       "    </tr>\n",
       "  </thead>\n",
       "  <tbody>\n",
       "    <tr>\n",
       "      <th>0</th>\n",
       "      <td>2018</td>\n",
       "      <td>izbaadministracjiskarbowejwbiałymstoku</td>\n",
       "      <td>Stanowiska koordynujące</td>\n",
       "      <td>138.740000000000009</td>\n",
       "      <td>8786.639277305272117</td>\n",
       "    </tr>\n",
       "    <tr>\n",
       "      <th>1</th>\n",
       "      <td>2018</td>\n",
       "      <td>izbaadministracjiskarbowejwbiałymstoku</td>\n",
       "      <td>Stanowiska samodzielne</td>\n",
       "      <td>533.269999999999982</td>\n",
       "      <td>6589.990373856895530</td>\n",
       "    </tr>\n",
       "    <tr>\n",
       "      <th>2</th>\n",
       "      <td>2018</td>\n",
       "      <td>izbaadministracjiskarbowejwbiałymstoku</td>\n",
       "      <td>Stanowiska specjalistyczne</td>\n",
       "      <td>594.240000000000009</td>\n",
       "      <td>5446.807406659487242</td>\n",
       "    </tr>\n",
       "    <tr>\n",
       "      <th>3</th>\n",
       "      <td>2018</td>\n",
       "      <td>izbaadministracjiskarbowejwbiałymstoku</td>\n",
       "      <td>Stanowiska średniego szczebla zarządzania</td>\n",
       "      <td>NaN</td>\n",
       "      <td>NaN</td>\n",
       "    </tr>\n",
       "    <tr>\n",
       "      <th>4</th>\n",
       "      <td>2018</td>\n",
       "      <td>izbaadministracjiskarbowejwbiałymstoku</td>\n",
       "      <td>Stanowiska wspomagające</td>\n",
       "      <td>15.980000000000000</td>\n",
       "      <td>4902.273675427617491</td>\n",
       "    </tr>\n",
       "  </tbody>\n",
       "</table>\n",
       "</div>"
      ]
     },
     "execution_count": 136,
     "metadata": {},
     "output_type": "execute_result"
    }
   ],
   "execution_count": 136
  },
  {
   "metadata": {
    "ExecuteTime": {
     "end_time": "2024-11-14T20:03:09.481697Z",
     "start_time": "2024-11-14T20:03:09.460796Z"
    }
   },
   "cell_type": "code",
   "source": [
    "kprm_pn = pd.merge(promocja, nabory, on =['rok', 'podmiot'], how='outer')\n",
    "kprm_pnfk = pd.merge(kprm_pn, fluk_kob, on =['rok', 'podmiot'], how='outer')"
   ],
   "id": "ac2a6389691f9c45",
   "outputs": [],
   "execution_count": 142
  },
  {
   "metadata": {
    "ExecuteTime": {
     "end_time": "2024-11-14T20:03:40.362317Z",
     "start_time": "2024-11-14T20:03:40.354073Z"
    }
   },
   "cell_type": "code",
   "source": "kprm_pnfk.head(10000)",
   "id": "6daec0ea4f550f05",
   "outputs": [
    {
     "data": {
      "text/plain": [
       "       rok                                            podmiot  \\\n",
       "0     2018                        archiwumaktnowychwwarszawie   \n",
       "1     2018                 archiwumgłówneaktdawnychwwarszawie   \n",
       "2     2018                          archiwumnarodowewkrakowie   \n",
       "3     2018                      archiwumpaństwowewbiałymstoku   \n",
       "4     2018                       archiwumpaństwowewbydgoszczy   \n",
       "...    ...                                                ...   \n",
       "9995  2023   powiatowyinspektoratnadzorubudowlanegowbraniewie   \n",
       "9996  2023    powiatowyinspektoratnadzorubudowlanegowbrodnicy   \n",
       "9997  2023      powiatowyinspektoratnadzorubudowlanegowbrzegu   \n",
       "9998  2023     powiatowyinspektoratnadzorubudowlanegowbrzesku   \n",
       "9999  2023  powiatowyinspektoratnadzorubudowlanegowbrzezinach   \n",
       "\n",
       "              promocja          kandydaci      _merge        fluktuacja  \\\n",
       "0                  NaN 12.785714285714286  right_only 0.191838158353680   \n",
       "1                  NaN  5.600000000000000  right_only 0.112994350282486   \n",
       "2                  NaN 11.000000000000000  right_only 0.026219192448873   \n",
       "3                  NaN  4.000000000000000  right_only 0.000000000000000   \n",
       "4                  NaN 22.666666666666668  right_only 0.060459492140266   \n",
       "...                ...                ...         ...               ...   \n",
       "9995 0.000000000000000  1.000000000000000        both 0.250000000000000   \n",
       "9996 0.000000000000000  0.000000000000000        both 0.000000000000000   \n",
       "9997 0.000000000000000  0.000000000000000        both 0.000000000000000   \n",
       "9998 0.000000000000000  5.000000000000000        both 0.000000000000000   \n",
       "9999 0.000000000000000  0.000000000000000        both 0.250000000000000   \n",
       "\n",
       "               kobiety  \n",
       "0    0.661290322580645  \n",
       "1    0.622222222222222  \n",
       "2    0.740740740740741  \n",
       "3    0.550000000000000  \n",
       "4    0.288461538461538  \n",
       "...                ...  \n",
       "9995 0.571428571428571  \n",
       "9996 1.000000000000000  \n",
       "9997 1.000000000000000  \n",
       "9998 0.833333333333333  \n",
       "9999 0.500000000000000  \n",
       "\n",
       "[10000 rows x 7 columns]"
      ],
      "text/html": [
       "<div>\n",
       "<style scoped>\n",
       "    .dataframe tbody tr th:only-of-type {\n",
       "        vertical-align: middle;\n",
       "    }\n",
       "\n",
       "    .dataframe tbody tr th {\n",
       "        vertical-align: top;\n",
       "    }\n",
       "\n",
       "    .dataframe thead th {\n",
       "        text-align: right;\n",
       "    }\n",
       "</style>\n",
       "<table border=\"1\" class=\"dataframe\">\n",
       "  <thead>\n",
       "    <tr style=\"text-align: right;\">\n",
       "      <th></th>\n",
       "      <th>rok</th>\n",
       "      <th>podmiot</th>\n",
       "      <th>promocja</th>\n",
       "      <th>kandydaci</th>\n",
       "      <th>_merge</th>\n",
       "      <th>fluktuacja</th>\n",
       "      <th>kobiety</th>\n",
       "    </tr>\n",
       "  </thead>\n",
       "  <tbody>\n",
       "    <tr>\n",
       "      <th>0</th>\n",
       "      <td>2018</td>\n",
       "      <td>archiwumaktnowychwwarszawie</td>\n",
       "      <td>NaN</td>\n",
       "      <td>12.785714285714286</td>\n",
       "      <td>right_only</td>\n",
       "      <td>0.191838158353680</td>\n",
       "      <td>0.661290322580645</td>\n",
       "    </tr>\n",
       "    <tr>\n",
       "      <th>1</th>\n",
       "      <td>2018</td>\n",
       "      <td>archiwumgłówneaktdawnychwwarszawie</td>\n",
       "      <td>NaN</td>\n",
       "      <td>5.600000000000000</td>\n",
       "      <td>right_only</td>\n",
       "      <td>0.112994350282486</td>\n",
       "      <td>0.622222222222222</td>\n",
       "    </tr>\n",
       "    <tr>\n",
       "      <th>2</th>\n",
       "      <td>2018</td>\n",
       "      <td>archiwumnarodowewkrakowie</td>\n",
       "      <td>NaN</td>\n",
       "      <td>11.000000000000000</td>\n",
       "      <td>right_only</td>\n",
       "      <td>0.026219192448873</td>\n",
       "      <td>0.740740740740741</td>\n",
       "    </tr>\n",
       "    <tr>\n",
       "      <th>3</th>\n",
       "      <td>2018</td>\n",
       "      <td>archiwumpaństwowewbiałymstoku</td>\n",
       "      <td>NaN</td>\n",
       "      <td>4.000000000000000</td>\n",
       "      <td>right_only</td>\n",
       "      <td>0.000000000000000</td>\n",
       "      <td>0.550000000000000</td>\n",
       "    </tr>\n",
       "    <tr>\n",
       "      <th>4</th>\n",
       "      <td>2018</td>\n",
       "      <td>archiwumpaństwowewbydgoszczy</td>\n",
       "      <td>NaN</td>\n",
       "      <td>22.666666666666668</td>\n",
       "      <td>right_only</td>\n",
       "      <td>0.060459492140266</td>\n",
       "      <td>0.288461538461538</td>\n",
       "    </tr>\n",
       "    <tr>\n",
       "      <th>...</th>\n",
       "      <td>...</td>\n",
       "      <td>...</td>\n",
       "      <td>...</td>\n",
       "      <td>...</td>\n",
       "      <td>...</td>\n",
       "      <td>...</td>\n",
       "      <td>...</td>\n",
       "    </tr>\n",
       "    <tr>\n",
       "      <th>9995</th>\n",
       "      <td>2023</td>\n",
       "      <td>powiatowyinspektoratnadzorubudowlanegowbraniewie</td>\n",
       "      <td>0.000000000000000</td>\n",
       "      <td>1.000000000000000</td>\n",
       "      <td>both</td>\n",
       "      <td>0.250000000000000</td>\n",
       "      <td>0.571428571428571</td>\n",
       "    </tr>\n",
       "    <tr>\n",
       "      <th>9996</th>\n",
       "      <td>2023</td>\n",
       "      <td>powiatowyinspektoratnadzorubudowlanegowbrodnicy</td>\n",
       "      <td>0.000000000000000</td>\n",
       "      <td>0.000000000000000</td>\n",
       "      <td>both</td>\n",
       "      <td>0.000000000000000</td>\n",
       "      <td>1.000000000000000</td>\n",
       "    </tr>\n",
       "    <tr>\n",
       "      <th>9997</th>\n",
       "      <td>2023</td>\n",
       "      <td>powiatowyinspektoratnadzorubudowlanegowbrzegu</td>\n",
       "      <td>0.000000000000000</td>\n",
       "      <td>0.000000000000000</td>\n",
       "      <td>both</td>\n",
       "      <td>0.000000000000000</td>\n",
       "      <td>1.000000000000000</td>\n",
       "    </tr>\n",
       "    <tr>\n",
       "      <th>9998</th>\n",
       "      <td>2023</td>\n",
       "      <td>powiatowyinspektoratnadzorubudowlanegowbrzesku</td>\n",
       "      <td>0.000000000000000</td>\n",
       "      <td>5.000000000000000</td>\n",
       "      <td>both</td>\n",
       "      <td>0.000000000000000</td>\n",
       "      <td>0.833333333333333</td>\n",
       "    </tr>\n",
       "    <tr>\n",
       "      <th>9999</th>\n",
       "      <td>2023</td>\n",
       "      <td>powiatowyinspektoratnadzorubudowlanegowbrzezinach</td>\n",
       "      <td>0.000000000000000</td>\n",
       "      <td>0.000000000000000</td>\n",
       "      <td>both</td>\n",
       "      <td>0.250000000000000</td>\n",
       "      <td>0.500000000000000</td>\n",
       "    </tr>\n",
       "  </tbody>\n",
       "</table>\n",
       "<p>10000 rows × 7 columns</p>\n",
       "</div>"
      ]
     },
     "execution_count": 145,
     "metadata": {},
     "output_type": "execute_result"
    }
   ],
   "execution_count": 145
  },
  {
   "metadata": {
    "ExecuteTime": {
     "end_time": "2024-11-14T18:06:09.692117Z",
     "start_time": "2024-11-14T18:06:09.491341Z"
    }
   },
   "cell_type": "code",
   "source": [
    "kprm_pnfk.to_csv('/Users/Manuela/PycharmProjects/mgr/Data/kprm/kprm_pnfk.csv', index=False)\n",
    "zatr_wyn.to_csv('/Users/Manuela/PycharmProjects/mgr/Data/kprm/zatr_wyn.csv', index=False)"
   ],
   "id": "7287087f13da6bde",
   "outputs": [],
   "execution_count": 139
  }
 ],
 "metadata": {
  "kernelspec": {
   "display_name": "Python 3",
   "language": "python",
   "name": "python3"
  },
  "language_info": {
   "codemirror_mode": {
    "name": "ipython",
    "version": 2
   },
   "file_extension": ".py",
   "mimetype": "text/x-python",
   "name": "python",
   "nbconvert_exporter": "python",
   "pygments_lexer": "ipython2",
   "version": "2.7.6"
  }
 },
 "nbformat": 4,
 "nbformat_minor": 5
}
