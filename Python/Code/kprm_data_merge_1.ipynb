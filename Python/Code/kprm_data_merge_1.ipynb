{
 "cells": [
  {
   "metadata": {
    "ExecuteTime": {
     "end_time": "2025-05-24T15:53:21.831717Z",
     "start_time": "2025-05-24T15:53:21.483437Z"
    }
   },
   "cell_type": "code",
   "source": [
    "import pandas as pd\n",
    "import numpy as np\n",
    "import gdown"
   ],
   "id": "24fe45077cdb4746",
   "outputs": [],
   "execution_count": 1
  },
  {
   "metadata": {},
   "cell_type": "markdown",
   "source": "### PROMOCJA",
   "id": "5191c51026d0969"
  },
  {
   "metadata": {
    "ExecuteTime": {
     "end_time": "2025-05-24T15:58:45.782243Z",
     "start_time": "2025-05-24T15:58:24.481622Z"
    }
   },
   "cell_type": "code",
   "source": [
    "# Google Drive file IDs for the p files\n",
    "file_ids_p = {\n",
    "    \"p2019\": \"19_qXDaGG7LB57QPmsWebSnnx3ngdI5MU\",\n",
    "    \"p2020\": \"1itS4tU4DkDtz0nPkQbEOYTFiEDj1_sIZ\",\n",
    "    \"p2021\": \"1luVhD_TM6CIjK_g9OH8fNSb3pntnZuL5\",\n",
    "    \"p2022\": \"1JS7fk35LnrtXPnsXAWHg8Pd1Ez6rmAGh\",\n",
    "    \"p2023\": \"1Vnd2UC2ZV0b1AOyGUp1QnIqba0hgKNvn\",\n",
    "}\n",
    "\n",
    "# Download the p files\n",
    "for year, file_id in file_ids_p.items():\n",
    "    url = f\"https://drive.google.com/uc?id={file_id}\"\n",
    "    file_extension = f\"{year}.xlsx\"\n",
    "    gdown.download(url, file_extension, quiet=False)\n",
    "\n",
    "# Load data into Pandas DataFrames for p\n",
    "p2019 = pd.read_excel(\"p2019.xlsx\", sheet_name=0, skiprows=2, names=['podmiot', 'promocja'])\n",
    "p2020 = pd.read_excel(\"p2020.xlsx\", sheet_name=0, skiprows=2, names=['podmiot', 'promocja'])\n",
    "p2021 = pd.read_excel(\"p2021.xlsx\", sheet_name=1, names=['podmiot', 'brak', 'szkoly', 'targi'])\n",
    "p2022 = pd.read_excel(\"p2022.xlsx\", sheet_name=0, names=['podmiot', 'brak', 'szkoly', 'targi'])\n",
    "p2023 = pd.read_excel(\"p2023.xlsx\", sheet_name=0, names=['podmiot', 'brak', 'szkoly', 'targi'], skipfooter=2)\n",
    "\n",
    "# Display the first few rows for verification\n",
    "p2019.head()"
   ],
   "id": "8191b67ca21f827d",
   "outputs": [
    {
     "name": "stderr",
     "output_type": "stream",
     "text": [
      "Downloading...\n",
      "From: https://drive.google.com/uc?id=19_qXDaGG7LB57QPmsWebSnnx3ngdI5MU\n",
      "To: C:\\Users\\KW\\PycharmProjects\\2024-mgr-sluzba-cywilna\\Python\\Code\\p2019.xlsx\n",
      "100%|██████████| 468k/468k [00:00<00:00, 5.35MB/s]\n",
      "Downloading...\n",
      "From: https://drive.google.com/uc?id=1itS4tU4DkDtz0nPkQbEOYTFiEDj1_sIZ\n",
      "To: C:\\Users\\KW\\PycharmProjects\\2024-mgr-sluzba-cywilna\\Python\\Code\\p2020.xlsx\n",
      "100%|██████████| 534k/534k [00:00<00:00, 6.66MB/s]\n",
      "Downloading...\n",
      "From: https://drive.google.com/uc?id=1luVhD_TM6CIjK_g9OH8fNSb3pntnZuL5\n",
      "To: C:\\Users\\KW\\PycharmProjects\\2024-mgr-sluzba-cywilna\\Python\\Code\\p2021.xlsx\n",
      "100%|██████████| 412k/412k [00:00<00:00, 4.88MB/s]\n",
      "Downloading...\n",
      "From: https://drive.google.com/uc?id=1JS7fk35LnrtXPnsXAWHg8Pd1Ez6rmAGh\n",
      "To: C:\\Users\\KW\\PycharmProjects\\2024-mgr-sluzba-cywilna\\Python\\Code\\p2022.xlsx\n",
      "100%|██████████| 58.7k/58.7k [00:00<00:00, 2.44MB/s]\n",
      "Downloading...\n",
      "From: https://drive.google.com/uc?id=1Vnd2UC2ZV0b1AOyGUp1QnIqba0hgKNvn\n",
      "To: C:\\Users\\KW\\PycharmProjects\\2024-mgr-sluzba-cywilna\\Python\\Code\\p2023.xlsx\n",
      "100%|██████████| 61.9k/61.9k [00:00<00:00, 4.02MB/s]\n"
     ]
    },
    {
     "data": {
      "text/plain": [
       "                                             podmiot  \\\n",
       "0            Archiwum Główne Akt Dawnych w Warszawie   \n",
       "1                   Archiwum Państwowe w Białymstoku   \n",
       "2                    Archiwum Państwowe w Bydgoszczy   \n",
       "3  Archiwum Państwowe w Elblągu z siedzibą w Malb...   \n",
       "4        Archiwum Państwowe w Gorzowie Wielkopolskim   \n",
       "\n",
       "                                            promocja  \n",
       "0  Udział w Nocy Muzeów,udział w wydarzeniu Archi...  \n",
       "1  Przeprowadziliśmy 6 lekcji dla młodzieży szkol...  \n",
       "2  Popularyzacja zasobu Archiwum:Wystawy, publika...  \n",
       "3  noc muzeów,lekcje archiwalne dla dzieci i młod...  \n",
       "4  Organizowane były konferencje, lekcje archiwal...  "
      ],
      "text/html": [
       "<div>\n",
       "<style scoped>\n",
       "    .dataframe tbody tr th:only-of-type {\n",
       "        vertical-align: middle;\n",
       "    }\n",
       "\n",
       "    .dataframe tbody tr th {\n",
       "        vertical-align: top;\n",
       "    }\n",
       "\n",
       "    .dataframe thead th {\n",
       "        text-align: right;\n",
       "    }\n",
       "</style>\n",
       "<table border=\"1\" class=\"dataframe\">\n",
       "  <thead>\n",
       "    <tr style=\"text-align: right;\">\n",
       "      <th></th>\n",
       "      <th>podmiot</th>\n",
       "      <th>promocja</th>\n",
       "    </tr>\n",
       "  </thead>\n",
       "  <tbody>\n",
       "    <tr>\n",
       "      <th>0</th>\n",
       "      <td>Archiwum Główne Akt Dawnych w Warszawie</td>\n",
       "      <td>Udział w Nocy Muzeów,udział w wydarzeniu Archi...</td>\n",
       "    </tr>\n",
       "    <tr>\n",
       "      <th>1</th>\n",
       "      <td>Archiwum Państwowe w Białymstoku</td>\n",
       "      <td>Przeprowadziliśmy 6 lekcji dla młodzieży szkol...</td>\n",
       "    </tr>\n",
       "    <tr>\n",
       "      <th>2</th>\n",
       "      <td>Archiwum Państwowe w Bydgoszczy</td>\n",
       "      <td>Popularyzacja zasobu Archiwum:Wystawy, publika...</td>\n",
       "    </tr>\n",
       "    <tr>\n",
       "      <th>3</th>\n",
       "      <td>Archiwum Państwowe w Elblągu z siedzibą w Malb...</td>\n",
       "      <td>noc muzeów,lekcje archiwalne dla dzieci i młod...</td>\n",
       "    </tr>\n",
       "    <tr>\n",
       "      <th>4</th>\n",
       "      <td>Archiwum Państwowe w Gorzowie Wielkopolskim</td>\n",
       "      <td>Organizowane były konferencje, lekcje archiwal...</td>\n",
       "    </tr>\n",
       "  </tbody>\n",
       "</table>\n",
       "</div>"
      ]
     },
     "execution_count": 8,
     "metadata": {},
     "output_type": "execute_result"
    }
   ],
   "execution_count": 8
  },
  {
   "metadata": {
    "ExecuteTime": {
     "end_time": "2025-05-24T16:16:01.832303Z",
     "start_time": "2025-05-24T16:16:01.803960Z"
    }
   },
   "cell_type": "code",
   "source": [
    "p2019['promocja'] = 1\n",
    "p2020['promocja'] = 1\n",
    "\n",
    "p2021['promocja'] = np.where(p2021['szkoly'] | p2021['targi'], 1, 0)\n",
    "\n",
    "\n",
    "p2022['promocja'] = np.where(p2022['szkoly'] | p2022['targi'], 1, 0)\n",
    "\n",
    "\n",
    "p2023['promocja'] = np.where(p2023['szkoly'] | p2023['targi'], 1, 0)\n",
    "\n",
    "p2019['rok'] = 2019\n",
    "p2020['rok'] = 2020\n",
    "p2021['rok'] = 2021\n",
    "p2022['rok'] = 2022\n",
    "p2023['rok'] = 2023"
   ],
   "id": "1079d07cca41a175",
   "outputs": [],
   "execution_count": 9
  },
  {
   "metadata": {
    "ExecuteTime": {
     "end_time": "2025-05-24T16:16:03.601436Z",
     "start_time": "2025-05-24T16:16:03.585447Z"
    }
   },
   "cell_type": "code",
   "source": [
    "p2019f = p2019.copy()\n",
    "p2020f = p2020.copy()\n",
    "p2021f=p2021[['podmiot', 'promocja', 'rok']].copy()\n",
    "p2022f=p2022[['podmiot', 'promocja', 'rok']].copy()\n",
    "p2023f=p2023[['podmiot','promocja', 'rok']].copy()"
   ],
   "id": "f5313087834c948c",
   "outputs": [],
   "execution_count": 10
  },
  {
   "metadata": {
    "ExecuteTime": {
     "end_time": "2025-05-24T16:16:05.180311Z",
     "start_time": "2025-05-24T16:16:05.158121Z"
    }
   },
   "cell_type": "code",
   "source": [
    "p2019f['podmiot'] = p2019f['podmiot'].str.replace(' ', '').str.lower()\n",
    "p2020f['podmiot'] = p2020f['podmiot'].str.replace(' ', '').str.lower()\n",
    "p2021f['podmiot'] = p2021f['podmiot'].str.replace(' ', '').str.lower()\n",
    "p2022f['podmiot'] = p2022f['podmiot'].str.replace(' ', '').str.lower()\n",
    "p2023f['podmiot'] = p2023f['podmiot'].str.replace(' ', '').str.lower()"
   ],
   "id": "5268b8e02fb8b20d",
   "outputs": [],
   "execution_count": 11
  },
  {
   "metadata": {
    "ExecuteTime": {
     "end_time": "2025-05-24T16:16:09.710204Z",
     "start_time": "2025-05-24T16:16:09.688262Z"
    }
   },
   "cell_type": "code",
   "source": [
    "promocja = pd.concat([p2019f, p2020f, p2021f, p2022f, p2023f], ignore_index=True)\n",
    "promocja = promocja[['rok', 'podmiot', 'promocja']]"
   ],
   "id": "918db866889db01d",
   "outputs": [],
   "execution_count": 12
  },
  {
   "metadata": {
    "ExecuteTime": {
     "end_time": "2025-05-24T16:16:28.299513Z",
     "start_time": "2025-05-24T16:16:28.279977Z"
    }
   },
   "cell_type": "code",
   "source": "promocja.info()",
   "id": "62198765e15349d8",
   "outputs": [
    {
     "name": "stdout",
     "output_type": "stream",
     "text": [
      "<class 'pandas.core.frame.DataFrame'>\n",
      "RangeIndex: 6343 entries, 0 to 6342\n",
      "Data columns (total 3 columns):\n",
      " #   Column    Non-Null Count  Dtype \n",
      "---  ------    --------------  ----- \n",
      " 0   rok       6343 non-null   int64 \n",
      " 1   podmiot   6343 non-null   object\n",
      " 2   promocja  6343 non-null   int64 \n",
      "dtypes: int64(2), object(1)\n",
      "memory usage: 148.8+ KB\n"
     ]
    }
   ],
   "execution_count": 14
  },
  {
   "metadata": {},
   "cell_type": "markdown",
   "source": "### NABORY",
   "id": "d95c30de9ade79b1"
  },
  {
   "metadata": {
    "ExecuteTime": {
     "end_time": "2025-03-16T16:00:15.594600Z",
     "start_time": "2025-03-16T16:00:11.492939Z"
    }
   },
   "cell_type": "code",
   "source": [
    "# Google Drive file ID for the n files\n",
    "file_id_n = \"1DCmDtPdFs-j0kO9UV1zalpokaonDnmyp\"\n",
    "url_n = f\"https://drive.google.com/uc?id={file_id_n}\"\n",
    "file_n_extension = \"n.xlsx\"\n",
    "\n",
    "# Download the n file\n",
    "gdown.download(url_n, file_n_extension, quiet=False)\n",
    "\n",
    "# Load data into Pandas DataFrames for n\n",
    "n2023 = pd.read_excel(file_n_extension, sheet_name=0, names=['podmiot', 'kandydaci'], usecols=[1, 2])\n",
    "n2022 = pd.read_excel(file_n_extension, sheet_name=1, names=['podmiot', 'kandydaci'], usecols=[1, 2])\n",
    "n2021 = pd.read_excel(file_n_extension, sheet_name=2, names=['podmiot', 'kandydaci'], usecols=[1, 2])\n",
    "n2020 = pd.read_excel(file_n_extension, sheet_name=3, names=['podmiot', 'kandydaci'], usecols=[1, 2])\n",
    "n2019 = pd.read_excel(file_n_extension, sheet_name=4, names=['podmiot', 'kandydaci'], usecols=[1, 2])\n",
    "n2018 = pd.read_excel(file_n_extension, sheet_name=5, names=['podmiot', 'kandydaci'], usecols=[1, 2])\n",
    "\n",
    "# Display the first few rows for verification\n",
    "n2023.head()"
   ],
   "id": "1b19bc912c07f4c2",
   "outputs": [
    {
     "name": "stderr",
     "output_type": "stream",
     "text": [
      "Downloading...\n",
      "From: https://drive.google.com/uc?id=1DCmDtPdFs-j0kO9UV1zalpokaonDnmyp\n",
      "To: /Users/Manuela/PycharmProjects/systemyWyszukiwawcze/2024-mgr-sluzba-cywilna/Python/Code/n.xlsx\n",
      "100%|██████████| 203k/203k [00:00<00:00, 2.79MB/s]\n"
     ]
    },
    {
     "data": {
      "text/plain": [
       "                                             podmiot kandydaci\n",
       "0                Archiwum Państwowe w Zielonej Górze     16.75\n",
       "1  Wojewódzki Inspektorat Jakości Handlowej Artyk...      1.75\n",
       "2  Wojewódzki Inspektorat Jakości Handlowej Artyk...     5.875\n",
       "3  Wojewódzki Inspektorat Jakości Handlowej Artyk...         6\n",
       "4  Wojewódzki Inspektorat Jakości Handlowej Artyk...  7.777778"
      ],
      "text/html": [
       "<div>\n",
       "<style scoped>\n",
       "    .dataframe tbody tr th:only-of-type {\n",
       "        vertical-align: middle;\n",
       "    }\n",
       "\n",
       "    .dataframe tbody tr th {\n",
       "        vertical-align: top;\n",
       "    }\n",
       "\n",
       "    .dataframe thead th {\n",
       "        text-align: right;\n",
       "    }\n",
       "</style>\n",
       "<table border=\"1\" class=\"dataframe\">\n",
       "  <thead>\n",
       "    <tr style=\"text-align: right;\">\n",
       "      <th></th>\n",
       "      <th>podmiot</th>\n",
       "      <th>kandydaci</th>\n",
       "    </tr>\n",
       "  </thead>\n",
       "  <tbody>\n",
       "    <tr>\n",
       "      <th>0</th>\n",
       "      <td>Archiwum Państwowe w Zielonej Górze</td>\n",
       "      <td>16.75</td>\n",
       "    </tr>\n",
       "    <tr>\n",
       "      <th>1</th>\n",
       "      <td>Wojewódzki Inspektorat Jakości Handlowej Artyk...</td>\n",
       "      <td>1.75</td>\n",
       "    </tr>\n",
       "    <tr>\n",
       "      <th>2</th>\n",
       "      <td>Wojewódzki Inspektorat Jakości Handlowej Artyk...</td>\n",
       "      <td>5.875</td>\n",
       "    </tr>\n",
       "    <tr>\n",
       "      <th>3</th>\n",
       "      <td>Wojewódzki Inspektorat Jakości Handlowej Artyk...</td>\n",
       "      <td>6</td>\n",
       "    </tr>\n",
       "    <tr>\n",
       "      <th>4</th>\n",
       "      <td>Wojewódzki Inspektorat Jakości Handlowej Artyk...</td>\n",
       "      <td>7.777778</td>\n",
       "    </tr>\n",
       "  </tbody>\n",
       "</table>\n",
       "</div>"
      ]
     },
     "execution_count": 20,
     "metadata": {},
     "output_type": "execute_result"
    }
   ],
   "execution_count": 20
  },
  {
   "metadata": {
    "ExecuteTime": {
     "end_time": "2025-03-16T16:00:15.598318Z",
     "start_time": "2025-03-16T16:00:15.595213Z"
    }
   },
   "cell_type": "code",
   "source": [
    "n2023f = n2023.copy()\n",
    "n2022f = n2022.copy()\n",
    "n2021f = n2021.copy()\n",
    "n2020f = n2020.copy()\n",
    "n2019f = n2019.copy()\n",
    "n2018f = n2018.copy()\n",
    "\n",
    "n2018f['rok'] = 2018\n",
    "n2019f['rok'] = 2019\n",
    "n2020f['rok'] = 2020\n",
    "n2021f['rok'] = 2021\n",
    "n2022f['rok'] = 2022\n",
    "n2023f['rok'] = 2023"
   ],
   "id": "a117416dd07d2ed6",
   "outputs": [],
   "execution_count": 21
  },
  {
   "metadata": {
    "ExecuteTime": {
     "end_time": "2025-03-16T16:00:15.608714Z",
     "start_time": "2025-03-16T16:00:15.598948Z"
    }
   },
   "cell_type": "code",
   "source": [
    "n2023f['podmiot'] = n2023f['podmiot'].str.replace(' ', '').str.lower()\n",
    "n2022f['podmiot'] = n2022f['podmiot'].str.replace(' ', '').str.lower()\n",
    "n2021f['podmiot'] = n2021f['podmiot'].str.replace(' ', '').str.lower()\n",
    "n2020f['podmiot'] = n2020f['podmiot'].str.replace(' ', '').str.lower()\n",
    "n2019f['podmiot'] = n2019f['podmiot'].str.replace(' ', '').str.lower()\n",
    "n2018f['podmiot'] = n2018f['podmiot'].str.replace(' ', '').str.lower()\n",
    "n2018f.head()"
   ],
   "id": "d8621cb7ecc932b7",
   "outputs": [
    {
     "data": {
      "text/plain": [
       "                              podmiot  kandydaci   rok\n",
       "0         archiwumaktnowychwwarszawie  12.785714  2018\n",
       "1  archiwumgłówneaktdawnychwwarszawie        5.6  2018\n",
       "2           archiwumnarodowewkrakowie         11  2018\n",
       "3       archiwumpaństwowewbiałymstoku          4  2018\n",
       "4        archiwumpaństwowewbydgoszczy  22.666667  2018"
      ],
      "text/html": [
       "<div>\n",
       "<style scoped>\n",
       "    .dataframe tbody tr th:only-of-type {\n",
       "        vertical-align: middle;\n",
       "    }\n",
       "\n",
       "    .dataframe tbody tr th {\n",
       "        vertical-align: top;\n",
       "    }\n",
       "\n",
       "    .dataframe thead th {\n",
       "        text-align: right;\n",
       "    }\n",
       "</style>\n",
       "<table border=\"1\" class=\"dataframe\">\n",
       "  <thead>\n",
       "    <tr style=\"text-align: right;\">\n",
       "      <th></th>\n",
       "      <th>podmiot</th>\n",
       "      <th>kandydaci</th>\n",
       "      <th>rok</th>\n",
       "    </tr>\n",
       "  </thead>\n",
       "  <tbody>\n",
       "    <tr>\n",
       "      <th>0</th>\n",
       "      <td>archiwumaktnowychwwarszawie</td>\n",
       "      <td>12.785714</td>\n",
       "      <td>2018</td>\n",
       "    </tr>\n",
       "    <tr>\n",
       "      <th>1</th>\n",
       "      <td>archiwumgłówneaktdawnychwwarszawie</td>\n",
       "      <td>5.6</td>\n",
       "      <td>2018</td>\n",
       "    </tr>\n",
       "    <tr>\n",
       "      <th>2</th>\n",
       "      <td>archiwumnarodowewkrakowie</td>\n",
       "      <td>11</td>\n",
       "      <td>2018</td>\n",
       "    </tr>\n",
       "    <tr>\n",
       "      <th>3</th>\n",
       "      <td>archiwumpaństwowewbiałymstoku</td>\n",
       "      <td>4</td>\n",
       "      <td>2018</td>\n",
       "    </tr>\n",
       "    <tr>\n",
       "      <th>4</th>\n",
       "      <td>archiwumpaństwowewbydgoszczy</td>\n",
       "      <td>22.666667</td>\n",
       "      <td>2018</td>\n",
       "    </tr>\n",
       "  </tbody>\n",
       "</table>\n",
       "</div>"
      ]
     },
     "execution_count": 22,
     "metadata": {},
     "output_type": "execute_result"
    }
   ],
   "execution_count": 22
  },
  {
   "metadata": {
    "ExecuteTime": {
     "end_time": "2025-03-16T16:00:15.615821Z",
     "start_time": "2025-03-16T16:00:15.609367Z"
    }
   },
   "cell_type": "code",
   "source": [
    "nabory = pd.concat([n2018f, n2019f, n2020f, n2021f, n2022f, n2023f], ignore_index=True)\n",
    "nabory = nabory[['rok', 'podmiot', 'kandydaci']]\n",
    "nabory['kandydaci'] = pd.to_numeric(nabory['kandydaci'], errors='coerce').fillna(0)\n",
    "\n",
    "nabory.dtypes"
   ],
   "id": "98a490b84aba9961",
   "outputs": [
    {
     "data": {
      "text/plain": [
       "rok            int64\n",
       "podmiot       object\n",
       "kandydaci    float64\n",
       "dtype: object"
      ]
     },
     "execution_count": 23,
     "metadata": {},
     "output_type": "execute_result"
    }
   ],
   "execution_count": 23
  },
  {
   "metadata": {},
   "cell_type": "markdown",
   "source": "### WYNAGRODZENIA, FLUKTUACJA, KOBIETY ",
   "id": "fc9fb404c51caebd"
  },
  {
   "metadata": {
    "ExecuteTime": {
     "end_time": "2025-05-24T16:29:39.424344Z",
     "start_time": "2025-05-24T16:29:21.516366Z"
    }
   },
   "cell_type": "code",
   "source": [
    "# Google Drive file ID for the zatr_wyn_fluk_kob.xlsx\n",
    "file_id_zatr_wyn = \"1rPTYy4v5-sZD6JcgX1lHUWZ91Y6m093-\"\n",
    "url_zatr_wyn = f\"https://drive.google.com/uc?id={file_id_zatr_wyn}\"\n",
    "file_zatr_wyn_extension = \"zatr_wyn_fluk_kob.xlsx\"\n",
    "\n",
    "# Download the zatr_wyn_fluk_kob.xlsx file\n",
    "gdown.download(url_zatr_wyn, file_zatr_wyn_extension, quiet=False)\n",
    "\n",
    "# Load data into Pandas DataFrames for zatr_wyn, fluk, and kob\n",
    "zatr_wyn = pd.read_excel(file_zatr_wyn_extension, sheet_name=0, usecols=[0, 2, 5, 6, 7], names=['rok', 'podmiot', 'grupa_stanowisk', 'zatr_etat', 'wynagrodzenie'], skipfooter=1)\n",
    "fluk = pd.read_excel(file_zatr_wyn_extension, sheet_name=1, usecols=[0, 2, 5], names=['rok', 'podmiot', 'fluktuacja'])\n",
    "kob = pd.read_excel(file_zatr_wyn_extension, sheet_name=2, usecols=[0, 2, 5], names=['rok', 'podmiot', 'kobiety'])\n",
    "\n",
    "zatr_wyn.head()"
   ],
   "id": "793bf586f950d081",
   "outputs": [
    {
     "name": "stderr",
     "output_type": "stream",
     "text": [
      "Downloading...\n",
      "From: https://drive.google.com/uc?id=1rPTYy4v5-sZD6JcgX1lHUWZ91Y6m093-\n",
      "To: C:\\Users\\KW\\PycharmProjects\\2024-mgr-sluzba-cywilna\\Python\\Code\\zatr_wyn_fluk_kob.xlsx\n",
      "100%|██████████| 3.54M/3.54M [00:00<00:00, 19.7MB/s]\n"
     ]
    },
    {
     "data": {
      "text/plain": [
       "       rok                                     podmiot  \\\n",
       "0  2018 r.  Izba Administracji Skarbowej w Białymstoku   \n",
       "1  2018 r.  Izba Administracji Skarbowej w Białymstoku   \n",
       "2  2018 r.  Izba Administracji Skarbowej w Białymstoku   \n",
       "3  2018 r.  Izba Administracji Skarbowej w Białymstoku   \n",
       "4  2018 r.  Izba Administracji Skarbowej w Białymstoku   \n",
       "\n",
       "                             grupa_stanowisk  zatr_etat  wynagrodzenie  \n",
       "0                    Stanowiska koordynujące     138.74    8786.639277  \n",
       "1                     Stanowiska samodzielne     533.27    6589.990374  \n",
       "2                 Stanowiska specjalistyczne     594.24    5446.807407  \n",
       "3  Stanowiska średniego szczebla zarządzania        NaN            NaN  \n",
       "4                    Stanowiska wspomagające      15.98    4902.273675  "
      ],
      "text/html": [
       "<div>\n",
       "<style scoped>\n",
       "    .dataframe tbody tr th:only-of-type {\n",
       "        vertical-align: middle;\n",
       "    }\n",
       "\n",
       "    .dataframe tbody tr th {\n",
       "        vertical-align: top;\n",
       "    }\n",
       "\n",
       "    .dataframe thead th {\n",
       "        text-align: right;\n",
       "    }\n",
       "</style>\n",
       "<table border=\"1\" class=\"dataframe\">\n",
       "  <thead>\n",
       "    <tr style=\"text-align: right;\">\n",
       "      <th></th>\n",
       "      <th>rok</th>\n",
       "      <th>podmiot</th>\n",
       "      <th>grupa_stanowisk</th>\n",
       "      <th>zatr_etat</th>\n",
       "      <th>wynagrodzenie</th>\n",
       "    </tr>\n",
       "  </thead>\n",
       "  <tbody>\n",
       "    <tr>\n",
       "      <th>0</th>\n",
       "      <td>2018 r.</td>\n",
       "      <td>Izba Administracji Skarbowej w Białymstoku</td>\n",
       "      <td>Stanowiska koordynujące</td>\n",
       "      <td>138.74</td>\n",
       "      <td>8786.639277</td>\n",
       "    </tr>\n",
       "    <tr>\n",
       "      <th>1</th>\n",
       "      <td>2018 r.</td>\n",
       "      <td>Izba Administracji Skarbowej w Białymstoku</td>\n",
       "      <td>Stanowiska samodzielne</td>\n",
       "      <td>533.27</td>\n",
       "      <td>6589.990374</td>\n",
       "    </tr>\n",
       "    <tr>\n",
       "      <th>2</th>\n",
       "      <td>2018 r.</td>\n",
       "      <td>Izba Administracji Skarbowej w Białymstoku</td>\n",
       "      <td>Stanowiska specjalistyczne</td>\n",
       "      <td>594.24</td>\n",
       "      <td>5446.807407</td>\n",
       "    </tr>\n",
       "    <tr>\n",
       "      <th>3</th>\n",
       "      <td>2018 r.</td>\n",
       "      <td>Izba Administracji Skarbowej w Białymstoku</td>\n",
       "      <td>Stanowiska średniego szczebla zarządzania</td>\n",
       "      <td>NaN</td>\n",
       "      <td>NaN</td>\n",
       "    </tr>\n",
       "    <tr>\n",
       "      <th>4</th>\n",
       "      <td>2018 r.</td>\n",
       "      <td>Izba Administracji Skarbowej w Białymstoku</td>\n",
       "      <td>Stanowiska wspomagające</td>\n",
       "      <td>15.98</td>\n",
       "      <td>4902.273675</td>\n",
       "    </tr>\n",
       "  </tbody>\n",
       "</table>\n",
       "</div>"
      ]
     },
     "execution_count": 23,
     "metadata": {},
     "output_type": "execute_result"
    }
   ],
   "execution_count": 23
  },
  {
   "metadata": {
    "ExecuteTime": {
     "end_time": "2025-05-24T16:29:41.108656Z",
     "start_time": "2025-05-24T16:29:41.079154Z"
    }
   },
   "cell_type": "code",
   "source": "zatr_wyn.info()",
   "id": "e509f6266cf4258e",
   "outputs": [
    {
     "name": "stdout",
     "output_type": "stream",
     "text": [
      "<class 'pandas.core.frame.DataFrame'>\n",
      "RangeIndex: 70066 entries, 0 to 70065\n",
      "Data columns (total 5 columns):\n",
      " #   Column           Non-Null Count  Dtype  \n",
      "---  ------           --------------  -----  \n",
      " 0   rok              70066 non-null  object \n",
      " 1   podmiot          70066 non-null  object \n",
      " 2   grupa_stanowisk  70066 non-null  object \n",
      " 3   zatr_etat        35988 non-null  float64\n",
      " 4   wynagrodzenie    22578 non-null  float64\n",
      "dtypes: float64(2), object(3)\n",
      "memory usage: 2.7+ MB\n"
     ]
    }
   ],
   "execution_count": 24
  },
  {
   "metadata": {
    "ExecuteTime": {
     "end_time": "2025-05-24T16:26:30.195403Z",
     "start_time": "2025-05-24T16:26:30.009490Z"
    }
   },
   "cell_type": "code",
   "source": [
    "zatr_wyn['rok'] = zatr_wyn['rok'].str.slice(0, 4).astype(int)\n",
    "zatr_wyn['podmiot'] = zatr_wyn['podmiot'].str.replace(' ', '').str.lower()\n",
    "\n",
    "fluk['rok'] = fluk['rok'].str.slice(0, 4).astype(int)\n",
    "fluk['podmiot'] = fluk['podmiot'].str.replace(' ', '').str.lower()\n",
    "fluk['fluktuacja'] = pd.to_numeric(fluk['fluktuacja'], errors='coerce').fillna(0)\n",
    "\n",
    "kob['rok'] = kob['rok'].str.slice(0, 4).astype(int)\n",
    "kob['podmiot'] = fluk['podmiot'].str.replace(' ', '').str.lower()\n",
    "kob['kobiety'] = pd.to_numeric(kob['kobiety'], errors='coerce').fillna(0)"
   ],
   "id": "82eb1ab2da906e85",
   "outputs": [],
   "execution_count": 21
  },
  {
   "metadata": {
    "ExecuteTime": {
     "end_time": "2025-03-16T16:00:23.573915Z",
     "start_time": "2025-03-16T16:00:23.564600Z"
    }
   },
   "cell_type": "code",
   "source": [
    "fluk_kob = fluk.merge(kob, on=['podmiot', 'rok'], how='outer')\n",
    "fluk_kob"
   ],
   "id": "a6b74587f4e9c96",
   "outputs": [
    {
     "data": {
      "text/plain": [
       "        rok                                podmiot  fluktuacja   kobiety\n",
       "0      2018            archiwumaktnowychwwarszawie    0.191838  0.661290\n",
       "1      2019            archiwumaktnowychwwarszawie    0.154607  0.625000\n",
       "2      2020            archiwumaktnowychwwarszawie    0.151381  0.597561\n",
       "3      2021            archiwumaktnowychwwarszawie    0.163043  0.580645\n",
       "4      2022            archiwumaktnowychwwarszawie    0.104762  0.591837\n",
       "...     ...                                    ...         ...       ...\n",
       "10804  2019  świętokrzyskiurządwojewódzkiwkielcach    0.142307  0.753425\n",
       "10805  2020  świętokrzyskiurządwojewódzkiwkielcach    0.102712  0.777465\n",
       "10806  2021  świętokrzyskiurządwojewódzkiwkielcach    0.066502  0.771186\n",
       "10807  2022  świętokrzyskiurządwojewódzkiwkielcach    0.105711  0.693627\n",
       "10808  2023  świętokrzyskiurządwojewódzkiwkielcach    0.096318  0.775510\n",
       "\n",
       "[10809 rows x 4 columns]"
      ],
      "text/html": [
       "<div>\n",
       "<style scoped>\n",
       "    .dataframe tbody tr th:only-of-type {\n",
       "        vertical-align: middle;\n",
       "    }\n",
       "\n",
       "    .dataframe tbody tr th {\n",
       "        vertical-align: top;\n",
       "    }\n",
       "\n",
       "    .dataframe thead th {\n",
       "        text-align: right;\n",
       "    }\n",
       "</style>\n",
       "<table border=\"1\" class=\"dataframe\">\n",
       "  <thead>\n",
       "    <tr style=\"text-align: right;\">\n",
       "      <th></th>\n",
       "      <th>rok</th>\n",
       "      <th>podmiot</th>\n",
       "      <th>fluktuacja</th>\n",
       "      <th>kobiety</th>\n",
       "    </tr>\n",
       "  </thead>\n",
       "  <tbody>\n",
       "    <tr>\n",
       "      <th>0</th>\n",
       "      <td>2018</td>\n",
       "      <td>archiwumaktnowychwwarszawie</td>\n",
       "      <td>0.191838</td>\n",
       "      <td>0.661290</td>\n",
       "    </tr>\n",
       "    <tr>\n",
       "      <th>1</th>\n",
       "      <td>2019</td>\n",
       "      <td>archiwumaktnowychwwarszawie</td>\n",
       "      <td>0.154607</td>\n",
       "      <td>0.625000</td>\n",
       "    </tr>\n",
       "    <tr>\n",
       "      <th>2</th>\n",
       "      <td>2020</td>\n",
       "      <td>archiwumaktnowychwwarszawie</td>\n",
       "      <td>0.151381</td>\n",
       "      <td>0.597561</td>\n",
       "    </tr>\n",
       "    <tr>\n",
       "      <th>3</th>\n",
       "      <td>2021</td>\n",
       "      <td>archiwumaktnowychwwarszawie</td>\n",
       "      <td>0.163043</td>\n",
       "      <td>0.580645</td>\n",
       "    </tr>\n",
       "    <tr>\n",
       "      <th>4</th>\n",
       "      <td>2022</td>\n",
       "      <td>archiwumaktnowychwwarszawie</td>\n",
       "      <td>0.104762</td>\n",
       "      <td>0.591837</td>\n",
       "    </tr>\n",
       "    <tr>\n",
       "      <th>...</th>\n",
       "      <td>...</td>\n",
       "      <td>...</td>\n",
       "      <td>...</td>\n",
       "      <td>...</td>\n",
       "    </tr>\n",
       "    <tr>\n",
       "      <th>10804</th>\n",
       "      <td>2019</td>\n",
       "      <td>świętokrzyskiurządwojewódzkiwkielcach</td>\n",
       "      <td>0.142307</td>\n",
       "      <td>0.753425</td>\n",
       "    </tr>\n",
       "    <tr>\n",
       "      <th>10805</th>\n",
       "      <td>2020</td>\n",
       "      <td>świętokrzyskiurządwojewódzkiwkielcach</td>\n",
       "      <td>0.102712</td>\n",
       "      <td>0.777465</td>\n",
       "    </tr>\n",
       "    <tr>\n",
       "      <th>10806</th>\n",
       "      <td>2021</td>\n",
       "      <td>świętokrzyskiurządwojewódzkiwkielcach</td>\n",
       "      <td>0.066502</td>\n",
       "      <td>0.771186</td>\n",
       "    </tr>\n",
       "    <tr>\n",
       "      <th>10807</th>\n",
       "      <td>2022</td>\n",
       "      <td>świętokrzyskiurządwojewódzkiwkielcach</td>\n",
       "      <td>0.105711</td>\n",
       "      <td>0.693627</td>\n",
       "    </tr>\n",
       "    <tr>\n",
       "      <th>10808</th>\n",
       "      <td>2023</td>\n",
       "      <td>świętokrzyskiurządwojewódzkiwkielcach</td>\n",
       "      <td>0.096318</td>\n",
       "      <td>0.775510</td>\n",
       "    </tr>\n",
       "  </tbody>\n",
       "</table>\n",
       "<p>10809 rows × 4 columns</p>\n",
       "</div>"
      ]
     },
     "execution_count": 27,
     "metadata": {},
     "output_type": "execute_result"
    }
   ],
   "execution_count": 27
  },
  {
   "metadata": {
    "ExecuteTime": {
     "end_time": "2025-03-16T16:00:23.577966Z",
     "start_time": "2025-03-16T16:00:23.574720Z"
    }
   },
   "cell_type": "code",
   "source": "zatr_wyn.head()",
   "id": "a4f4d0c843219219",
   "outputs": [
    {
     "data": {
      "text/plain": [
       "    rok                                 podmiot  \\\n",
       "0  2018  izbaadministracjiskarbowejwbiałymstoku   \n",
       "1  2018  izbaadministracjiskarbowejwbiałymstoku   \n",
       "2  2018  izbaadministracjiskarbowejwbiałymstoku   \n",
       "3  2018  izbaadministracjiskarbowejwbiałymstoku   \n",
       "4  2018  izbaadministracjiskarbowejwbiałymstoku   \n",
       "\n",
       "                             grupa_stanowisk  zatr_etat  wynagrodzenie  \n",
       "0                    Stanowiska koordynujące     138.74    8786.639277  \n",
       "1                     Stanowiska samodzielne     533.27    6589.990374  \n",
       "2                 Stanowiska specjalistyczne     594.24    5446.807407  \n",
       "3  Stanowiska średniego szczebla zarządzania        NaN            NaN  \n",
       "4                    Stanowiska wspomagające      15.98    4902.273675  "
      ],
      "text/html": [
       "<div>\n",
       "<style scoped>\n",
       "    .dataframe tbody tr th:only-of-type {\n",
       "        vertical-align: middle;\n",
       "    }\n",
       "\n",
       "    .dataframe tbody tr th {\n",
       "        vertical-align: top;\n",
       "    }\n",
       "\n",
       "    .dataframe thead th {\n",
       "        text-align: right;\n",
       "    }\n",
       "</style>\n",
       "<table border=\"1\" class=\"dataframe\">\n",
       "  <thead>\n",
       "    <tr style=\"text-align: right;\">\n",
       "      <th></th>\n",
       "      <th>rok</th>\n",
       "      <th>podmiot</th>\n",
       "      <th>grupa_stanowisk</th>\n",
       "      <th>zatr_etat</th>\n",
       "      <th>wynagrodzenie</th>\n",
       "    </tr>\n",
       "  </thead>\n",
       "  <tbody>\n",
       "    <tr>\n",
       "      <th>0</th>\n",
       "      <td>2018</td>\n",
       "      <td>izbaadministracjiskarbowejwbiałymstoku</td>\n",
       "      <td>Stanowiska koordynujące</td>\n",
       "      <td>138.74</td>\n",
       "      <td>8786.639277</td>\n",
       "    </tr>\n",
       "    <tr>\n",
       "      <th>1</th>\n",
       "      <td>2018</td>\n",
       "      <td>izbaadministracjiskarbowejwbiałymstoku</td>\n",
       "      <td>Stanowiska samodzielne</td>\n",
       "      <td>533.27</td>\n",
       "      <td>6589.990374</td>\n",
       "    </tr>\n",
       "    <tr>\n",
       "      <th>2</th>\n",
       "      <td>2018</td>\n",
       "      <td>izbaadministracjiskarbowejwbiałymstoku</td>\n",
       "      <td>Stanowiska specjalistyczne</td>\n",
       "      <td>594.24</td>\n",
       "      <td>5446.807407</td>\n",
       "    </tr>\n",
       "    <tr>\n",
       "      <th>3</th>\n",
       "      <td>2018</td>\n",
       "      <td>izbaadministracjiskarbowejwbiałymstoku</td>\n",
       "      <td>Stanowiska średniego szczebla zarządzania</td>\n",
       "      <td>NaN</td>\n",
       "      <td>NaN</td>\n",
       "    </tr>\n",
       "    <tr>\n",
       "      <th>4</th>\n",
       "      <td>2018</td>\n",
       "      <td>izbaadministracjiskarbowejwbiałymstoku</td>\n",
       "      <td>Stanowiska wspomagające</td>\n",
       "      <td>15.98</td>\n",
       "      <td>4902.273675</td>\n",
       "    </tr>\n",
       "  </tbody>\n",
       "</table>\n",
       "</div>"
      ]
     },
     "execution_count": 28,
     "metadata": {},
     "output_type": "execute_result"
    }
   ],
   "execution_count": 28
  },
  {
   "metadata": {
    "ExecuteTime": {
     "end_time": "2025-03-16T16:00:23.593553Z",
     "start_time": "2025-03-16T16:00:23.578657Z"
    }
   },
   "cell_type": "code",
   "source": [
    "kprm_pn = pd.merge(promocja, nabory, on =['rok', 'podmiot'], how='outer')\n",
    "kprm_pnfk = pd.merge(kprm_pn, fluk_kob, on =['rok', 'podmiot'], how='outer')"
   ],
   "id": "ac2a6389691f9c45",
   "outputs": [],
   "execution_count": 29
  },
  {
   "metadata": {
    "ExecuteTime": {
     "end_time": "2025-03-16T16:00:23.598742Z",
     "start_time": "2025-03-16T16:00:23.594213Z"
    }
   },
   "cell_type": "code",
   "source": "kprm_pnfk.head(10000)",
   "id": "6daec0ea4f550f05",
   "outputs": [
    {
     "data": {
      "text/plain": [
       "       rok                                            podmiot  promocja  \\\n",
       "0     2018                        archiwumaktnowychwwarszawie       NaN   \n",
       "1     2018                 archiwumgłówneaktdawnychwwarszawie       NaN   \n",
       "2     2018                          archiwumnarodowewkrakowie       NaN   \n",
       "3     2018                      archiwumpaństwowewbiałymstoku       NaN   \n",
       "4     2018                       archiwumpaństwowewbydgoszczy       NaN   \n",
       "...    ...                                                ...       ...   \n",
       "9995  2023   powiatowyinspektoratnadzorubudowlanegowbraniewie       0.0   \n",
       "9996  2023    powiatowyinspektoratnadzorubudowlanegowbrodnicy       0.0   \n",
       "9997  2023      powiatowyinspektoratnadzorubudowlanegowbrzegu       0.0   \n",
       "9998  2023     powiatowyinspektoratnadzorubudowlanegowbrzesku       0.0   \n",
       "9999  2023  powiatowyinspektoratnadzorubudowlanegowbrzezinach       0.0   \n",
       "\n",
       "      kandydaci  fluktuacja   kobiety  \n",
       "0     12.785714    0.191838  0.661290  \n",
       "1      5.600000    0.112994  0.622222  \n",
       "2     11.000000    0.026219  0.740741  \n",
       "3      4.000000    0.000000  0.550000  \n",
       "4     22.666667    0.060459  0.288462  \n",
       "...         ...         ...       ...  \n",
       "9995   1.000000    0.250000  0.571429  \n",
       "9996   0.000000    0.000000  1.000000  \n",
       "9997   0.000000    0.000000  1.000000  \n",
       "9998   5.000000    0.000000  0.833333  \n",
       "9999   0.000000    0.250000  0.500000  \n",
       "\n",
       "[10000 rows x 6 columns]"
      ],
      "text/html": [
       "<div>\n",
       "<style scoped>\n",
       "    .dataframe tbody tr th:only-of-type {\n",
       "        vertical-align: middle;\n",
       "    }\n",
       "\n",
       "    .dataframe tbody tr th {\n",
       "        vertical-align: top;\n",
       "    }\n",
       "\n",
       "    .dataframe thead th {\n",
       "        text-align: right;\n",
       "    }\n",
       "</style>\n",
       "<table border=\"1\" class=\"dataframe\">\n",
       "  <thead>\n",
       "    <tr style=\"text-align: right;\">\n",
       "      <th></th>\n",
       "      <th>rok</th>\n",
       "      <th>podmiot</th>\n",
       "      <th>promocja</th>\n",
       "      <th>kandydaci</th>\n",
       "      <th>fluktuacja</th>\n",
       "      <th>kobiety</th>\n",
       "    </tr>\n",
       "  </thead>\n",
       "  <tbody>\n",
       "    <tr>\n",
       "      <th>0</th>\n",
       "      <td>2018</td>\n",
       "      <td>archiwumaktnowychwwarszawie</td>\n",
       "      <td>NaN</td>\n",
       "      <td>12.785714</td>\n",
       "      <td>0.191838</td>\n",
       "      <td>0.661290</td>\n",
       "    </tr>\n",
       "    <tr>\n",
       "      <th>1</th>\n",
       "      <td>2018</td>\n",
       "      <td>archiwumgłówneaktdawnychwwarszawie</td>\n",
       "      <td>NaN</td>\n",
       "      <td>5.600000</td>\n",
       "      <td>0.112994</td>\n",
       "      <td>0.622222</td>\n",
       "    </tr>\n",
       "    <tr>\n",
       "      <th>2</th>\n",
       "      <td>2018</td>\n",
       "      <td>archiwumnarodowewkrakowie</td>\n",
       "      <td>NaN</td>\n",
       "      <td>11.000000</td>\n",
       "      <td>0.026219</td>\n",
       "      <td>0.740741</td>\n",
       "    </tr>\n",
       "    <tr>\n",
       "      <th>3</th>\n",
       "      <td>2018</td>\n",
       "      <td>archiwumpaństwowewbiałymstoku</td>\n",
       "      <td>NaN</td>\n",
       "      <td>4.000000</td>\n",
       "      <td>0.000000</td>\n",
       "      <td>0.550000</td>\n",
       "    </tr>\n",
       "    <tr>\n",
       "      <th>4</th>\n",
       "      <td>2018</td>\n",
       "      <td>archiwumpaństwowewbydgoszczy</td>\n",
       "      <td>NaN</td>\n",
       "      <td>22.666667</td>\n",
       "      <td>0.060459</td>\n",
       "      <td>0.288462</td>\n",
       "    </tr>\n",
       "    <tr>\n",
       "      <th>...</th>\n",
       "      <td>...</td>\n",
       "      <td>...</td>\n",
       "      <td>...</td>\n",
       "      <td>...</td>\n",
       "      <td>...</td>\n",
       "      <td>...</td>\n",
       "    </tr>\n",
       "    <tr>\n",
       "      <th>9995</th>\n",
       "      <td>2023</td>\n",
       "      <td>powiatowyinspektoratnadzorubudowlanegowbraniewie</td>\n",
       "      <td>0.0</td>\n",
       "      <td>1.000000</td>\n",
       "      <td>0.250000</td>\n",
       "      <td>0.571429</td>\n",
       "    </tr>\n",
       "    <tr>\n",
       "      <th>9996</th>\n",
       "      <td>2023</td>\n",
       "      <td>powiatowyinspektoratnadzorubudowlanegowbrodnicy</td>\n",
       "      <td>0.0</td>\n",
       "      <td>0.000000</td>\n",
       "      <td>0.000000</td>\n",
       "      <td>1.000000</td>\n",
       "    </tr>\n",
       "    <tr>\n",
       "      <th>9997</th>\n",
       "      <td>2023</td>\n",
       "      <td>powiatowyinspektoratnadzorubudowlanegowbrzegu</td>\n",
       "      <td>0.0</td>\n",
       "      <td>0.000000</td>\n",
       "      <td>0.000000</td>\n",
       "      <td>1.000000</td>\n",
       "    </tr>\n",
       "    <tr>\n",
       "      <th>9998</th>\n",
       "      <td>2023</td>\n",
       "      <td>powiatowyinspektoratnadzorubudowlanegowbrzesku</td>\n",
       "      <td>0.0</td>\n",
       "      <td>5.000000</td>\n",
       "      <td>0.000000</td>\n",
       "      <td>0.833333</td>\n",
       "    </tr>\n",
       "    <tr>\n",
       "      <th>9999</th>\n",
       "      <td>2023</td>\n",
       "      <td>powiatowyinspektoratnadzorubudowlanegowbrzezinach</td>\n",
       "      <td>0.0</td>\n",
       "      <td>0.000000</td>\n",
       "      <td>0.250000</td>\n",
       "      <td>0.500000</td>\n",
       "    </tr>\n",
       "  </tbody>\n",
       "</table>\n",
       "<p>10000 rows × 6 columns</p>\n",
       "</div>"
      ]
     },
     "execution_count": 30,
     "metadata": {},
     "output_type": "execute_result"
    }
   ],
   "execution_count": 30
  },
  {
   "metadata": {
    "ExecuteTime": {
     "end_time": "2025-03-16T16:00:23.752470Z",
     "start_time": "2025-03-16T16:00:23.599399Z"
    }
   },
   "cell_type": "code",
   "source": [
    "kprm_pnfk.to_csv('kprm_pnfk.csv', index=False)\n",
    "zatr_wyn.to_csv('zatr_wyn.csv', index=False)"
   ],
   "id": "7287087f13da6bde",
   "outputs": [],
   "execution_count": 31
  }
 ],
 "metadata": {
  "kernelspec": {
   "display_name": "Python 3",
   "language": "python",
   "name": "python3"
  },
  "language_info": {
   "codemirror_mode": {
    "name": "ipython",
    "version": 2
   },
   "file_extension": ".py",
   "mimetype": "text/x-python",
   "name": "python",
   "nbconvert_exporter": "python",
   "pygments_lexer": "ipython2",
   "version": "2.7.6"
  }
 },
 "nbformat": 4,
 "nbformat_minor": 5
}
