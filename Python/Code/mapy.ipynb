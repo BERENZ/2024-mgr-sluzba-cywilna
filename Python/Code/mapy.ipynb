{
 "cells": [
  {
   "cell_type": "code",
   "id": "initial_id",
   "metadata": {
    "collapsed": true,
    "ExecuteTime": {
     "end_time": "2025-01-07T21:48:47.573784Z",
     "start_time": "2025-01-07T21:48:47.569679Z"
    }
   },
   "source": [
    "import pandas as pd\n",
    "import matplotlib.pyplot as plt\n",
    "import geopandas as gpd\n",
    "import gdown\n",
    "import zipfile\n",
    "import os"
   ],
   "outputs": [],
   "execution_count": 18
  },
  {
   "metadata": {
    "ExecuteTime": {
     "end_time": "2025-01-07T21:50:54.886867Z",
     "start_time": "2025-01-07T21:50:39.172881Z"
    }
   },
   "cell_type": "code",
   "source": [
    "# Loading data from GDrive.\n",
    "file_id = \"110IwUQC6J0RoDpJyC1SqBTzvGr-qQKua\"\n",
    "url = f\"https://drive.google.com/uc?id={file_id}\"\n",
    "file_extension = \"downloaded_file.csv\"\n",
    "gdown.download(url, file_extension, quiet=False)\n",
    "df = pd.read_csv(file_extension, sep=\",\")"
   ],
   "id": "fe3121f71a64f6cb",
   "outputs": [
    {
     "name": "stderr",
     "output_type": "stream",
     "text": [
      "Downloading...\n",
      "From (original): https://drive.google.com/uc?id=110IwUQC6J0RoDpJyC1SqBTzvGr-qQKua\n",
      "From (redirected): https://drive.google.com/uc?id=110IwUQC6J0RoDpJyC1SqBTzvGr-qQKua&confirm=t&uuid=5148e57e-4bc3-40ce-abd1-cb49f11d2f5d\n",
      "To: C:\\Users\\Konrad\\Desktop\\Magisterka\\Kod\\2024-mgr-sluzba-cywilna\\Python\\Code\\downloaded_file.csv\n",
      "100%|██████████| 252M/252M [00:09<00:00, 27.2MB/s] \n"
     ]
    }
   ],
   "execution_count": 20
  },
  {
   "metadata": {},
   "cell_type": "markdown",
   "source": "##### Merging with Teryt - data about location for geopandas.",
   "id": "a5e40aa1ca8e5272"
  },
  {
   "metadata": {
    "ExecuteTime": {
     "end_time": "2025-01-07T20:35:13.955024Z",
     "start_time": "2025-01-07T20:35:09.881693Z"
    }
   },
   "cell_type": "code",
   "source": [
    "# Loading data.\n",
    "file_id = \"16YMXsOSYkQLncm0nqfqw5Z7mAW8TF-ql\"\n",
    "url = f\"https://drive.google.com/uc?id={file_id}\"\n",
    "file_extension = \"downloaded_file.csv\"\n",
    "gdown.download(url, file_extension, quiet=False)\n",
    "teryt = pd.read_csv(file_extension, sep=\",\")"
   ],
   "id": "c8738114f890e1fb",
   "outputs": [
    {
     "name": "stderr",
     "output_type": "stream",
     "text": [
      "Downloading...\n",
      "From: https://drive.google.com/uc?id=16YMXsOSYkQLncm0nqfqw5Z7mAW8TF-ql\n",
      "To: C:\\Users\\Konrad\\Desktop\\Magisterka\\Kod\\2024-mgr-sluzba-cywilna\\Python\\Code\\downloaded_file.csv\n",
      "100%|██████████| 1.32M/1.32M [00:00<00:00, 11.9MB/s]\n"
     ]
    },
    {
     "data": {
      "text/plain": [
       "   job_id  WOJ  POW\n",
       "0  131450   14   65\n",
       "1  131558   28   16\n",
       "2  131502   14   65\n",
       "3  131510    6    4\n",
       "4  131408   14   65"
      ],
      "text/html": [
       "<div>\n",
       "<style scoped>\n",
       "    .dataframe tbody tr th:only-of-type {\n",
       "        vertical-align: middle;\n",
       "    }\n",
       "\n",
       "    .dataframe tbody tr th {\n",
       "        vertical-align: top;\n",
       "    }\n",
       "\n",
       "    .dataframe thead th {\n",
       "        text-align: right;\n",
       "    }\n",
       "</style>\n",
       "<table border=\"1\" class=\"dataframe\">\n",
       "  <thead>\n",
       "    <tr style=\"text-align: right;\">\n",
       "      <th></th>\n",
       "      <th>job_id</th>\n",
       "      <th>WOJ</th>\n",
       "      <th>POW</th>\n",
       "    </tr>\n",
       "  </thead>\n",
       "  <tbody>\n",
       "    <tr>\n",
       "      <th>0</th>\n",
       "      <td>131450</td>\n",
       "      <td>14</td>\n",
       "      <td>65</td>\n",
       "    </tr>\n",
       "    <tr>\n",
       "      <th>1</th>\n",
       "      <td>131558</td>\n",
       "      <td>28</td>\n",
       "      <td>16</td>\n",
       "    </tr>\n",
       "    <tr>\n",
       "      <th>2</th>\n",
       "      <td>131502</td>\n",
       "      <td>14</td>\n",
       "      <td>65</td>\n",
       "    </tr>\n",
       "    <tr>\n",
       "      <th>3</th>\n",
       "      <td>131510</td>\n",
       "      <td>6</td>\n",
       "      <td>4</td>\n",
       "    </tr>\n",
       "    <tr>\n",
       "      <th>4</th>\n",
       "      <td>131408</td>\n",
       "      <td>14</td>\n",
       "      <td>65</td>\n",
       "    </tr>\n",
       "  </tbody>\n",
       "</table>\n",
       "</div>"
      ]
     },
     "execution_count": 8,
     "metadata": {},
     "output_type": "execute_result"
    }
   ],
   "execution_count": 8
  },
  {
   "metadata": {
    "ExecuteTime": {
     "end_time": "2025-01-07T20:34:36.291611Z",
     "start_time": "2025-01-07T20:34:36.230170Z"
    }
   },
   "cell_type": "code",
   "source": [
    "# Merging data.\n",
    "df_with_teryt = pd.merge(df, teryt, left_on=['ad_id'], right_on=['job_id'], how=\"left\")\n",
    "\n",
    "# Name changes.\n",
    "df_with_teryt[\"voivodeship\"] = df_with_teryt[\"WOJ\"]\n",
    "df_with_teryt[\"district\"] = df_with_teryt[\"POW\"]\n",
    "df_with_teryt.drop(columns=[\n",
    "    \"WOJ\", \"POW\", \"job_id\"\n",
    "], inplace=True)\n",
    "df_with_teryt.head()"
   ],
   "id": "23e9a0c45a985080",
   "outputs": [
    {
     "data": {
      "text/plain": [
       "    ad_id  result           job_field       position_category  \\\n",
       "0  130994       1                 vet  stanowiska samodzielne   \n",
       "1  130970       0   tech/construction  stanowiska samodzielne   \n",
       "2  130898       1                 vet  stanowiska samodzielne   \n",
       "3  130919       0  uniformed services  stanowiska samodzielne   \n",
       "4  130837       1                 vet  stanowiska samodzielne   \n",
       "\n",
       "                  position  education_level  work_time  vacancies       city  \\\n",
       "0  inspektor weterynaryjny                3        0.5          1     Olesno   \n",
       "1      starszy specjalista                3        1.0          1  Bydgoszcz   \n",
       "2                 asystent                2        1.0          1   Chrzanów   \n",
       "3              specjalista                4        1.0          1   Warszawa   \n",
       "4  inspektor weterynaryjny                3        1.0          1   Świdnica   \n",
       "\n",
       "                                         institution  ... year_announced  \\\n",
       "0        Powiatowy Inspektorat Weterynarii w Oleśnie  ...           2023   \n",
       "1  Wojewódzki Inspektorat Nadzoru Budowlanego w B...  ...           2023   \n",
       "2     Powiatowy Inspektorat Weterynarii w Chrzanowie  ...           2023   \n",
       "3              Komenda Stołeczna Policji w Warszawie  ...           2023   \n",
       "4       Powiatowy Inspektorat Weterynarii w Świdnicy  ...           2023   \n",
       "\n",
       "  promocja kandydaci salary_for_position              offer_salary  \\\n",
       "0      1.0       1.0                 NaN  nie podano wynagrodzenia   \n",
       "1      0.0       4.0                 NaN  nie podano wynagrodzenia   \n",
       "2      0.0      18.0                 NaN         4400,00 zł brutto   \n",
       "3      NaN       NaN                 NaN         4940,34 zł brutto   \n",
       "4      1.0       2.0        10268.888889  nie podano wynagrodzenia   \n",
       "\n",
       "  women_percentage fluctuation  employment_contract  voivodeship  district  \n",
       "0         0.666667    0.064683                 1.19           16         8  \n",
       "1         0.580645    0.036010                 0.50            4        61  \n",
       "2         0.833333    0.101215                  NaN           12         3  \n",
       "3              NaN         NaN                  NaN           14        65  \n",
       "4         0.833333    0.000000                 3.00            2        19  \n",
       "\n",
       "[5 rows x 28 columns]"
      ],
      "text/html": [
       "<div>\n",
       "<style scoped>\n",
       "    .dataframe tbody tr th:only-of-type {\n",
       "        vertical-align: middle;\n",
       "    }\n",
       "\n",
       "    .dataframe tbody tr th {\n",
       "        vertical-align: top;\n",
       "    }\n",
       "\n",
       "    .dataframe thead th {\n",
       "        text-align: right;\n",
       "    }\n",
       "</style>\n",
       "<table border=\"1\" class=\"dataframe\">\n",
       "  <thead>\n",
       "    <tr style=\"text-align: right;\">\n",
       "      <th></th>\n",
       "      <th>ad_id</th>\n",
       "      <th>result</th>\n",
       "      <th>job_field</th>\n",
       "      <th>position_category</th>\n",
       "      <th>position</th>\n",
       "      <th>education_level</th>\n",
       "      <th>work_time</th>\n",
       "      <th>vacancies</th>\n",
       "      <th>city</th>\n",
       "      <th>institution</th>\n",
       "      <th>...</th>\n",
       "      <th>year_announced</th>\n",
       "      <th>promocja</th>\n",
       "      <th>kandydaci</th>\n",
       "      <th>salary_for_position</th>\n",
       "      <th>offer_salary</th>\n",
       "      <th>women_percentage</th>\n",
       "      <th>fluctuation</th>\n",
       "      <th>employment_contract</th>\n",
       "      <th>voivodeship</th>\n",
       "      <th>district</th>\n",
       "    </tr>\n",
       "  </thead>\n",
       "  <tbody>\n",
       "    <tr>\n",
       "      <th>0</th>\n",
       "      <td>130994</td>\n",
       "      <td>1</td>\n",
       "      <td>vet</td>\n",
       "      <td>stanowiska samodzielne</td>\n",
       "      <td>inspektor weterynaryjny</td>\n",
       "      <td>3</td>\n",
       "      <td>0.5</td>\n",
       "      <td>1</td>\n",
       "      <td>Olesno</td>\n",
       "      <td>Powiatowy Inspektorat Weterynarii w Oleśnie</td>\n",
       "      <td>...</td>\n",
       "      <td>2023</td>\n",
       "      <td>1.0</td>\n",
       "      <td>1.0</td>\n",
       "      <td>NaN</td>\n",
       "      <td>nie podano wynagrodzenia</td>\n",
       "      <td>0.666667</td>\n",
       "      <td>0.064683</td>\n",
       "      <td>1.19</td>\n",
       "      <td>16</td>\n",
       "      <td>8</td>\n",
       "    </tr>\n",
       "    <tr>\n",
       "      <th>1</th>\n",
       "      <td>130970</td>\n",
       "      <td>0</td>\n",
       "      <td>tech/construction</td>\n",
       "      <td>stanowiska samodzielne</td>\n",
       "      <td>starszy specjalista</td>\n",
       "      <td>3</td>\n",
       "      <td>1.0</td>\n",
       "      <td>1</td>\n",
       "      <td>Bydgoszcz</td>\n",
       "      <td>Wojewódzki Inspektorat Nadzoru Budowlanego w B...</td>\n",
       "      <td>...</td>\n",
       "      <td>2023</td>\n",
       "      <td>0.0</td>\n",
       "      <td>4.0</td>\n",
       "      <td>NaN</td>\n",
       "      <td>nie podano wynagrodzenia</td>\n",
       "      <td>0.580645</td>\n",
       "      <td>0.036010</td>\n",
       "      <td>0.50</td>\n",
       "      <td>4</td>\n",
       "      <td>61</td>\n",
       "    </tr>\n",
       "    <tr>\n",
       "      <th>2</th>\n",
       "      <td>130898</td>\n",
       "      <td>1</td>\n",
       "      <td>vet</td>\n",
       "      <td>stanowiska samodzielne</td>\n",
       "      <td>asystent</td>\n",
       "      <td>2</td>\n",
       "      <td>1.0</td>\n",
       "      <td>1</td>\n",
       "      <td>Chrzanów</td>\n",
       "      <td>Powiatowy Inspektorat Weterynarii w Chrzanowie</td>\n",
       "      <td>...</td>\n",
       "      <td>2023</td>\n",
       "      <td>0.0</td>\n",
       "      <td>18.0</td>\n",
       "      <td>NaN</td>\n",
       "      <td>4400,00 zł brutto</td>\n",
       "      <td>0.833333</td>\n",
       "      <td>0.101215</td>\n",
       "      <td>NaN</td>\n",
       "      <td>12</td>\n",
       "      <td>3</td>\n",
       "    </tr>\n",
       "    <tr>\n",
       "      <th>3</th>\n",
       "      <td>130919</td>\n",
       "      <td>0</td>\n",
       "      <td>uniformed services</td>\n",
       "      <td>stanowiska samodzielne</td>\n",
       "      <td>specjalista</td>\n",
       "      <td>4</td>\n",
       "      <td>1.0</td>\n",
       "      <td>1</td>\n",
       "      <td>Warszawa</td>\n",
       "      <td>Komenda Stołeczna Policji w Warszawie</td>\n",
       "      <td>...</td>\n",
       "      <td>2023</td>\n",
       "      <td>NaN</td>\n",
       "      <td>NaN</td>\n",
       "      <td>NaN</td>\n",
       "      <td>4940,34 zł brutto</td>\n",
       "      <td>NaN</td>\n",
       "      <td>NaN</td>\n",
       "      <td>NaN</td>\n",
       "      <td>14</td>\n",
       "      <td>65</td>\n",
       "    </tr>\n",
       "    <tr>\n",
       "      <th>4</th>\n",
       "      <td>130837</td>\n",
       "      <td>1</td>\n",
       "      <td>vet</td>\n",
       "      <td>stanowiska samodzielne</td>\n",
       "      <td>inspektor weterynaryjny</td>\n",
       "      <td>3</td>\n",
       "      <td>1.0</td>\n",
       "      <td>1</td>\n",
       "      <td>Świdnica</td>\n",
       "      <td>Powiatowy Inspektorat Weterynarii w Świdnicy</td>\n",
       "      <td>...</td>\n",
       "      <td>2023</td>\n",
       "      <td>1.0</td>\n",
       "      <td>2.0</td>\n",
       "      <td>10268.888889</td>\n",
       "      <td>nie podano wynagrodzenia</td>\n",
       "      <td>0.833333</td>\n",
       "      <td>0.000000</td>\n",
       "      <td>3.00</td>\n",
       "      <td>2</td>\n",
       "      <td>19</td>\n",
       "    </tr>\n",
       "  </tbody>\n",
       "</table>\n",
       "<p>5 rows × 28 columns</p>\n",
       "</div>"
      ]
     },
     "execution_count": 7,
     "metadata": {},
     "output_type": "execute_result"
    }
   ],
   "execution_count": 7
  },
  {
   "metadata": {},
   "cell_type": "markdown",
   "source": "### Visualisations",
   "id": "8e9efa9057b3fae7"
  },
  {
   "metadata": {
    "ExecuteTime": {
     "end_time": "2025-01-07T22:01:08.068054Z",
     "start_time": "2025-01-07T22:01:03.850675Z"
    }
   },
   "cell_type": "code",
   "source": [
    "# Now I'm downloading the whole folder from GDrive, which comes as ZIP.\n",
    "file_id = \"1kh8xFFlBgsYcD1D4_QX3C7Z19csvCfvo\"\n",
    "url = f\"https://drive.google.com/uc?id={file_id}\"\n",
    "file_extension = \"downloaded_file.zip\"\n",
    "gdown.download(url, file_extension, quiet=False)\n",
    "\n",
    "with zipfile.ZipFile(file_extension, 'r') as zip_ref:\n",
    "    zip_ref.extractall(\"wojewodztwa\")\n",
    "\n",
    "# The first is the downloaded ZIP, the second is the zipped folder, and finally, the file.\n",
    "shapefile_path = os.path.join(\"wojewodztwa\", \"wojewodztwa\", \"wojewodztwa.shp\")\n",
    "wojewodztwa = gpd.read_file(shapefile_path)"
   ],
   "id": "2c1c72d119bd32cf",
   "outputs": [
    {
     "name": "stderr",
     "output_type": "stream",
     "text": [
      "Downloading...\n",
      "From: https://drive.google.com/uc?id=1kh8xFFlBgsYcD1D4_QX3C7Z19csvCfvo\n",
      "To: C:\\Users\\Konrad\\Desktop\\Magisterka\\Kod\\2024-mgr-sluzba-cywilna\\Python\\Code\\downloaded_file.zip\n",
      "100%|██████████| 5.41M/5.41M [00:00<00:00, 18.6MB/s]\n"
     ]
    }
   ],
   "execution_count": 25
  },
  {
   "metadata": {},
   "cell_type": "code",
   "outputs": [],
   "execution_count": null,
   "source": [
    "file_id = \"1JuxIhxlp78fkZbqEijPQkRLCcEW9OsHw\"\n",
    "url = f\"https://drive.google.com/uc?id={file_id}\"\n",
    "file_extension = \"downloaded_file.zip\"\n",
    "gdown.download(url, file_extension, quiet=False)\n",
    "\n",
    "with zipfile.ZipFile(file_extension, 'r') as zip_ref:\n",
    "    zip_ref.extractall(\"powiaty\")\n",
    "\n",
    "shapefile_path = os.path.join(\"powiaty\", \"powiaty\", \"powiaty.shp\")\n",
    "powiaty = gpd.read_file(shapefile_path)"
   ],
   "id": "555c6627837d25f3"
  },
  {
   "metadata": {
    "ExecuteTime": {
     "end_time": "2025-01-07T22:01:53.266478Z",
     "start_time": "2025-01-07T22:01:53.252087Z"
    }
   },
   "cell_type": "code",
   "source": "print(wojewodztwa.columns)",
   "id": "15f7f543954373c5",
   "outputs": [
    {
     "name": "stdout",
     "output_type": "stream",
     "text": [
      "Index(['gml_id', 'JPT_SJR_KO', 'JPT_POWIER', 'JPT_KOD_JE', 'JPT_NAZWA_',\n",
      "       'JPT_ORGAN_', 'JPT_JOR_ID', 'WERSJA_OD', 'WERSJA_DO', 'WAZNY_OD',\n",
      "       'WAZNY_DO', 'JPT_KOD__1', 'JPT_NAZWA1', 'JPT_ORGAN1', 'JPT_WAZNA_',\n",
      "       'ID_BUFORA_', 'ID_BUFORA1', 'ID_TECHNIC', 'IIP_PRZEST', 'IIP_IDENTY',\n",
      "       'IIP_WERSJA', 'JPT_KJ_IIP', 'JPT_KJ_I_1', 'JPT_KJ_I_2', 'JPT_OPIS',\n",
      "       'JPT_SPS_KO', 'ID_BUFOR_1', 'JPT_ID', 'JPT_POWI_1', 'JPT_KJ_I_3',\n",
      "       'JPT_GEOMET', 'JPT_GEOM_1', 'SHAPE_LENG', 'SHAPE_AREA', 'REGON',\n",
      "       'RODZAJ', 'geometry'],\n",
      "      dtype='object')\n"
     ]
    }
   ],
   "execution_count": 26
  },
  {
   "metadata": {
    "ExecuteTime": {
     "end_time": "2025-01-07T21:40:04.265268Z",
     "start_time": "2025-01-07T21:40:04.261418Z"
    }
   },
   "cell_type": "code",
   "source": "print(powiaty.columns)",
   "id": "380d92bd18720282",
   "outputs": [
    {
     "name": "stdout",
     "output_type": "stream",
     "text": [
      "Index(['gml_id', 'JPT_SJR_KO', 'JPT_POWIER', 'JPT_KOD_JE', 'JPT_NAZWA_',\n",
      "       'JPT_ORGAN_', 'JPT_JOR_ID', 'WERSJA_OD', 'WERSJA_DO', 'WAZNY_OD',\n",
      "       'WAZNY_DO', 'JPT_KOD__1', 'JPT_NAZWA1', 'JPT_ORGAN1', 'JPT_WAZNA_',\n",
      "       'ID_BUFORA_', 'ID_BUFORA1', 'ID_TECHNIC', 'IIP_PRZEST', 'IIP_IDENTY',\n",
      "       'IIP_WERSJA', 'JPT_KJ_IIP', 'JPT_KJ_I_1', 'JPT_KJ_I_2', 'JPT_OPIS',\n",
      "       'JPT_SPS_KO', 'ID_BUFOR_1', 'JPT_ID', 'JPT_POWI_1', 'JPT_KJ_I_3',\n",
      "       'JPT_GEOMET', 'JPT_GEOM_1', 'SHAPE_LENG', 'SHAPE_AREA', 'REGON',\n",
      "       'RODZAJ', 'geometry'],\n",
      "      dtype='object')\n"
     ]
    }
   ],
   "execution_count": 17
  },
  {
   "metadata": {
    "ExecuteTime": {
     "end_time": "2025-01-07T21:39:48.307310Z",
     "start_time": "2025-01-07T21:39:48.302937Z"
    }
   },
   "cell_type": "code",
   "source": "#wojewodztwa.plot(figsize=(10, 10), edgecolor='black')",
   "id": "2af8de0b22c7ba1",
   "outputs": [],
   "execution_count": 13
  },
  {
   "metadata": {},
   "cell_type": "code",
   "outputs": [],
   "execution_count": null,
   "source": "",
   "id": "c232114d088d155e"
  }
 ],
 "metadata": {
  "kernelspec": {
   "display_name": "Python 3",
   "language": "python",
   "name": "python3"
  },
  "language_info": {
   "codemirror_mode": {
    "name": "ipython",
    "version": 2
   },
   "file_extension": ".py",
   "mimetype": "text/x-python",
   "name": "python",
   "nbconvert_exporter": "python",
   "pygments_lexer": "ipython2",
   "version": "2.7.6"
  }
 },
 "nbformat": 4,
 "nbformat_minor": 5
}
