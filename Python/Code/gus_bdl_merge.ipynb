{
 "cells": [
  {
   "cell_type": "code",
   "id": "initial_id",
   "metadata": {
    "collapsed": true,
    "ExecuteTime": {
     "end_time": "2025-03-26T10:44:02.093413Z",
     "start_time": "2025-03-26T10:44:01.342017Z"
    }
   },
   "source": [
    "import pandas as pd\n",
    "import gdown\n",
    "import os"
   ],
   "outputs": [],
   "execution_count": 1
  },
  {
   "metadata": {},
   "cell_type": "markdown",
   "source": "### Importing and cleaning BDL data",
   "id": "2369c278720940ee"
  },
  {
   "metadata": {
    "ExecuteTime": {
     "end_time": "2025-03-26T10:44:26.626036Z",
     "start_time": "2025-03-26T10:44:02.096506Z"
    }
   },
   "cell_type": "code",
   "source": [
    "# Importing BDL data.\n",
    "\n",
    "cena_mieszkan = pd.DataFrame()\n",
    "mediana_wieku = pd.DataFrame()\n",
    "saldo_migracji = pd.DataFrame() # dotyczy osób w wieku produkcyjnym\n",
    "wsp_feminizacji = pd.DataFrame()\n",
    "wydatki_powiat = pd.DataFrame() # w złotówkach\n",
    "wynagrodzenia = pd.DataFrame() # w złotówkach\n",
    "\n",
    "bdl_dfs_list = [\n",
    "    cena_mieszkan,\n",
    "    mediana_wieku,\n",
    "    saldo_migracji,\n",
    "    wsp_feminizacji,\n",
    "    wydatki_powiat,\n",
    "    wynagrodzenia\n",
    "]\n",
    "\n",
    "file_ids = {\n",
    "    \"cena_mieszkan\": \"12UWwTtqRazIEctdzxib34fs8I_-ZUOD7\",\n",
    "    \"mediana_wieku\": \"1D8jvho56cqn5dNGhMPaHujF3tmoQ1L6K\",\n",
    "    \"saldo_migracji\": \"1sVL3iXGzc9D2k38ogErl84mVIzl6SzIP\",\n",
    "    \"wsp_feminizacji\": \"163IRO4q5iU-MdyN3kYXkFHDavpyr353f\",\n",
    "    \"wydatki_powiat\": \"1YMXflzDmozNqxQLpcd6oc1e1vtUVyUtS\",\n",
    "    \"wynagrodzenia\": \"104z3VjCcv66e2L034D-o3vJY2wROJwCY\"\n",
    "}\n",
    "\n",
    "for i in range(len(file_ids)):\n",
    "    url = f\"https://drive.google.com/uc?id={list(file_ids.values())[i]}\"\n",
    "    file_extension = \"downloaded_file.csv\"\n",
    "    gdown.download(url, file_extension, quiet=False)\n",
    "    bdl_dfs_list[i] = pd.read_csv(file_extension, sep=\";\", on_bad_lines='skip')"
   ],
   "id": "bc84f0c360a11ed3",
   "outputs": [
    {
     "name": "stderr",
     "output_type": "stream",
     "text": [
      "Downloading...\n",
      "From: https://drive.google.com/uc?id=12UWwTtqRazIEctdzxib34fs8I_-ZUOD7\n",
      "To: C:\\Users\\Konrad\\Desktop\\Magisterka\\Kod\\2024-mgr-sluzba-cywilna\\Python\\Code\\downloaded_file.csv\n",
      "100%|██████████| 204k/204k [00:00<00:00, 4.30MB/s]\n",
      "Downloading...\n",
      "From: https://drive.google.com/uc?id=1D8jvho56cqn5dNGhMPaHujF3tmoQ1L6K\n",
      "To: C:\\Users\\Konrad\\Desktop\\Magisterka\\Kod\\2024-mgr-sluzba-cywilna\\Python\\Code\\downloaded_file.csv\n",
      "100%|██████████| 144k/144k [00:00<00:00, 2.28MB/s]\n",
      "Downloading...\n",
      "From: https://drive.google.com/uc?id=1sVL3iXGzc9D2k38ogErl84mVIzl6SzIP\n",
      "To: C:\\Users\\Konrad\\Desktop\\Magisterka\\Kod\\2024-mgr-sluzba-cywilna\\Python\\Code\\downloaded_file.csv\n",
      "100%|██████████| 259k/259k [00:00<00:00, 4.05MB/s]\n",
      "Downloading...\n",
      "From: https://drive.google.com/uc?id=163IRO4q5iU-MdyN3kYXkFHDavpyr353f\n",
      "To: C:\\Users\\Konrad\\Desktop\\Magisterka\\Kod\\2024-mgr-sluzba-cywilna\\Python\\Code\\downloaded_file.csv\n",
      "100%|██████████| 176k/176k [00:00<00:00, 3.81MB/s]\n",
      "Downloading...\n",
      "From: https://drive.google.com/uc?id=1YMXflzDmozNqxQLpcd6oc1e1vtUVyUtS\n",
      "To: C:\\Users\\Konrad\\Desktop\\Magisterka\\Kod\\2024-mgr-sluzba-cywilna\\Python\\Code\\downloaded_file.csv\n",
      "100%|██████████| 150k/150k [00:00<00:00, 3.03MB/s]\n",
      "Downloading...\n",
      "From: https://drive.google.com/uc?id=104z3VjCcv66e2L034D-o3vJY2wROJwCY\n",
      "To: C:\\Users\\Konrad\\Desktop\\Magisterka\\Kod\\2024-mgr-sluzba-cywilna\\Python\\Code\\downloaded_file.csv\n",
      "100%|██████████| 575k/575k [00:00<00:00, 6.44MB/s]\n"
     ]
    }
   ],
   "execution_count": 2
  },
  {
   "metadata": {
    "ExecuteTime": {
     "end_time": "2025-03-26T10:44:26.854672Z",
     "start_time": "2025-03-26T10:44:26.844491Z"
    }
   },
   "cell_type": "code",
   "source": [
    "# Removing unnecessary columns.\n",
    "\n",
    "unique_columns_to_delete = [\n",
    "    [\"Transakcje rynkowe\", \"Powierzchnia użytkowa lokali mieszkalnych\"],\n",
    "    [\"Mirgacje\", \"Wiek\"],\n",
    "    [\"Ogółem\"],\n",
    "    [\"Wskaźniki\"],\n",
    "    [\"Wyszczególnienie\"]\n",
    "]\n",
    "\n",
    "for i in range(len(bdl_dfs_list)):\n",
    "    try:\n",
    "        bdl_dfs_list[i].drop([\"Nazwa\", \"Jednostka miary\", \"Atrybut\"], axis=1, inplace=True)\n",
    "        bdl_dfs_list[i] = bdl_dfs_list[i].iloc[:, :-1] # the last column has a different name in every df and is always unnecessary.\n",
    "    except:\n",
    "        pass\n",
    "\n",
    "    # Columns unique for single dataframes.\n",
    "    for columns in unique_columns_to_delete:\n",
    "        try:\n",
    "            bdl_dfs_list[i].drop(columns, axis=1, inplace=True)\n",
    "        except:\n",
    "            pass"
   ],
   "id": "427e0159cc32af84",
   "outputs": [],
   "execution_count": 3
  },
  {
   "metadata": {
    "ExecuteTime": {
     "end_time": "2025-03-26T10:44:26.901282Z",
     "start_time": "2025-03-26T10:44:26.895992Z"
    }
   },
   "cell_type": "code",
   "source": [
    "cena_mieszkan = bdl_dfs_list[0].copy()\n",
    "mediana_wieku = bdl_dfs_list[1].copy()\n",
    "saldo_migracji = bdl_dfs_list[2].copy()\n",
    "wsp_feminizacji = bdl_dfs_list[3].copy()\n",
    "wydatki_powiat = bdl_dfs_list[4].copy()\n",
    "wynagrodzenia = bdl_dfs_list[5].copy()"
   ],
   "id": "37220a5daff7f9f3",
   "outputs": [],
   "execution_count": 4
  },
  {
   "metadata": {
    "ExecuteTime": {
     "end_time": "2025-03-26T10:50:15.701715Z",
     "start_time": "2025-03-26T10:50:15.687379Z"
    }
   },
   "cell_type": "code",
   "source": "saldo_migracji[\"Kod\"].unique()",
   "id": "e750b474691b7855",
   "outputs": [
    {
     "data": {
      "text/plain": [
       "array([      0,  200000,  201000,  202000,  203000,  204000,  205000,\n",
       "        206000,  207000,  208000,  209000,  210000,  211000,  212000,\n",
       "        213000,  214000,  215000,  216000,  217000,  218000,  219000,\n",
       "        220000,  221000,  222000,  223000,  224000,  225000,  226000,\n",
       "        261000,  262000,  264000,  265000,  400000,  401000,  402000,\n",
       "        403000,  404000,  405000,  406000,  407000,  408000,  409000,\n",
       "        410000,  411000,  412000,  413000,  414000,  415000,  416000,\n",
       "        417000,  418000,  419000,  461000,  462000,  463000,  464000,\n",
       "        600000,  601000,  602000,  603000,  604000,  605000,  606000,\n",
       "        607000,  608000,  609000,  610000,  611000,  612000,  613000,\n",
       "        614000,  615000,  616000,  617000,  618000,  619000,  620000,\n",
       "        661000,  662000,  663000,  664000,  800000,  801000,  802000,\n",
       "        803000,  804000,  805000,  806000,  807000,  808000,  809000,\n",
       "        810000,  811000,  812000,  861000,  862000, 1000000, 1001000,\n",
       "       1002000, 1003000, 1004000, 1005000, 1006000, 1007000, 1008000,\n",
       "       1009000, 1010000, 1011000, 1012000, 1013000, 1014000, 1015000,\n",
       "       1016000, 1017000, 1018000, 1019000, 1020000, 1021000, 1061000,\n",
       "       1062000, 1063000, 1200000, 1201000, 1202000, 1203000, 1204000,\n",
       "       1205000, 1206000, 1207000, 1208000, 1209000, 1210000, 1211000,\n",
       "       1212000, 1213000, 1214000, 1215000, 1216000, 1217000, 1218000,\n",
       "       1219000, 1261000, 1262000, 1263000, 1400000, 1401000, 1402000,\n",
       "       1403000, 1404000, 1405000, 1406000, 1407000, 1408000, 1409000,\n",
       "       1410000, 1411000, 1412000, 1413000, 1414000, 1415000, 1416000,\n",
       "       1417000, 1418000, 1419000, 1420000, 1421000, 1422000, 1423000,\n",
       "       1424000, 1425000, 1426000, 1427000, 1428000, 1429000, 1430000,\n",
       "       1432000, 1433000, 1434000, 1435000, 1436000, 1437000, 1438000,\n",
       "       1461000, 1462000, 1463000, 1464000, 1465000, 1600000, 1601000,\n",
       "       1602000, 1603000, 1604000, 1605000, 1606000, 1607000, 1608000,\n",
       "       1609000, 1610000, 1611000, 1661000, 1800000, 1801000, 1802000,\n",
       "       1803000, 1804000, 1805000, 1806000, 1807000, 1808000, 1809000,\n",
       "       1810000, 1811000, 1812000, 1813000, 1814000, 1815000, 1816000,\n",
       "       1817000, 1818000, 1819000, 1820000, 1821000, 1861000, 1862000,\n",
       "       1863000, 1864000, 2000000, 2001000, 2002000, 2003000, 2004000,\n",
       "       2005000, 2006000, 2007000, 2008000, 2009000, 2010000, 2011000,\n",
       "       2012000, 2013000, 2014000, 2061000, 2062000, 2063000, 2200000,\n",
       "       2201000, 2202000, 2203000, 2204000, 2205000, 2206000, 2207000,\n",
       "       2208000, 2209000, 2210000, 2211000, 2212000, 2213000, 2214000,\n",
       "       2215000, 2216000, 2261000, 2262000, 2263000, 2264000, 2400000,\n",
       "       2401000, 2402000, 2403000, 2404000, 2405000, 2406000, 2407000,\n",
       "       2408000, 2409000, 2410000, 2411000, 2412000, 2413000, 2414000,\n",
       "       2415000, 2416000, 2417000, 2461000, 2462000, 2463000, 2464000,\n",
       "       2465000, 2466000, 2467000, 2468000, 2469000, 2470000, 2471000,\n",
       "       2472000, 2473000, 2474000, 2475000, 2476000, 2477000, 2478000,\n",
       "       2479000, 2600000, 2601000, 2602000, 2603000, 2604000, 2605000,\n",
       "       2606000, 2607000, 2608000, 2609000, 2610000, 2611000, 2612000,\n",
       "       2613000, 2661000, 2800000, 2801000, 2802000, 2803000, 2804000,\n",
       "       2805000, 2806000, 2807000, 2808000, 2809000, 2810000, 2811000,\n",
       "       2812000, 2813000, 2814000, 2815000, 2816000, 2817000, 2818000,\n",
       "       2819000, 2861000, 2862000, 3000000, 3001000, 3002000, 3003000,\n",
       "       3004000, 3005000, 3006000, 3007000, 3008000, 3009000, 3010000,\n",
       "       3011000, 3012000, 3013000, 3014000, 3015000, 3016000, 3017000,\n",
       "       3018000, 3019000, 3020000, 3021000, 3022000, 3023000, 3024000,\n",
       "       3025000, 3026000, 3027000, 3028000, 3029000, 3030000, 3031000,\n",
       "       3061000, 3062000, 3063000, 3064000, 3200000, 3201000, 3202000,\n",
       "       3203000, 3204000, 3205000, 3206000, 3207000, 3208000, 3209000,\n",
       "       3210000, 3211000, 3212000, 3213000, 3214000, 3215000, 3216000,\n",
       "       3217000, 3218000, 3261000, 3262000, 3263000])"
      ]
     },
     "execution_count": 9,
     "metadata": {},
     "output_type": "execute_result"
    }
   ],
   "execution_count": 9
  },
  {
   "metadata": {
    "ExecuteTime": {
     "end_time": "2025-03-26T10:51:24.847797Z",
     "start_time": "2025-03-26T10:51:24.842705Z"
    }
   },
   "cell_type": "code",
   "source": "main_df[\"voivodeship\"].unique()",
   "id": "aa48ee39f7046726",
   "outputs": [
    {
     "data": {
      "text/plain": [
       "array([16,  4, 12, 14,  2, 18, 32, 10, 28,  6, 20, 22, 24,  8, 26, 30])"
      ]
     },
     "execution_count": 11,
     "metadata": {},
     "output_type": "execute_result"
    }
   ],
   "execution_count": 11
  },
  {
   "metadata": {},
   "cell_type": "markdown",
   "source": "### Merging main with BDL",
   "id": "23c5708be7698827"
  },
  {
   "metadata": {
    "ExecuteTime": {
     "end_time": "2025-03-26T10:44:37.861660Z",
     "start_time": "2025-03-26T10:44:26.924227Z"
    }
   },
   "cell_type": "code",
   "source": [
    "# Importing main data.\n",
    "file_id = \"1IlyXO5rXkLi28Z-o-WWCjaFa_rLDrKls\"\n",
    "url = f\"https://drive.google.com/uc?id={file_id}\"\n",
    "file_extension = \"downloaded_file.csv\"\n",
    "gdown.download(url, file_extension, quiet=False)\n",
    "main_df = pd.read_csv(file_extension, sep=\",\")\n",
    "main_df.head()"
   ],
   "id": "d83fe797efbda4b2",
   "outputs": [
    {
     "name": "stderr",
     "output_type": "stream",
     "text": [
      "Downloading...\n",
      "From (original): https://drive.google.com/uc?id=1IlyXO5rXkLi28Z-o-WWCjaFa_rLDrKls\n",
      "From (redirected): https://drive.google.com/uc?id=1IlyXO5rXkLi28Z-o-WWCjaFa_rLDrKls&confirm=t&uuid=78125a7c-08e2-4494-882a-d0fb811ca3c9\n",
      "To: C:\\Users\\Konrad\\Desktop\\Magisterka\\Kod\\2024-mgr-sluzba-cywilna\\Python\\Code\\downloaded_file.csv\n",
      "100%|██████████| 253M/253M [00:04<00:00, 58.0MB/s] \n"
     ]
    },
    {
     "data": {
      "text/plain": [
       "    ad_id  result           job_field       position_category  \\\n",
       "0  130994       1                 vet  stanowiska samodzielne   \n",
       "1  130970       0   tech/construction  stanowiska samodzielne   \n",
       "2  130898       1                 vet  stanowiska samodzielne   \n",
       "3  130919       0  uniformed services  stanowiska samodzielne   \n",
       "4  130837       1                 vet  stanowiska samodzielne   \n",
       "\n",
       "                  position  education_level  work_time  vacancies       city  \\\n",
       "0  inspektor weterynaryjny                3        0.5          1     Olesno   \n",
       "1      starszy specjalista                3        1.0          1  Bydgoszcz   \n",
       "2                 asystent                2        1.0          1   Chrzanów   \n",
       "3              specjalista                4        1.0          1   Warszawa   \n",
       "4  inspektor weterynaryjny                3        1.0          1   Świdnica   \n",
       "\n",
       "                                         institution  ... year_announced  \\\n",
       "0        Powiatowy Inspektorat Weterynarii w Oleśnie  ...           2023   \n",
       "1  Wojewódzki Inspektorat Nadzoru Budowlanego w B...  ...           2023   \n",
       "2     Powiatowy Inspektorat Weterynarii w Chrzanowie  ...           2023   \n",
       "3              Komenda Stołeczna Policji w Warszawie  ...           2023   \n",
       "4       Powiatowy Inspektorat Weterynarii w Świdnicy  ...           2023   \n",
       "\n",
       "  promocja kandydaci salary_for_position              offer_salary  \\\n",
       "0      1.0       1.0                 NaN  nie podano wynagrodzenia   \n",
       "1      0.0       4.0                 NaN  nie podano wynagrodzenia   \n",
       "2      0.0      18.0                 NaN         4400,00 zł brutto   \n",
       "3      NaN       NaN                 NaN         4940,34 zł brutto   \n",
       "4      1.0       2.0        10268.888889  nie podano wynagrodzenia   \n",
       "\n",
       "  women_percentage fluctuation  employment_contract  voivodeship  district  \n",
       "0         0.666667    0.064683                 1.19           16         8  \n",
       "1         0.580645    0.036010                 0.50            4        61  \n",
       "2         0.833333    0.101215                  NaN           12         3  \n",
       "3              NaN         NaN                  NaN           14        65  \n",
       "4         0.833333    0.000000                 3.00            2        19  \n",
       "\n",
       "[5 rows x 28 columns]"
      ],
      "text/html": [
       "<div>\n",
       "<style scoped>\n",
       "    .dataframe tbody tr th:only-of-type {\n",
       "        vertical-align: middle;\n",
       "    }\n",
       "\n",
       "    .dataframe tbody tr th {\n",
       "        vertical-align: top;\n",
       "    }\n",
       "\n",
       "    .dataframe thead th {\n",
       "        text-align: right;\n",
       "    }\n",
       "</style>\n",
       "<table border=\"1\" class=\"dataframe\">\n",
       "  <thead>\n",
       "    <tr style=\"text-align: right;\">\n",
       "      <th></th>\n",
       "      <th>ad_id</th>\n",
       "      <th>result</th>\n",
       "      <th>job_field</th>\n",
       "      <th>position_category</th>\n",
       "      <th>position</th>\n",
       "      <th>education_level</th>\n",
       "      <th>work_time</th>\n",
       "      <th>vacancies</th>\n",
       "      <th>city</th>\n",
       "      <th>institution</th>\n",
       "      <th>...</th>\n",
       "      <th>year_announced</th>\n",
       "      <th>promocja</th>\n",
       "      <th>kandydaci</th>\n",
       "      <th>salary_for_position</th>\n",
       "      <th>offer_salary</th>\n",
       "      <th>women_percentage</th>\n",
       "      <th>fluctuation</th>\n",
       "      <th>employment_contract</th>\n",
       "      <th>voivodeship</th>\n",
       "      <th>district</th>\n",
       "    </tr>\n",
       "  </thead>\n",
       "  <tbody>\n",
       "    <tr>\n",
       "      <th>0</th>\n",
       "      <td>130994</td>\n",
       "      <td>1</td>\n",
       "      <td>vet</td>\n",
       "      <td>stanowiska samodzielne</td>\n",
       "      <td>inspektor weterynaryjny</td>\n",
       "      <td>3</td>\n",
       "      <td>0.5</td>\n",
       "      <td>1</td>\n",
       "      <td>Olesno</td>\n",
       "      <td>Powiatowy Inspektorat Weterynarii w Oleśnie</td>\n",
       "      <td>...</td>\n",
       "      <td>2023</td>\n",
       "      <td>1.0</td>\n",
       "      <td>1.0</td>\n",
       "      <td>NaN</td>\n",
       "      <td>nie podano wynagrodzenia</td>\n",
       "      <td>0.666667</td>\n",
       "      <td>0.064683</td>\n",
       "      <td>1.19</td>\n",
       "      <td>16</td>\n",
       "      <td>8</td>\n",
       "    </tr>\n",
       "    <tr>\n",
       "      <th>1</th>\n",
       "      <td>130970</td>\n",
       "      <td>0</td>\n",
       "      <td>tech/construction</td>\n",
       "      <td>stanowiska samodzielne</td>\n",
       "      <td>starszy specjalista</td>\n",
       "      <td>3</td>\n",
       "      <td>1.0</td>\n",
       "      <td>1</td>\n",
       "      <td>Bydgoszcz</td>\n",
       "      <td>Wojewódzki Inspektorat Nadzoru Budowlanego w B...</td>\n",
       "      <td>...</td>\n",
       "      <td>2023</td>\n",
       "      <td>0.0</td>\n",
       "      <td>4.0</td>\n",
       "      <td>NaN</td>\n",
       "      <td>nie podano wynagrodzenia</td>\n",
       "      <td>0.580645</td>\n",
       "      <td>0.036010</td>\n",
       "      <td>0.50</td>\n",
       "      <td>4</td>\n",
       "      <td>61</td>\n",
       "    </tr>\n",
       "    <tr>\n",
       "      <th>2</th>\n",
       "      <td>130898</td>\n",
       "      <td>1</td>\n",
       "      <td>vet</td>\n",
       "      <td>stanowiska samodzielne</td>\n",
       "      <td>asystent</td>\n",
       "      <td>2</td>\n",
       "      <td>1.0</td>\n",
       "      <td>1</td>\n",
       "      <td>Chrzanów</td>\n",
       "      <td>Powiatowy Inspektorat Weterynarii w Chrzanowie</td>\n",
       "      <td>...</td>\n",
       "      <td>2023</td>\n",
       "      <td>0.0</td>\n",
       "      <td>18.0</td>\n",
       "      <td>NaN</td>\n",
       "      <td>4400,00 zł brutto</td>\n",
       "      <td>0.833333</td>\n",
       "      <td>0.101215</td>\n",
       "      <td>NaN</td>\n",
       "      <td>12</td>\n",
       "      <td>3</td>\n",
       "    </tr>\n",
       "    <tr>\n",
       "      <th>3</th>\n",
       "      <td>130919</td>\n",
       "      <td>0</td>\n",
       "      <td>uniformed services</td>\n",
       "      <td>stanowiska samodzielne</td>\n",
       "      <td>specjalista</td>\n",
       "      <td>4</td>\n",
       "      <td>1.0</td>\n",
       "      <td>1</td>\n",
       "      <td>Warszawa</td>\n",
       "      <td>Komenda Stołeczna Policji w Warszawie</td>\n",
       "      <td>...</td>\n",
       "      <td>2023</td>\n",
       "      <td>NaN</td>\n",
       "      <td>NaN</td>\n",
       "      <td>NaN</td>\n",
       "      <td>4940,34 zł brutto</td>\n",
       "      <td>NaN</td>\n",
       "      <td>NaN</td>\n",
       "      <td>NaN</td>\n",
       "      <td>14</td>\n",
       "      <td>65</td>\n",
       "    </tr>\n",
       "    <tr>\n",
       "      <th>4</th>\n",
       "      <td>130837</td>\n",
       "      <td>1</td>\n",
       "      <td>vet</td>\n",
       "      <td>stanowiska samodzielne</td>\n",
       "      <td>inspektor weterynaryjny</td>\n",
       "      <td>3</td>\n",
       "      <td>1.0</td>\n",
       "      <td>1</td>\n",
       "      <td>Świdnica</td>\n",
       "      <td>Powiatowy Inspektorat Weterynarii w Świdnicy</td>\n",
       "      <td>...</td>\n",
       "      <td>2023</td>\n",
       "      <td>1.0</td>\n",
       "      <td>2.0</td>\n",
       "      <td>10268.888889</td>\n",
       "      <td>nie podano wynagrodzenia</td>\n",
       "      <td>0.833333</td>\n",
       "      <td>0.000000</td>\n",
       "      <td>3.00</td>\n",
       "      <td>2</td>\n",
       "      <td>19</td>\n",
       "    </tr>\n",
       "  </tbody>\n",
       "</table>\n",
       "<p>5 rows × 28 columns</p>\n",
       "</div>"
      ]
     },
     "execution_count": 5,
     "metadata": {},
     "output_type": "execute_result"
    }
   ],
   "execution_count": 5
  },
  {
   "metadata": {
    "ExecuteTime": {
     "end_time": "2025-03-26T10:44:37.880422Z",
     "start_time": "2025-03-26T10:44:37.877331Z"
    }
   },
   "cell_type": "code",
   "source": [
    "merged_bdl = main_df.copy()\n",
    "\n",
    "for i in range(len(bdl_dfs_list)):\n",
    "    merged_bdl = pd.merge(main_df, bdl_dfs_list[i], left=\"district\", right=\"\", how=\"left\", on=\"Nazwa\")"
   ],
   "id": "76fd38056998e1b2",
   "outputs": [],
   "execution_count": null
  }
 ],
 "metadata": {
  "kernelspec": {
   "display_name": "Python 3",
   "language": "python",
   "name": "python3"
  },
  "language_info": {
   "codemirror_mode": {
    "name": "ipython",
    "version": 2
   },
   "file_extension": ".py",
   "mimetype": "text/x-python",
   "name": "python",
   "nbconvert_exporter": "python",
   "pygments_lexer": "ipython2",
   "version": "2.7.6"
  }
 },
 "nbformat": 4,
 "nbformat_minor": 5
}
