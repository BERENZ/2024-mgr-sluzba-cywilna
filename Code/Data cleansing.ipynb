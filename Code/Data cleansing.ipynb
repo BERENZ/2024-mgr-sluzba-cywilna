{
 "cells": [
  {
   "cell_type": "code",
   "execution_count": 1,
   "id": "initial_id",
   "metadata": {
    "collapsed": true,
    "ExecuteTime": {
     "end_time": "2024-03-28T11:47:37.993371Z",
     "start_time": "2024-03-28T11:47:36.432366Z"
    }
   },
   "outputs": [],
   "source": [
    "import pandas as pd\n",
    "import os"
   ]
  },
  {
   "cell_type": "markdown",
   "source": [
    "## Loading data"
   ],
   "metadata": {
    "collapsed": false
   },
   "id": "da17d20ef4204758"
  },
  {
   "cell_type": "code",
   "outputs": [],
   "source": [
    "path = os.getcwd()[0:-5] + '\\\\Data\\\\kprm-with-salary-update-20231115.json'\n",
    "\n",
    "df = pd.read_json(path, lines=True)\n",
    "\n",
    "# Dropping unnecessary columns:\n",
    "# '6' has been split on 2 columns due to an error during the download,\n",
    "# while '8' is a duplicate of '9' with minor differences. However, '9' is\n",
    "# believed to be the correct version.\n",
    "df.drop(columns=[6,8], inplace=True)\n",
    "\n",
    "# Renaming columns.\n",
    "df.columns = ['Ad ID', 'Job title', 'Employer (entity)', 'Employer location', 'Office address', 'Workplace', 'Department', 'Posted on', 'Expiration date', 'Detailed recruitment results', 'Salary (monthly)', 'Vacancies', 'Full-time ratio', 'Recruitment results', 'Description of duties', 'Required level of education', 'Prerequisites', 'Optional requirements', 'Application instructions', 'Number of views']"
   ],
   "metadata": {
    "collapsed": false,
    "ExecuteTime": {
     "end_time": "2024-03-28T11:47:48.910694Z",
     "start_time": "2024-03-28T11:47:38.002985Z"
    }
   },
   "id": "f6a4e2d0f5e507f6",
   "execution_count": 2
  },
  {
   "cell_type": "code",
   "outputs": [
    {
     "name": "stdout",
     "output_type": "stream",
     "text": [
      "1\n"
     ]
    }
   ],
   "source": [
    "print(df['Recruitment results'].nunique())"
   ],
   "metadata": {
    "collapsed": false,
    "ExecuteTime": {
     "end_time": "2024-03-28T11:47:48.974065Z",
     "start_time": "2024-03-28T11:47:48.910694Z"
    }
   },
   "id": "2221fccc52ee5c9d",
   "execution_count": 3
  },
  {
   "cell_type": "code",
   "outputs": [],
   "source": [
    "# The data contains no active posts at the time of the download:\n",
    "# the column \"Recruitment results\" contains only one unique value - \"Koniec naboru\"\n",
    "# (recruitment finished).\n",
    "# Thus, we can drop the column.\n",
    "df.drop(columns=[\"Recruitment results\"], inplace=True)"
   ],
   "metadata": {
    "collapsed": false,
    "ExecuteTime": {
     "end_time": "2024-03-28T11:47:49.127652Z",
     "start_time": "2024-03-28T11:47:48.974065Z"
    }
   },
   "id": "a5c353681ae0d424",
   "execution_count": 4
  },
  {
   "cell_type": "markdown",
   "source": [
    "## Cleansing"
   ],
   "metadata": {
    "collapsed": false
   },
   "id": "65d45f300dffc867"
  },
  {
   "cell_type": "markdown",
   "source": [
    "#### Reducing data size\n",
    "<span style=\"font-size:1.05em;\">We're removing unnecessary text from rows, such as \"NR\" (an abbreviation for number) in every cell of the \"Ad ID\" column.</span>"
   ],
   "metadata": {
    "collapsed": false
   },
   "id": "533ea4c5af6f84d7"
  },
  {
   "cell_type": "code",
   "outputs": [
    {
     "data": {
      "text/plain": "    Ad ID            Job title  \\\n0  131450   główny specjalista   \n1  131558             księgowy   \n2  131502  starszy specjalista   \n3  131510            inspektor   \n4  131408   główny specjalista   \n\n                                   Employer (entity) Employer location  \\\n0   Ministerstwo Rolnictwa i Rozwoju Wsi w Warszawie          Warszawa   \n1          Powiatowy Inspektorat Weterynarii w Piszu              Pisz   \n2       Główny Urząd Nadzoru Budowlanego w Warszawie          Warszawa   \n3  Powiatowy Inspektorat Nadzoru Budowlanego w Hr...        Hrubieszów   \n4     Ministerstwo Rozwoju i Technologii w Warszawie          Warszawa   \n\n                           Office address  \\\n0          ul. Wspólna 30 00-930 Warszawa   \n1           ul. Warszawska 38 12-200 Pisz   \n2            Krucza 38/42 00-926 Warszawa   \n3  ul. Plac Wolności 13 22-500 Hrubieszów   \n4   pl. Trzech Krzyży 3/5 00-507 Warszawa   \n\n                                           Workplace  \\\n0                                           Warszawa   \n1  Pisz Powiatowy Inspektorat Weterynarii ul. War...   \n2                          Warszawa ul. Krucza 38/42   \n3  Hrubieszów 22-500 Hrubieszów, ul. Plac Wolnośc...   \n4                                           Warszawa   \n\n                                          Department        Posted on  \\\n0    w Wydziale Obsługi Płacowej w Biurze Finansowym  15 grudnia 2023   \n1  w zespole ds. finansowo-księgowych i administr...  15 grudnia 2023   \n2                            w Biurze Organizacyjnym  14 grudnia 2023   \n3                       Referat inspekcji i kontroli  13 grudnia 2023   \n4  w Wydziale Wynagrodzeń w Departamencie Budżetu...  13 grudnia 2023   \n\n   Expiration date Detailed recruitment results  \\\n0  29 grudnia 2023             anulowano nabór|   \n1  29 grudnia 2023             anulowano nabór|   \n2  29 grudnia 2023             anulowano nabór|   \n3  29 grudnia 2023             anulowano nabór|   \n4  27 grudnia 2023             anulowano nabór|   \n\n                     Salary (monthly)  Vacancies Full-time ratio  \\\n0                   7009,44 zł brutto          1               1   \n1            nie podano wynagrodzenia          1               1   \n2            nie podano wynagrodzenia          1               1   \n3            nie podano wynagrodzenia          1               1   \n4  od 7009,00 zł do 7447,00 zł brutto          1               1   \n\n                               Description of duties  \\\n0  [nalicza wynagrodzenia pracowników oraz zasiłk...   \n1  [Wykonuje zadania księgowego w jednostce budże...   \n2  [organizuje proces przeprowadzania naborów do ...   \n3  [Prowadzi postępowania administracyjne wynikaj...   \n4  [prowadzi obsługę płacową dla pracowników zatr...   \n\n                         Required level of education  \\\n0                                            wyższe    \n1                                wyższe ekonomiczne    \n2                                            wyższe    \n3            średnie budowlane lub architektoniczne    \n4  wyższe ekonomiczne lub inne nieprofilowane wra...   \n\n                                       Prerequisites  \\\n0  [3 lata stażu pracy w obszarze wynagrodzeń i u...   \n1  [doświadczenie zawodowe: co najmniej 1 rok , W...   \n2  [doświadczenie zawodowe: 1,5 roku w pracy zwią...   \n3  [staż pracy: w administracji publicznej lub w ...   \n4  [Doświadczenie zawodowe: minimum 3 lata w obsz...   \n\n                               Optional requirements  \\\n0  [Wykształcenie wyższe ekonomiczne lub ekonomic...   \n1                                  [komunikatywność]   \n2  [Wykształcenie: wyższe prawnicze lub administr...   \n3  [Wykształcenie: wyższe Wykształcenie: wyższe b...   \n4  [CV i list motywacyjny, Kopie dokumentów potwi...   \n\n                            Application instructions Number of views  \n0  [Dokumenty należy złożyć do: 29.12.2023, Decyd...             91   \n1  [Dokumenty należy złożyć do: 29.12.2023, Decyd...             25   \n2  [Dokumenty należy złożyć do: 29.12.2023, Decyd...             34   \n3  [Dokumenty należy złożyć do: 29.12.2023, Decyd...             58   \n4  [Dokumenty należy złożyć do: 27.12.2023, Decyd...            395   ",
      "text/html": "<div>\n<style scoped>\n    .dataframe tbody tr th:only-of-type {\n        vertical-align: middle;\n    }\n\n    .dataframe tbody tr th {\n        vertical-align: top;\n    }\n\n    .dataframe thead th {\n        text-align: right;\n    }\n</style>\n<table border=\"1\" class=\"dataframe\">\n  <thead>\n    <tr style=\"text-align: right;\">\n      <th></th>\n      <th>Ad ID</th>\n      <th>Job title</th>\n      <th>Employer (entity)</th>\n      <th>Employer location</th>\n      <th>Office address</th>\n      <th>Workplace</th>\n      <th>Department</th>\n      <th>Posted on</th>\n      <th>Expiration date</th>\n      <th>Detailed recruitment results</th>\n      <th>Salary (monthly)</th>\n      <th>Vacancies</th>\n      <th>Full-time ratio</th>\n      <th>Description of duties</th>\n      <th>Required level of education</th>\n      <th>Prerequisites</th>\n      <th>Optional requirements</th>\n      <th>Application instructions</th>\n      <th>Number of views</th>\n    </tr>\n  </thead>\n  <tbody>\n    <tr>\n      <th>0</th>\n      <td>131450</td>\n      <td>główny specjalista</td>\n      <td>Ministerstwo Rolnictwa i Rozwoju Wsi w Warszawie</td>\n      <td>Warszawa</td>\n      <td>ul. Wspólna 30 00-930 Warszawa</td>\n      <td>Warszawa</td>\n      <td>w Wydziale Obsługi Płacowej w Biurze Finansowym</td>\n      <td>15 grudnia 2023</td>\n      <td>29 grudnia 2023</td>\n      <td>anulowano nabór|</td>\n      <td>7009,44 zł brutto</td>\n      <td>1</td>\n      <td>1</td>\n      <td>[nalicza wynagrodzenia pracowników oraz zasiłk...</td>\n      <td>wyższe</td>\n      <td>[3 lata stażu pracy w obszarze wynagrodzeń i u...</td>\n      <td>[Wykształcenie wyższe ekonomiczne lub ekonomic...</td>\n      <td>[Dokumenty należy złożyć do: 29.12.2023, Decyd...</td>\n      <td>91</td>\n    </tr>\n    <tr>\n      <th>1</th>\n      <td>131558</td>\n      <td>księgowy</td>\n      <td>Powiatowy Inspektorat Weterynarii w Piszu</td>\n      <td>Pisz</td>\n      <td>ul. Warszawska 38 12-200 Pisz</td>\n      <td>Pisz Powiatowy Inspektorat Weterynarii ul. War...</td>\n      <td>w zespole ds. finansowo-księgowych i administr...</td>\n      <td>15 grudnia 2023</td>\n      <td>29 grudnia 2023</td>\n      <td>anulowano nabór|</td>\n      <td>nie podano wynagrodzenia</td>\n      <td>1</td>\n      <td>1</td>\n      <td>[Wykonuje zadania księgowego w jednostce budże...</td>\n      <td>wyższe ekonomiczne</td>\n      <td>[doświadczenie zawodowe: co najmniej 1 rok , W...</td>\n      <td>[komunikatywność]</td>\n      <td>[Dokumenty należy złożyć do: 29.12.2023, Decyd...</td>\n      <td>25</td>\n    </tr>\n    <tr>\n      <th>2</th>\n      <td>131502</td>\n      <td>starszy specjalista</td>\n      <td>Główny Urząd Nadzoru Budowlanego w Warszawie</td>\n      <td>Warszawa</td>\n      <td>Krucza 38/42 00-926 Warszawa</td>\n      <td>Warszawa ul. Krucza 38/42</td>\n      <td>w Biurze Organizacyjnym</td>\n      <td>14 grudnia 2023</td>\n      <td>29 grudnia 2023</td>\n      <td>anulowano nabór|</td>\n      <td>nie podano wynagrodzenia</td>\n      <td>1</td>\n      <td>1</td>\n      <td>[organizuje proces przeprowadzania naborów do ...</td>\n      <td>wyższe</td>\n      <td>[doświadczenie zawodowe: 1,5 roku w pracy zwią...</td>\n      <td>[Wykształcenie: wyższe prawnicze lub administr...</td>\n      <td>[Dokumenty należy złożyć do: 29.12.2023, Decyd...</td>\n      <td>34</td>\n    </tr>\n    <tr>\n      <th>3</th>\n      <td>131510</td>\n      <td>inspektor</td>\n      <td>Powiatowy Inspektorat Nadzoru Budowlanego w Hr...</td>\n      <td>Hrubieszów</td>\n      <td>ul. Plac Wolności 13 22-500 Hrubieszów</td>\n      <td>Hrubieszów 22-500 Hrubieszów, ul. Plac Wolnośc...</td>\n      <td>Referat inspekcji i kontroli</td>\n      <td>13 grudnia 2023</td>\n      <td>29 grudnia 2023</td>\n      <td>anulowano nabór|</td>\n      <td>nie podano wynagrodzenia</td>\n      <td>1</td>\n      <td>1</td>\n      <td>[Prowadzi postępowania administracyjne wynikaj...</td>\n      <td>średnie budowlane lub architektoniczne</td>\n      <td>[staż pracy: w administracji publicznej lub w ...</td>\n      <td>[Wykształcenie: wyższe Wykształcenie: wyższe b...</td>\n      <td>[Dokumenty należy złożyć do: 29.12.2023, Decyd...</td>\n      <td>58</td>\n    </tr>\n    <tr>\n      <th>4</th>\n      <td>131408</td>\n      <td>główny specjalista</td>\n      <td>Ministerstwo Rozwoju i Technologii w Warszawie</td>\n      <td>Warszawa</td>\n      <td>pl. Trzech Krzyży 3/5 00-507 Warszawa</td>\n      <td>Warszawa</td>\n      <td>w Wydziale Wynagrodzeń w Departamencie Budżetu...</td>\n      <td>13 grudnia 2023</td>\n      <td>27 grudnia 2023</td>\n      <td>anulowano nabór|</td>\n      <td>od 7009,00 zł do 7447,00 zł brutto</td>\n      <td>1</td>\n      <td>1</td>\n      <td>[prowadzi obsługę płacową dla pracowników zatr...</td>\n      <td>wyższe ekonomiczne lub inne nieprofilowane wra...</td>\n      <td>[Doświadczenie zawodowe: minimum 3 lata w obsz...</td>\n      <td>[CV i list motywacyjny, Kopie dokumentów potwi...</td>\n      <td>[Dokumenty należy złożyć do: 27.12.2023, Decyd...</td>\n      <td>395</td>\n    </tr>\n  </tbody>\n</table>\n</div>"
     },
     "execution_count": 5,
     "metadata": {},
     "output_type": "execute_result"
    }
   ],
   "source": [
    "for index, row in df.iterrows():\n",
    "    if row['Ad ID'][0] == 'N' and row['Ad ID'][2] == ' ':\n",
    "        df.at[index, 'Ad ID'] = row['Ad ID'][3:]\n",
    "    \n",
    "    # Removing \"Adres urzędu: \" from each row.\n",
    "    if row['Office address'][12] == ':' and row['Office address'][13] == ' ':\n",
    "        df.at[index, 'Office address'] = row['Office address'][14:]\n",
    "    elif row['Office address'][12] == ':':\n",
    "        df.at[index, 'Office address'] = row['Office address'][13:]\n",
    "        \n",
    "    # Removing \"Miejsce wykonywania pracy: \" from each row.\n",
    "    if row['Workplace'][25] == ':' and row['Workplace'][26] == ' ':\n",
    "        df.at[index, 'Workplace'] = row['Workplace'][27:]\n",
    "    elif row['Workplace'][25] == ':':\n",
    "        df.at[index, 'Workplace'] = row['Workplace'][26:]\n",
    "\n",
    "    # Removing \"Wykształcenie: \" from each row. \n",
    "    if row['Required level of education'][13] == ':' and row['Required level of education'][14] == ' ':\n",
    "        df.at[index, 'Required level of education'] = row['Required level of education'][15:]\n",
    "    elif row['Required level of education'][13] == ':':\n",
    "        df.at[index, 'Required level of education'] = row['Required level of education'][14:]\n",
    "        \n",
    "    # Removing \"Wyniki naboru: \" from each row.\n",
    "    if row['Detailed recruitment results'][14] == ' ' and row['Detailed recruitment results'][13] == ':':\n",
    "        df.at[index, 'Detailed recruitment results'] = row['Detailed recruitment results'][15:]\n",
    "    elif row['Detailed recruitment results'][13] == ':':\n",
    "        df.at[index, 'Detailed recruitment results'] = row['Detailed recruitment results'][14:]\n",
    "    \n",
    "    # Removing \"Liczba odwiedzin: \" from each row.\n",
    "    # One additional condition since the first character in most entries is a space.\n",
    "    if row['Required level of education'][0] == ' ':\n",
    "        if row['Number of views'][18] == ':' and row['Number of views'][19] == ' ':\n",
    "            df.at[index, 'Number of views'] = row['Number of views'][20:]\n",
    "        elif row['Number of views'][18] == ':' and row['Number of views'][1].lower() == 'l':\n",
    "            df.at[index, 'Number of views'] = row['Number of views'][19:]\n",
    "    else:\n",
    "        if row['Number of views'][17] == ':' and row['Number of views'][18] == ' ':\n",
    "            df.at[index, 'Number of views'] = row['Number of views'][19:]\n",
    "        elif row['Number of views'][16] == ':' and row['Number of views'][0].lower() == 'l':\n",
    "            df.at[index, 'Number of views'] = row['Number of views'][17:]\n",
    "\n",
    "        \n",
    "df.head()"
   ],
   "metadata": {
    "collapsed": false,
    "ExecuteTime": {
     "end_time": "2024-03-28T11:48:33.195632Z",
     "start_time": "2024-03-28T11:47:49.131792Z"
    }
   },
   "id": "9bbf3613f848698c",
   "execution_count": 5
  },
  {
   "cell_type": "markdown",
   "source": [
    "#### Making data readable for computers"
   ],
   "metadata": {
    "collapsed": false
   },
   "id": "cd193d6918291395"
  },
  {
   "cell_type": "markdown",
   "source": [
    "##### The salary column"
   ],
   "metadata": {
    "collapsed": false
   },
   "id": "9c07de29dc1d14c"
  },
  {
   "cell_type": "markdown",
   "source": [
    "<span style=\"font-size:1.05em;\">First, we're checking whether all salaries are given as gross (brutto) or if there are some given as net (netto).</span>"
   ],
   "metadata": {
    "collapsed": false
   },
   "id": "f350cec1755b12ad"
  },
  {
   "cell_type": "code",
   "outputs": [
    {
     "name": "stdout",
     "output_type": "stream",
     "text": [
      "117\n"
     ]
    }
   ],
   "source": [
    "df_netto = df[df['Salary (monthly)'].str.contains('netto')][['Salary (monthly)']]\n",
    "count_netto = len(df_netto)\n",
    "print(count_netto)"
   ],
   "metadata": {
    "collapsed": false,
    "ExecuteTime": {
     "end_time": "2024-03-28T11:48:33.290101Z",
     "start_time": "2024-03-28T11:48:33.197724Z"
    }
   },
   "id": "93f44045b7ae39e1",
   "execution_count": 6
  },
  {
   "cell_type": "markdown",
   "source": [
    "<span style=\"font-size:1.05em;\">Exploring the frequency of different recruitment results.</span>"
   ],
   "metadata": {
    "collapsed": false
   },
   "id": "212b6d028a10355c"
  },
  {
   "cell_type": "code",
   "outputs": [],
   "source": [
    "# Announcements that ended with the employment of a candidate.\n",
    "success_df = df[df['Detailed recruitment results'].str.contains(r'wyborem kandydatki/kandydata')][['Detailed recruitment results']]\n",
    "success_count = len(success_df)"
   ],
   "metadata": {
    "collapsed": false,
    "ExecuteTime": {
     "end_time": "2024-03-28T11:48:34.074062Z",
     "start_time": "2024-03-28T11:48:33.292308Z"
    }
   },
   "id": "bc2e2670329cbde7",
   "execution_count": 7
  },
  {
   "cell_type": "code",
   "outputs": [],
   "source": [
    "# Announcements that ended without employing a candidate.\n",
    "failure_df = df[df['Detailed recruitment results'].str.contains(r'bez wyboru kandydatki/kandydata')][['Detailed recruitment results']]\n",
    "failure_count = len(failure_df)"
   ],
   "metadata": {
    "collapsed": false,
    "ExecuteTime": {
     "end_time": "2024-03-28T11:48:34.238602Z",
     "start_time": "2024-03-28T11:48:34.083554Z"
    }
   },
   "id": "45c3016e1214b276",
   "execution_count": 8
  },
  {
   "cell_type": "code",
   "outputs": [
    {
     "name": "stdout",
     "output_type": "stream",
     "text": [
      "Ads that led to employment: 45150\n",
      "Ads that did not led to employment: 28946\n",
      "Ads cancelled as a result of an error: 29\n"
     ]
    }
   ],
   "source": [
    "# Announcements that have been cancelled as a results of an error; they are omitted in our analysis.\n",
    "error1_df = df[df['Detailed recruitment results'].str.contains(r'błędu|błąd')][['Detailed recruitment results']]\n",
    "error1_count = len(error1_df)\n",
    "\n",
    "# \n",
    "error2_df = df.loc[df['Detailed recruitment results'] == 'anulowano nabór|']\n",
    "error2_count = len(error2_df)\n",
    "\n",
    "error_count = error1_count + error2_count\n",
    "print(f\"Ads that led to employment: {success_count}\\n\"\n",
    "      f\"Ads that did not led to employment: {failure_count}\\n\"\n",
    "      f\"Ads cancelled as a result of an error: {error1_count}\")"
   ],
   "metadata": {
    "collapsed": false,
    "ExecuteTime": {
     "end_time": "2024-03-28T11:48:34.363637Z",
     "start_time": "2024-03-28T11:48:34.241522Z"
    }
   },
   "id": "36c0c6512626bd57",
   "execution_count": 9
  },
  {
   "cell_type": "code",
   "outputs": [],
   "source": [
    "indexes_to_remove = list(error1_df.index) + list(error2_df.index) + list(success_df.index) + list(failure_df.index)"
   ],
   "metadata": {
    "collapsed": false,
    "ExecuteTime": {
     "end_time": "2024-03-28T11:48:34.395327Z",
     "start_time": "2024-03-28T11:48:34.369176Z"
    }
   },
   "id": "5ac8ffd80b9238d3",
   "execution_count": 10
  },
  {
   "cell_type": "code",
   "outputs": [
    {
     "data": {
      "text/plain": "       Ad ID                                          Job title  \\\n6     131459                                           laborant   \n10    131315                            kontroler weterynaryjny   \n13    131159                            inspektor weterynaryjny   \n16    130982  pełnomocnik do spraw ochrony informacji niejaw...   \n18    131087                                  starszy inspektor   \n...      ...                                                ...   \n5024  124476                            inspektor weterynaryjny   \n5027  124481                                 naczelnik wydziału   \n5088  124197              starszy inspektor nadzoru budowlanego   \n5092  124459                                          inspektor   \n5095  124466                                 kontroler skarbowy   \n\n                                      Employer (entity) Employer location  \\\n6     Główny Inspektorat Ochrony Roślin i Nasiennict...           Rzeszów   \n10          Powiatowy Inspektorat Weterynarii w Zgierzu            Zgierz   \n13          Powiatowy Inspektorat Weterynarii w Lęborku            Lębork   \n16    Generalna Dyrekcja Ochrony Środowiska w Warszawie          Warszawa   \n18                     Opolski Urząd Wojewódzki w Opolu             Opole   \n...                                                 ...               ...   \n5024  Powiatowy Inspektorat Weterynarii w Rawie Mazo...   Rawa Mazowiecka   \n5027                  Ministerstwo Finansów w Warszawie          Warszawa   \n5088  Powiatowy Inspektorat Nadzoru Budowlanego w Op...   Opole Lubelskie   \n5092                    Łódzki Urząd Wojewódzki w Łodzi              Łódź   \n5095             Izba Administracji Skarbowej w Gdańsku            Gdańsk   \n\n                              Office address  \\\n6       Al. Jana Pawła II 11 00-828 Warszawa   \n10            ul. A. Struga 23 95-100 Zgierz   \n13         Ul. Weterynaryjna 1 84-300 Lębork   \n16     Al. Jerozolimskie 136 02-305 Warszawa   \n18            ul. Piastowska 14 45-082 Opole   \n...                                      ...   \n5024  Mszczonowska 10 96-200 Rawa Mazowiecka   \n5027    ul. Świętokrzyska 12 00-916 Warszawa   \n5088    ul. Parkowa 2 24-300 Opole Lubelskie   \n5092             Piotrkowska 104 90-926 Łódź   \n5095           ul. Długa 75/76 80-831 Gdańsk   \n\n                                              Workplace  \\\n6     Rzeszów OCL GIORiN w Rzeszowie, ul. Langiewicz...   \n10                        Zgierz Zgierz ul. A.Struga 23   \n13             Lębork ul. Weterynaryjna 1 84-300 Lębork   \n16    Warszawa Al. Jerozolimskie 136 (Eurocentrum Of...   \n18                 Opole ul. Piastowska 14 45-082 Opole   \n...                                                 ...   \n5024                                    Rawa Mazowiecka   \n5027                                           Warszawa   \n5088                                    Opole Lubelskie   \n5092               Łódź ul. Piotrkowska 103 90-425 Łódź   \n5095                 Gdańsk 80-560 Gdańsk ul. Żaglowa 2   \n\n                                             Department         Posted on  \\\n6       w Oddziale Centralnego Laboratorium w Rzeszowie   13 grudnia 2023   \n10    Zespół ds. bezpieczeństwa żywności, pasz i uty...   08 grudnia 2023   \n13    w zespole ds. bezpieczeństwa żywności, pasz i ...   06 grudnia 2023   \n16    Stanowisko do spraw Ochrony Informacji Niejawnych   08 grudnia 2023   \n18    w Wydziale Prawnym i Nadzoru / Oddział Organiz...   14 grudnia 2023   \n...                                                 ...               ...   \n5024  w zespole ds. bezpieczeństwa żywności, pasz i ...     25 lipca 2023   \n5027  w Wydziale Procesów Zakupowych i Rejestru Umów...  28 sierpnia 2023   \n5088  Powiatowy Inspektorat Nadzoru Budowlanego w Op...  01 sierpnia 2023   \n5092  w Oddziale cudzoziemców do spraw legalizacji p...  12 września 2023   \n5095  w Wydziale Audytu Środków Pochodzących z Budże...  29 sierpnia 2023   \n\n       Expiration date                       Detailed recruitment results  \\\n6      22 grudnia 2023  anulowano nabórN|abór wprowadzono dwukrotnie w...   \n10     25 grudnia 2023  anulowano nabórB|rak informacji dla kandydata,...   \n13     20 grudnia 2023                 anulowano nabórB|łędy w ogłoszeniu   \n16     20 grudnia 2023  anulowano nabórZ|miana wynika ze zmian organiz...   \n18     12 grudnia 2023  anulowano nabórA|nulowanie naboru z uwagi na b...   \n...                ...                                                ...   \n5024  25 sierpnia 2023            anulowano nabórN|IEKOMPLETNE INFORMACJE   \n5027   4 sierpnia 2023               nie zatrudniono kandydatki/kandydata   \n5088  18 sierpnia 2023            anulowano nabórw|ycofanie wypowiedzenia   \n5092   3 sierpnia 2023  informacja o zatrudnieniu kandydatki/kandydata...   \n5095   3 sierpnia 2023               nie zatrudniono kandydatki/kandydata   \n\n                        Salary (monthly)  Vacancies Full-time ratio  \\\n6               nie podano wynagrodzenia          1               1   \n10              nie podano wynagrodzenia          1               1   \n13              nie podano wynagrodzenia          1               1   \n16                     3723,00 zł brutto          1             1/2   \n18              nie podano wynagrodzenia          1               1   \n...                                  ...        ...             ...   \n5024            nie podano wynagrodzenia          1               1   \n5027            nie podano wynagrodzenia          1               1   \n5088            nie podano wynagrodzenia          1               1   \n5092  od 3800,00 zł do 3900,00 zł brutto          1               1   \n5095                   5213,27 zł brutto          1               1   \n\n                                  Description of duties  \\\n6     [przygotowuje próbki do badań laboratoryjnych;...   \n10    [Nadzór weterynaryjny nad podmiotami produkują...   \n13    [wykonuje zdania Inspekcji Weterynaryjnej okre...   \n16    [zapewnia przestrzeganie przepisów o ochronie ...   \n18    [Rozpatruje skargi, wnioski i petycje w celu z...   \n...                                                 ...   \n5024  [sprawuje nadzór weterynaryjny nad podmiotami ...   \n5027  [Kieruje pracą wydziału, w szczególności poprz...   \n5088  [kontrola budowy i utrzymania obiektów budowla...   \n5092  [prowadzenie postępowań administracyjnych w za...   \n5095  [Wykonuje audyty systemu zarządzania i kontrol...   \n\n                            Required level of education  \\\n6        średnie biologiczne, rolnicze, bądź pokrewne;    \n10            średnie zootechnika, technik weterynarii    \n13                                wyższe weterynaryjne    \n16                                              wyższe    \n18                                             średnie    \n...                                                 ...   \n5024                              wyższe weterynaryjne    \n5027  wyższe na kierunku informatyka lub cyberbezpie...   \n5088                                  wyższe budowlane    \n5092                                           średnie    \n5095                                           średnie    \n\n                                          Prerequisites  \\\n6     [„W służbie cywilnej nie może być zatrudniona ...   \n10    [Znajomość przepisów weterynaryjnych z zakresu...   \n13    [Prawo wykonywania zawodu lekarza weterynarii,...   \n16    [doświadczenie zawodowe: co najmniej 1 rok w o...   \n18    [doświadczenie zawodowe: co najmniej 1 rok , Z...   \n...                                                 ...   \n5024  [prawo wykonywania zawodu lekarza weterynarii;...   \n5027  [doświadczenie zawodowe: co najmniej 4 lata w ...   \n5088  [doświadczenie zawodowe: co najmniej 2 lata pr...   \n5092  [staż pracy: co najmniej 6 miesięcy w administ...   \n5095  [doświadczenie zawodowe: co najmniej 1 rok i 6...   \n\n                                  Optional requirements  \\\n6     [Wykształcenie: wyższe biologiczne, rolnicze l...   \n10               [Wykształcenie: wyższe weterynaryjne ]   \n13    [staż pracy: , znajomość języka angielskiego n...   \n16    [doświadczenie zawodowe: co najmniej 1 rok w o...   \n18    [doświadczenie zawodowe: co najmniej 8 miesięc...   \n...                                                 ...   \n5024              [staż pracy: co najmniej 6 miesięcy ]   \n5027  [doświadczenie zawodowe: co najmniej 1 rok w k...   \n5088  [Wykształcenie: wyższe budowlane , doświadczen...   \n5092  [obsługa systemu informatycznego rejestrująceg...   \n5095  [doświadczenie zawodowe: co najmniej 1 rok w a...   \n\n                               Application instructions Number of views  \n6     [Dokumenty należy złożyć do: 22.12.2023, Decyd...            207   \n10    [Dokumenty należy złożyć do: 25.12.2023, Decyd...             70   \n13    [Dokumenty należy złożyć do: 20.12.2023, Decyd...             67   \n16    [Dokumenty należy złożyć do: 20.12.2023, Decyd...            391   \n18    [Dokumenty należy złożyć do: 12.12.2023, Decyd...            438   \n...                                                 ...             ...  \n5024  [Dokumenty należy złożyć do: 25.08.2023, Decyd...            593   \n5027  [Dokumenty należy złożyć do: 04.08.2023, Decyd...           2028   \n5088  [Dokumenty należy złożyć do: 18.08.2023, Decyd...            640   \n5092  [Dokumenty należy złożyć do: 03.08.2023, Decyd...           1291   \n5095  [Dokumenty należy złożyć do: 03.08.2023, Decyd...           1171   \n\n[300 rows x 19 columns]",
      "text/html": "<div>\n<style scoped>\n    .dataframe tbody tr th:only-of-type {\n        vertical-align: middle;\n    }\n\n    .dataframe tbody tr th {\n        vertical-align: top;\n    }\n\n    .dataframe thead th {\n        text-align: right;\n    }\n</style>\n<table border=\"1\" class=\"dataframe\">\n  <thead>\n    <tr style=\"text-align: right;\">\n      <th></th>\n      <th>Ad ID</th>\n      <th>Job title</th>\n      <th>Employer (entity)</th>\n      <th>Employer location</th>\n      <th>Office address</th>\n      <th>Workplace</th>\n      <th>Department</th>\n      <th>Posted on</th>\n      <th>Expiration date</th>\n      <th>Detailed recruitment results</th>\n      <th>Salary (monthly)</th>\n      <th>Vacancies</th>\n      <th>Full-time ratio</th>\n      <th>Description of duties</th>\n      <th>Required level of education</th>\n      <th>Prerequisites</th>\n      <th>Optional requirements</th>\n      <th>Application instructions</th>\n      <th>Number of views</th>\n    </tr>\n  </thead>\n  <tbody>\n    <tr>\n      <th>6</th>\n      <td>131459</td>\n      <td>laborant</td>\n      <td>Główny Inspektorat Ochrony Roślin i Nasiennict...</td>\n      <td>Rzeszów</td>\n      <td>Al. Jana Pawła II 11 00-828 Warszawa</td>\n      <td>Rzeszów OCL GIORiN w Rzeszowie, ul. Langiewicz...</td>\n      <td>w Oddziale Centralnego Laboratorium w Rzeszowie</td>\n      <td>13 grudnia 2023</td>\n      <td>22 grudnia 2023</td>\n      <td>anulowano nabórN|abór wprowadzono dwukrotnie w...</td>\n      <td>nie podano wynagrodzenia</td>\n      <td>1</td>\n      <td>1</td>\n      <td>[przygotowuje próbki do badań laboratoryjnych;...</td>\n      <td>średnie biologiczne, rolnicze, bądź pokrewne;</td>\n      <td>[„W służbie cywilnej nie może być zatrudniona ...</td>\n      <td>[Wykształcenie: wyższe biologiczne, rolnicze l...</td>\n      <td>[Dokumenty należy złożyć do: 22.12.2023, Decyd...</td>\n      <td>207</td>\n    </tr>\n    <tr>\n      <th>10</th>\n      <td>131315</td>\n      <td>kontroler weterynaryjny</td>\n      <td>Powiatowy Inspektorat Weterynarii w Zgierzu</td>\n      <td>Zgierz</td>\n      <td>ul. A. Struga 23 95-100 Zgierz</td>\n      <td>Zgierz Zgierz ul. A.Struga 23</td>\n      <td>Zespół ds. bezpieczeństwa żywności, pasz i uty...</td>\n      <td>08 grudnia 2023</td>\n      <td>25 grudnia 2023</td>\n      <td>anulowano nabórB|rak informacji dla kandydata,...</td>\n      <td>nie podano wynagrodzenia</td>\n      <td>1</td>\n      <td>1</td>\n      <td>[Nadzór weterynaryjny nad podmiotami produkują...</td>\n      <td>średnie zootechnika, technik weterynarii</td>\n      <td>[Znajomość przepisów weterynaryjnych z zakresu...</td>\n      <td>[Wykształcenie: wyższe weterynaryjne ]</td>\n      <td>[Dokumenty należy złożyć do: 25.12.2023, Decyd...</td>\n      <td>70</td>\n    </tr>\n    <tr>\n      <th>13</th>\n      <td>131159</td>\n      <td>inspektor weterynaryjny</td>\n      <td>Powiatowy Inspektorat Weterynarii w Lęborku</td>\n      <td>Lębork</td>\n      <td>Ul. Weterynaryjna 1 84-300 Lębork</td>\n      <td>Lębork ul. Weterynaryjna 1 84-300 Lębork</td>\n      <td>w zespole ds. bezpieczeństwa żywności, pasz i ...</td>\n      <td>06 grudnia 2023</td>\n      <td>20 grudnia 2023</td>\n      <td>anulowano nabórB|łędy w ogłoszeniu</td>\n      <td>nie podano wynagrodzenia</td>\n      <td>1</td>\n      <td>1</td>\n      <td>[wykonuje zdania Inspekcji Weterynaryjnej okre...</td>\n      <td>wyższe weterynaryjne</td>\n      <td>[Prawo wykonywania zawodu lekarza weterynarii,...</td>\n      <td>[staż pracy: , znajomość języka angielskiego n...</td>\n      <td>[Dokumenty należy złożyć do: 20.12.2023, Decyd...</td>\n      <td>67</td>\n    </tr>\n    <tr>\n      <th>16</th>\n      <td>130982</td>\n      <td>pełnomocnik do spraw ochrony informacji niejaw...</td>\n      <td>Generalna Dyrekcja Ochrony Środowiska w Warszawie</td>\n      <td>Warszawa</td>\n      <td>Al. Jerozolimskie 136 02-305 Warszawa</td>\n      <td>Warszawa Al. Jerozolimskie 136 (Eurocentrum Of...</td>\n      <td>Stanowisko do spraw Ochrony Informacji Niejawnych</td>\n      <td>08 grudnia 2023</td>\n      <td>20 grudnia 2023</td>\n      <td>anulowano nabórZ|miana wynika ze zmian organiz...</td>\n      <td>3723,00 zł brutto</td>\n      <td>1</td>\n      <td>1/2</td>\n      <td>[zapewnia przestrzeganie przepisów o ochronie ...</td>\n      <td>wyższe</td>\n      <td>[doświadczenie zawodowe: co najmniej 1 rok w o...</td>\n      <td>[doświadczenie zawodowe: co najmniej 1 rok w o...</td>\n      <td>[Dokumenty należy złożyć do: 20.12.2023, Decyd...</td>\n      <td>391</td>\n    </tr>\n    <tr>\n      <th>18</th>\n      <td>131087</td>\n      <td>starszy inspektor</td>\n      <td>Opolski Urząd Wojewódzki w Opolu</td>\n      <td>Opole</td>\n      <td>ul. Piastowska 14 45-082 Opole</td>\n      <td>Opole ul. Piastowska 14 45-082 Opole</td>\n      <td>w Wydziale Prawnym i Nadzoru / Oddział Organiz...</td>\n      <td>14 grudnia 2023</td>\n      <td>12 grudnia 2023</td>\n      <td>anulowano nabórA|nulowanie naboru z uwagi na b...</td>\n      <td>nie podano wynagrodzenia</td>\n      <td>1</td>\n      <td>1</td>\n      <td>[Rozpatruje skargi, wnioski i petycje w celu z...</td>\n      <td>średnie</td>\n      <td>[doświadczenie zawodowe: co najmniej 1 rok , Z...</td>\n      <td>[doświadczenie zawodowe: co najmniej 8 miesięc...</td>\n      <td>[Dokumenty należy złożyć do: 12.12.2023, Decyd...</td>\n      <td>438</td>\n    </tr>\n    <tr>\n      <th>...</th>\n      <td>...</td>\n      <td>...</td>\n      <td>...</td>\n      <td>...</td>\n      <td>...</td>\n      <td>...</td>\n      <td>...</td>\n      <td>...</td>\n      <td>...</td>\n      <td>...</td>\n      <td>...</td>\n      <td>...</td>\n      <td>...</td>\n      <td>...</td>\n      <td>...</td>\n      <td>...</td>\n      <td>...</td>\n      <td>...</td>\n      <td>...</td>\n    </tr>\n    <tr>\n      <th>5024</th>\n      <td>124476</td>\n      <td>inspektor weterynaryjny</td>\n      <td>Powiatowy Inspektorat Weterynarii w Rawie Mazo...</td>\n      <td>Rawa Mazowiecka</td>\n      <td>Mszczonowska 10 96-200 Rawa Mazowiecka</td>\n      <td>Rawa Mazowiecka</td>\n      <td>w zespole ds. bezpieczeństwa żywności, pasz i ...</td>\n      <td>25 lipca 2023</td>\n      <td>25 sierpnia 2023</td>\n      <td>anulowano nabórN|IEKOMPLETNE INFORMACJE</td>\n      <td>nie podano wynagrodzenia</td>\n      <td>1</td>\n      <td>1</td>\n      <td>[sprawuje nadzór weterynaryjny nad podmiotami ...</td>\n      <td>wyższe weterynaryjne</td>\n      <td>[prawo wykonywania zawodu lekarza weterynarii;...</td>\n      <td>[staż pracy: co najmniej 6 miesięcy ]</td>\n      <td>[Dokumenty należy złożyć do: 25.08.2023, Decyd...</td>\n      <td>593</td>\n    </tr>\n    <tr>\n      <th>5027</th>\n      <td>124481</td>\n      <td>naczelnik wydziału</td>\n      <td>Ministerstwo Finansów w Warszawie</td>\n      <td>Warszawa</td>\n      <td>ul. Świętokrzyska 12 00-916 Warszawa</td>\n      <td>Warszawa</td>\n      <td>w Wydziale Procesów Zakupowych i Rejestru Umów...</td>\n      <td>28 sierpnia 2023</td>\n      <td>4 sierpnia 2023</td>\n      <td>nie zatrudniono kandydatki/kandydata</td>\n      <td>nie podano wynagrodzenia</td>\n      <td>1</td>\n      <td>1</td>\n      <td>[Kieruje pracą wydziału, w szczególności poprz...</td>\n      <td>wyższe na kierunku informatyka lub cyberbezpie...</td>\n      <td>[doświadczenie zawodowe: co najmniej 4 lata w ...</td>\n      <td>[doświadczenie zawodowe: co najmniej 1 rok w k...</td>\n      <td>[Dokumenty należy złożyć do: 04.08.2023, Decyd...</td>\n      <td>2028</td>\n    </tr>\n    <tr>\n      <th>5088</th>\n      <td>124197</td>\n      <td>starszy inspektor nadzoru budowlanego</td>\n      <td>Powiatowy Inspektorat Nadzoru Budowlanego w Op...</td>\n      <td>Opole Lubelskie</td>\n      <td>ul. Parkowa 2 24-300 Opole Lubelskie</td>\n      <td>Opole Lubelskie</td>\n      <td>Powiatowy Inspektorat Nadzoru Budowlanego w Op...</td>\n      <td>01 sierpnia 2023</td>\n      <td>18 sierpnia 2023</td>\n      <td>anulowano nabórw|ycofanie wypowiedzenia</td>\n      <td>nie podano wynagrodzenia</td>\n      <td>1</td>\n      <td>1</td>\n      <td>[kontrola budowy i utrzymania obiektów budowla...</td>\n      <td>wyższe budowlane</td>\n      <td>[doświadczenie zawodowe: co najmniej 2 lata pr...</td>\n      <td>[Wykształcenie: wyższe budowlane , doświadczen...</td>\n      <td>[Dokumenty należy złożyć do: 18.08.2023, Decyd...</td>\n      <td>640</td>\n    </tr>\n    <tr>\n      <th>5092</th>\n      <td>124459</td>\n      <td>inspektor</td>\n      <td>Łódzki Urząd Wojewódzki w Łodzi</td>\n      <td>Łódź</td>\n      <td>Piotrkowska 104 90-926 Łódź</td>\n      <td>Łódź ul. Piotrkowska 103 90-425 Łódź</td>\n      <td>w Oddziale cudzoziemców do spraw legalizacji p...</td>\n      <td>12 września 2023</td>\n      <td>3 sierpnia 2023</td>\n      <td>informacja o zatrudnieniu kandydatki/kandydata...</td>\n      <td>od 3800,00 zł do 3900,00 zł brutto</td>\n      <td>1</td>\n      <td>1</td>\n      <td>[prowadzenie postępowań administracyjnych w za...</td>\n      <td>średnie</td>\n      <td>[staż pracy: co najmniej 6 miesięcy w administ...</td>\n      <td>[obsługa systemu informatycznego rejestrująceg...</td>\n      <td>[Dokumenty należy złożyć do: 03.08.2023, Decyd...</td>\n      <td>1291</td>\n    </tr>\n    <tr>\n      <th>5095</th>\n      <td>124466</td>\n      <td>kontroler skarbowy</td>\n      <td>Izba Administracji Skarbowej w Gdańsku</td>\n      <td>Gdańsk</td>\n      <td>ul. Długa 75/76 80-831 Gdańsk</td>\n      <td>Gdańsk 80-560 Gdańsk ul. Żaglowa 2</td>\n      <td>w Wydziale Audytu Środków Pochodzących z Budże...</td>\n      <td>29 sierpnia 2023</td>\n      <td>3 sierpnia 2023</td>\n      <td>nie zatrudniono kandydatki/kandydata</td>\n      <td>5213,27 zł brutto</td>\n      <td>1</td>\n      <td>1</td>\n      <td>[Wykonuje audyty systemu zarządzania i kontrol...</td>\n      <td>średnie</td>\n      <td>[doświadczenie zawodowe: co najmniej 1 rok i 6...</td>\n      <td>[doświadczenie zawodowe: co najmniej 1 rok w a...</td>\n      <td>[Dokumenty należy złożyć do: 03.08.2023, Decyd...</td>\n      <td>1171</td>\n    </tr>\n  </tbody>\n</table>\n<p>300 rows × 19 columns</p>\n</div>"
     },
     "execution_count": 11,
     "metadata": {},
     "output_type": "execute_result"
    }
   ],
   "source": [
    "df_copy = df\n",
    "df_copy.drop(indexes_to_remove, axis=0, inplace=True)\n",
    "df_copy[0:300]"
   ],
   "metadata": {
    "collapsed": false,
    "ExecuteTime": {
     "end_time": "2024-03-28T11:48:34.521967Z",
     "start_time": "2024-03-28T11:48:34.398588Z"
    }
   },
   "id": "149345359511c74d",
   "execution_count": 11
  },
  {
   "cell_type": "code",
   "outputs": [],
   "source": [
    "# ^Wychodzi na to że komunikaty odnośnie efektu ogłoszenia nie są jednolite. Algorytm do korekty."
   ],
   "metadata": {
    "collapsed": false,
    "ExecuteTime": {
     "end_time": "2024-03-28T11:48:34.537487Z",
     "start_time": "2024-03-28T11:48:34.524152Z"
    }
   },
   "id": "1a82d5f8700104db",
   "execution_count": 12
  },
  {
   "cell_type": "code",
   "outputs": [],
   "source": [
    "import re\n",
    "with open('Data cleansing.ipynb', 'r') as file:\n",
    "    # Read original notebook file to string\n",
    "    jupyter = file.read()\n",
    "    \n",
    "    # Run a regex based search and replace, wipe all empty outputs properties.\n",
    "    outputs_tag_removed = re.sub(',\\n\\s+\\\"outputs\\\":\\ \\[\\]', '', jupyter)\n",
    "    \n",
    "    # Overwrite original notebook file\n",
    "    print(outputs_tag_removed, file=open('Data cleansing.ipynb', 'w'))"
   ],
   "metadata": {
    "collapsed": false,
    "ExecuteTime": {
     "end_time": "2024-03-28T11:48:34.569678Z",
     "start_time": "2024-03-28T11:48:34.541107Z"
    }
   },
   "id": "c0c32e6567b33f50",
   "execution_count": 13
  },
  {
   "cell_type": "code",
   "outputs": [],
   "source": [
    "# Solution from https://github.com/jupyter/nbconvert/issues/1872https://github.com/jupyter/nbconvert/issues/1872"
   ],
   "metadata": {
    "collapsed": false,
    "ExecuteTime": {
     "end_time": "2024-03-28T11:49:47.552314Z",
     "start_time": "2024-03-28T11:49:47.540920Z"
    }
   },
   "id": "106bcc2ca5b31362",
   "execution_count": 14
  },
  {
   "cell_type": "code",
   "outputs": [],
   "source": [],
   "metadata": {
    "collapsed": false
   },
   "id": "aa0bb7bc68c31e1e"
  }
 ],
 "metadata": {
  "kernelspec": {
   "display_name": "Python 3",
   "language": "python",
   "name": "python3"
  },
  "language_info": {
   "codemirror_mode": {
    "name": "ipython",
    "version": 2
   },
   "file_extension": ".py",
   "mimetype": "text/x-python",
   "name": "python",
   "nbconvert_exporter": "python",
   "pygments_lexer": "ipython2",
   "version": "2.7.6"
  }
 },
 "nbformat": 4,
 "nbformat_minor": 5
}
