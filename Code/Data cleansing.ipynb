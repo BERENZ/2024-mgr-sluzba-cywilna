{
 "cells": [
  {
   "cell_type": "code",
   "execution_count": 66,
   "id": "initial_id",
   "metadata": {
    "collapsed": true,
    "ExecuteTime": {
     "end_time": "2024-03-28T22:10:10.163952Z",
     "start_time": "2024-03-28T22:10:10.149854Z"
    }
   },
   "outputs": [],
   "source": [
    "import pandas as pd\n",
    "import os"
   ]
  },
  {
   "cell_type": "markdown",
   "source": [
    "## Loading data"
   ],
   "metadata": {
    "collapsed": false
   },
   "id": "da17d20ef4204758"
  },
  {
   "cell_type": "code",
   "outputs": [],
   "source": [
    "path = os.getcwd()[0:-5] + '\\\\Data\\\\kprm-with-salary-update-20231115.json'\n",
    "\n",
    "df = pd.read_json(path, lines=True)\n",
    "\n",
    "# Dropping unnecessary columns:\n",
    "# '6' has been split on 2 columns due to an error during the download,\n",
    "# while '8' is a duplicate of '9' with minor differences. However, '9' is\n",
    "# believed to be the correct version.\n",
    "df.drop(columns=[6,8], inplace=True)\n",
    "\n",
    "# Renaming columns.\n",
    "df.columns = ['Ad ID', 'Job title', 'Employer (entity)', 'Employer location', 'Office address', 'Workplace', 'Department', 'Posted on', 'Expiration date', 'Detailed recruitment results', 'Salary (monthly)', 'Vacancies', 'Full-time ratio', 'Recruitment results', 'Description of duties', 'Required level of education', 'Prerequisites', 'Optional requirements', 'Application instructions', 'Number of views']"
   ],
   "metadata": {
    "collapsed": false,
    "ExecuteTime": {
     "end_time": "2024-03-28T22:10:18.672955Z",
     "start_time": "2024-03-28T22:10:10.366703Z"
    }
   },
   "id": "f6a4e2d0f5e507f6",
   "execution_count": 67
  },
  {
   "cell_type": "code",
   "outputs": [
    {
     "name": "stdout",
     "output_type": "stream",
     "text": [
      "1\n"
     ]
    }
   ],
   "source": [
    "print(df['Recruitment results'].nunique())"
   ],
   "metadata": {
    "collapsed": false,
    "ExecuteTime": {
     "end_time": "2024-03-28T22:10:18.735371Z",
     "start_time": "2024-03-28T22:10:18.678072Z"
    }
   },
   "id": "2221fccc52ee5c9d",
   "execution_count": 68
  },
  {
   "cell_type": "code",
   "outputs": [],
   "source": [
    "# The data contains no active posts at the time of the download:\n",
    "# the column \"Recruitment results\" contains only one unique value - \"Koniec naboru\"\n",
    "# (recruitment finished).\n",
    "# Thus, we can drop the column.\n",
    "df.drop(columns=[\"Recruitment results\"], inplace=True)"
   ],
   "metadata": {
    "collapsed": false,
    "ExecuteTime": {
     "end_time": "2024-03-28T22:10:18.875979Z",
     "start_time": "2024-03-28T22:10:18.737609Z"
    }
   },
   "id": "a5c353681ae0d424",
   "execution_count": 69
  },
  {
   "cell_type": "markdown",
   "source": [
    "## Cleansing"
   ],
   "metadata": {
    "collapsed": false
   },
   "id": "65d45f300dffc867"
  },
  {
   "cell_type": "markdown",
   "source": [
    "#### Reducing data size\n",
    "<span style=\"font-size:1.05em;\">We're removing unnecessary text from rows, such as \"NR\" (an abbreviation for number) in every cell of the \"Ad ID\" column.</span>"
   ],
   "metadata": {
    "collapsed": false
   },
   "id": "533ea4c5af6f84d7"
  },
  {
   "cell_type": "code",
   "outputs": [
    {
     "data": {
      "text/plain": "    Ad ID            Job title  \\\n0  131450   główny specjalista   \n1  131558             księgowy   \n2  131502  starszy specjalista   \n3  131510            inspektor   \n4  131408   główny specjalista   \n\n                                   Employer (entity) Employer location  \\\n0   Ministerstwo Rolnictwa i Rozwoju Wsi w Warszawie          Warszawa   \n1          Powiatowy Inspektorat Weterynarii w Piszu              Pisz   \n2       Główny Urząd Nadzoru Budowlanego w Warszawie          Warszawa   \n3  Powiatowy Inspektorat Nadzoru Budowlanego w Hr...        Hrubieszów   \n4     Ministerstwo Rozwoju i Technologii w Warszawie          Warszawa   \n\n                           Office address  \\\n0          ul. Wspólna 30 00-930 Warszawa   \n1           ul. Warszawska 38 12-200 Pisz   \n2            Krucza 38/42 00-926 Warszawa   \n3  ul. Plac Wolności 13 22-500 Hrubieszów   \n4   pl. Trzech Krzyży 3/5 00-507 Warszawa   \n\n                                           Workplace  \\\n0                                           Warszawa   \n1  Pisz Powiatowy Inspektorat Weterynarii ul. War...   \n2                          Warszawa ul. Krucza 38/42   \n3  Hrubieszów 22-500 Hrubieszów, ul. Plac Wolnośc...   \n4                                           Warszawa   \n\n                                          Department        Posted on  \\\n0    w Wydziale Obsługi Płacowej w Biurze Finansowym  15 grudnia 2023   \n1  w zespole ds. finansowo-księgowych i administr...  15 grudnia 2023   \n2                            w Biurze Organizacyjnym  14 grudnia 2023   \n3                       Referat inspekcji i kontroli  13 grudnia 2023   \n4  w Wydziale Wynagrodzeń w Departamencie Budżetu...  13 grudnia 2023   \n\n   Expiration date Detailed recruitment results  \\\n0  29 grudnia 2023             anulowano nabór|   \n1  29 grudnia 2023             anulowano nabór|   \n2  29 grudnia 2023             anulowano nabór|   \n3  29 grudnia 2023             anulowano nabór|   \n4  27 grudnia 2023             anulowano nabór|   \n\n                     Salary (monthly)  Vacancies Full-time ratio  \\\n0                   7009,44 zł brutto          1               1   \n1            nie podano wynagrodzenia          1               1   \n2            nie podano wynagrodzenia          1               1   \n3            nie podano wynagrodzenia          1               1   \n4  od 7009,00 zł do 7447,00 zł brutto          1               1   \n\n                               Description of duties  \\\n0  [nalicza wynagrodzenia pracowników oraz zasiłk...   \n1  [Wykonuje zadania księgowego w jednostce budże...   \n2  [organizuje proces przeprowadzania naborów do ...   \n3  [Prowadzi postępowania administracyjne wynikaj...   \n4  [prowadzi obsługę płacową dla pracowników zatr...   \n\n                         Required level of education  \\\n0                                            wyższe    \n1                                wyższe ekonomiczne    \n2                                            wyższe    \n3            średnie budowlane lub architektoniczne    \n4  wyższe ekonomiczne lub inne nieprofilowane wra...   \n\n                                       Prerequisites  \\\n0  [3 lata stażu pracy w obszarze wynagrodzeń i u...   \n1  [doświadczenie zawodowe: co najmniej 1 rok , W...   \n2  [doświadczenie zawodowe: 1,5 roku w pracy zwią...   \n3  [staż pracy: w administracji publicznej lub w ...   \n4  [Doświadczenie zawodowe: minimum 3 lata w obsz...   \n\n                               Optional requirements  \\\n0  [Wykształcenie wyższe ekonomiczne lub ekonomic...   \n1                                  [komunikatywność]   \n2  [Wykształcenie: wyższe prawnicze lub administr...   \n3  [Wykształcenie: wyższe Wykształcenie: wyższe b...   \n4  [CV i list motywacyjny, Kopie dokumentów potwi...   \n\n                            Application instructions Number of views  \n0  [Dokumenty należy złożyć do: 29.12.2023, Decyd...             91   \n1  [Dokumenty należy złożyć do: 29.12.2023, Decyd...             25   \n2  [Dokumenty należy złożyć do: 29.12.2023, Decyd...             34   \n3  [Dokumenty należy złożyć do: 29.12.2023, Decyd...             58   \n4  [Dokumenty należy złożyć do: 27.12.2023, Decyd...            395   ",
      "text/html": "<div>\n<style scoped>\n    .dataframe tbody tr th:only-of-type {\n        vertical-align: middle;\n    }\n\n    .dataframe tbody tr th {\n        vertical-align: top;\n    }\n\n    .dataframe thead th {\n        text-align: right;\n    }\n</style>\n<table border=\"1\" class=\"dataframe\">\n  <thead>\n    <tr style=\"text-align: right;\">\n      <th></th>\n      <th>Ad ID</th>\n      <th>Job title</th>\n      <th>Employer (entity)</th>\n      <th>Employer location</th>\n      <th>Office address</th>\n      <th>Workplace</th>\n      <th>Department</th>\n      <th>Posted on</th>\n      <th>Expiration date</th>\n      <th>Detailed recruitment results</th>\n      <th>Salary (monthly)</th>\n      <th>Vacancies</th>\n      <th>Full-time ratio</th>\n      <th>Description of duties</th>\n      <th>Required level of education</th>\n      <th>Prerequisites</th>\n      <th>Optional requirements</th>\n      <th>Application instructions</th>\n      <th>Number of views</th>\n    </tr>\n  </thead>\n  <tbody>\n    <tr>\n      <th>0</th>\n      <td>131450</td>\n      <td>główny specjalista</td>\n      <td>Ministerstwo Rolnictwa i Rozwoju Wsi w Warszawie</td>\n      <td>Warszawa</td>\n      <td>ul. Wspólna 30 00-930 Warszawa</td>\n      <td>Warszawa</td>\n      <td>w Wydziale Obsługi Płacowej w Biurze Finansowym</td>\n      <td>15 grudnia 2023</td>\n      <td>29 grudnia 2023</td>\n      <td>anulowano nabór|</td>\n      <td>7009,44 zł brutto</td>\n      <td>1</td>\n      <td>1</td>\n      <td>[nalicza wynagrodzenia pracowników oraz zasiłk...</td>\n      <td>wyższe</td>\n      <td>[3 lata stażu pracy w obszarze wynagrodzeń i u...</td>\n      <td>[Wykształcenie wyższe ekonomiczne lub ekonomic...</td>\n      <td>[Dokumenty należy złożyć do: 29.12.2023, Decyd...</td>\n      <td>91</td>\n    </tr>\n    <tr>\n      <th>1</th>\n      <td>131558</td>\n      <td>księgowy</td>\n      <td>Powiatowy Inspektorat Weterynarii w Piszu</td>\n      <td>Pisz</td>\n      <td>ul. Warszawska 38 12-200 Pisz</td>\n      <td>Pisz Powiatowy Inspektorat Weterynarii ul. War...</td>\n      <td>w zespole ds. finansowo-księgowych i administr...</td>\n      <td>15 grudnia 2023</td>\n      <td>29 grudnia 2023</td>\n      <td>anulowano nabór|</td>\n      <td>nie podano wynagrodzenia</td>\n      <td>1</td>\n      <td>1</td>\n      <td>[Wykonuje zadania księgowego w jednostce budże...</td>\n      <td>wyższe ekonomiczne</td>\n      <td>[doświadczenie zawodowe: co najmniej 1 rok , W...</td>\n      <td>[komunikatywność]</td>\n      <td>[Dokumenty należy złożyć do: 29.12.2023, Decyd...</td>\n      <td>25</td>\n    </tr>\n    <tr>\n      <th>2</th>\n      <td>131502</td>\n      <td>starszy specjalista</td>\n      <td>Główny Urząd Nadzoru Budowlanego w Warszawie</td>\n      <td>Warszawa</td>\n      <td>Krucza 38/42 00-926 Warszawa</td>\n      <td>Warszawa ul. Krucza 38/42</td>\n      <td>w Biurze Organizacyjnym</td>\n      <td>14 grudnia 2023</td>\n      <td>29 grudnia 2023</td>\n      <td>anulowano nabór|</td>\n      <td>nie podano wynagrodzenia</td>\n      <td>1</td>\n      <td>1</td>\n      <td>[organizuje proces przeprowadzania naborów do ...</td>\n      <td>wyższe</td>\n      <td>[doświadczenie zawodowe: 1,5 roku w pracy zwią...</td>\n      <td>[Wykształcenie: wyższe prawnicze lub administr...</td>\n      <td>[Dokumenty należy złożyć do: 29.12.2023, Decyd...</td>\n      <td>34</td>\n    </tr>\n    <tr>\n      <th>3</th>\n      <td>131510</td>\n      <td>inspektor</td>\n      <td>Powiatowy Inspektorat Nadzoru Budowlanego w Hr...</td>\n      <td>Hrubieszów</td>\n      <td>ul. Plac Wolności 13 22-500 Hrubieszów</td>\n      <td>Hrubieszów 22-500 Hrubieszów, ul. Plac Wolnośc...</td>\n      <td>Referat inspekcji i kontroli</td>\n      <td>13 grudnia 2023</td>\n      <td>29 grudnia 2023</td>\n      <td>anulowano nabór|</td>\n      <td>nie podano wynagrodzenia</td>\n      <td>1</td>\n      <td>1</td>\n      <td>[Prowadzi postępowania administracyjne wynikaj...</td>\n      <td>średnie budowlane lub architektoniczne</td>\n      <td>[staż pracy: w administracji publicznej lub w ...</td>\n      <td>[Wykształcenie: wyższe Wykształcenie: wyższe b...</td>\n      <td>[Dokumenty należy złożyć do: 29.12.2023, Decyd...</td>\n      <td>58</td>\n    </tr>\n    <tr>\n      <th>4</th>\n      <td>131408</td>\n      <td>główny specjalista</td>\n      <td>Ministerstwo Rozwoju i Technologii w Warszawie</td>\n      <td>Warszawa</td>\n      <td>pl. Trzech Krzyży 3/5 00-507 Warszawa</td>\n      <td>Warszawa</td>\n      <td>w Wydziale Wynagrodzeń w Departamencie Budżetu...</td>\n      <td>13 grudnia 2023</td>\n      <td>27 grudnia 2023</td>\n      <td>anulowano nabór|</td>\n      <td>od 7009,00 zł do 7447,00 zł brutto</td>\n      <td>1</td>\n      <td>1</td>\n      <td>[prowadzi obsługę płacową dla pracowników zatr...</td>\n      <td>wyższe ekonomiczne lub inne nieprofilowane wra...</td>\n      <td>[Doświadczenie zawodowe: minimum 3 lata w obsz...</td>\n      <td>[CV i list motywacyjny, Kopie dokumentów potwi...</td>\n      <td>[Dokumenty należy złożyć do: 27.12.2023, Decyd...</td>\n      <td>395</td>\n    </tr>\n  </tbody>\n</table>\n</div>"
     },
     "execution_count": 70,
     "metadata": {},
     "output_type": "execute_result"
    }
   ],
   "source": [
    "for index, row in df.iterrows():\n",
    "    if row['Ad ID'][0] == 'N' and row['Ad ID'][2] == ' ':\n",
    "        df.at[index, 'Ad ID'] = row['Ad ID'][3:]\n",
    "    \n",
    "    # Removing \"Adres urzędu: \" from each row.\n",
    "    if row['Office address'][12] == ':' and row['Office address'][13] == ' ':\n",
    "        df.at[index, 'Office address'] = row['Office address'][14:]\n",
    "    elif row['Office address'][12] == ':':\n",
    "        df.at[index, 'Office address'] = row['Office address'][13:]\n",
    "        \n",
    "    # Removing \"Miejsce wykonywania pracy: \" from each row.\n",
    "    if row['Workplace'][25] == ':' and row['Workplace'][26] == ' ':\n",
    "        df.at[index, 'Workplace'] = row['Workplace'][27:]\n",
    "    elif row['Workplace'][25] == ':':\n",
    "        df.at[index, 'Workplace'] = row['Workplace'][26:]\n",
    "\n",
    "    # Removing \"Wykształcenie: \" from each row. \n",
    "    if row['Required level of education'][13] == ':' and row['Required level of education'][14] == ' ':\n",
    "        df.at[index, 'Required level of education'] = row['Required level of education'][15:]\n",
    "    elif row['Required level of education'][13] == ':':\n",
    "        df.at[index, 'Required level of education'] = row['Required level of education'][14:]\n",
    "        \n",
    "    # Removing \"Wyniki naboru: \" from each row.\n",
    "    if row['Detailed recruitment results'][14] == ' ' and row['Detailed recruitment results'][13] == ':':\n",
    "        df.at[index, 'Detailed recruitment results'] = row['Detailed recruitment results'][15:]\n",
    "    elif row['Detailed recruitment results'][13] == ':':\n",
    "        df.at[index, 'Detailed recruitment results'] = row['Detailed recruitment results'][14:]\n",
    "    \n",
    "    # Removing \"Liczba odwiedzin: \" from each row.\n",
    "    # One additional condition since the first character in most entries is a space.\n",
    "    if row['Required level of education'][0] == ' ':\n",
    "        if row['Number of views'][18] == ':' and row['Number of views'][19] == ' ':\n",
    "            df.at[index, 'Number of views'] = row['Number of views'][20:]\n",
    "        elif row['Number of views'][18] == ':' and row['Number of views'][1].lower() == 'l':\n",
    "            df.at[index, 'Number of views'] = row['Number of views'][19:]\n",
    "    else:\n",
    "        if row['Number of views'][17] == ':' and row['Number of views'][18] == ' ':\n",
    "            df.at[index, 'Number of views'] = row['Number of views'][19:]\n",
    "        elif row['Number of views'][16] == ':' and row['Number of views'][0].lower() == 'l':\n",
    "            df.at[index, 'Number of views'] = row['Number of views'][17:]\n",
    "\n",
    "        \n",
    "df.head()"
   ],
   "metadata": {
    "collapsed": false,
    "ExecuteTime": {
     "end_time": "2024-03-28T22:10:51.138407Z",
     "start_time": "2024-03-28T22:10:18.883467Z"
    }
   },
   "id": "9bbf3613f848698c",
   "execution_count": 70
  },
  {
   "cell_type": "markdown",
   "source": [
    "#### Making data readable for computers"
   ],
   "metadata": {
    "collapsed": false
   },
   "id": "cd193d6918291395"
  },
  {
   "cell_type": "markdown",
   "source": [
    "##### The salary column"
   ],
   "metadata": {
    "collapsed": false
   },
   "id": "9c07de29dc1d14c"
  },
  {
   "cell_type": "markdown",
   "source": [
    "<span style=\"font-size:1.05em;\">First, we're checking whether all salaries are given as gross (brutto) or if there are some given as net (netto).</span>"
   ],
   "metadata": {
    "collapsed": false
   },
   "id": "f350cec1755b12ad"
  },
  {
   "cell_type": "code",
   "outputs": [
    {
     "name": "stdout",
     "output_type": "stream",
     "text": [
      "117\n"
     ]
    }
   ],
   "source": [
    "df_netto = df[df['Salary (monthly)'].str.contains('netto')][['Salary (monthly)']]\n",
    "count_netto = len(df_netto)\n",
    "print(count_netto)"
   ],
   "metadata": {
    "collapsed": false,
    "ExecuteTime": {
     "end_time": "2024-03-28T22:10:51.232661Z",
     "start_time": "2024-03-28T22:10:51.140605Z"
    }
   },
   "id": "93f44045b7ae39e1",
   "execution_count": 71
  },
  {
   "cell_type": "markdown",
   "source": [
    "<span style=\"font-size:1.05em;\">Exploring the frequency of different recruitment results.</span>"
   ],
   "metadata": {
    "collapsed": false
   },
   "id": "212b6d028a10355c"
  },
  {
   "cell_type": "code",
   "outputs": [],
   "source": [
    "# Announcements that ended with the employment of a candidate.\n",
    "success_df = df[df['Detailed recruitment results'].str.contains(r'wyborem kandydatki/kandydata|informacja o zatrudnieniu kandydatki|zatrudnieniem')][['Detailed recruitment results']]\n",
    "success_count = len(success_df)"
   ],
   "metadata": {
    "collapsed": false,
    "ExecuteTime": {
     "end_time": "2024-03-28T22:10:51.480650Z",
     "start_time": "2024-03-28T22:10:51.234897Z"
    }
   },
   "id": "bc2e2670329cbde7",
   "execution_count": 72
  },
  {
   "cell_type": "code",
   "outputs": [],
   "source": [
    "# Announcements that ended without employing a candidate.\n",
    "failure_df = df[df['Detailed recruitment results'].str.contains(r'bez wyboru kandydatki/kandydata|nie wybrano|nie zatrudniono|rak aplikacji|rak zgłoszeń|rak ofert|rak kandydatów|kandydaci zrezygnowali|ikt się nie zgłosił|brak kandydatur|rak wniosków|bez zatrudnienia|nie spełniały wymagań|nie wyłoniono|decyzja o rezygnacji')][['Detailed recruitment results']]\n",
    "failure_count = len(failure_df)"
   ],
   "metadata": {
    "collapsed": false,
    "ExecuteTime": {
     "end_time": "2024-03-28T22:10:52.052794Z",
     "start_time": "2024-03-28T22:10:51.485372Z"
    }
   },
   "id": "45c3016e1214b276",
   "execution_count": 73
  },
  {
   "cell_type": "code",
   "outputs": [
    {
     "name": "stdout",
     "output_type": "stream",
     "text": [
      "Ads that led to employment: 58659\n",
      "Ads that did not led to employment: 42118\n",
      "Ads cancelled as a result of an error: 432\n"
     ]
    }
   ],
   "source": [
    "# Announcements that have been cancelled as a results of an error; they are omitted in our analysis.\n",
    "error1_df = df[df['Detailed recruitment results'].str.contains(r'łędu|łąd|łędem|łędne|orekta ogłoszenia|łędnie|łędny|łędy w ogłoszeniu|rak informacji|ie uwzględniono|łędna|omyłkowo|omyłka|nie uwwzględniono|przypadkowo|dwukrotnie|podwójnie|razy wprowadzono te same|zdublowane|problem techniczny|miana treści|wymaga korekty')][['Detailed recruitment results']]\n",
    "error1_count = len(error1_df)\n",
    "\n",
    "# \n",
    "error2_df = df.loc[df['Detailed recruitment results'] == 'anulowano nabór|']\n",
    "error2_count = len(error2_df)\n",
    "\n",
    "error_count = error1_count + error2_count\n",
    "print(f\"Ads that led to employment: {success_count}\\n\"\n",
    "      f\"Ads that did not led to employment: {failure_count}\\n\"\n",
    "      f\"Ads cancelled as a result of an error: {error1_count}\")"
   ],
   "metadata": {
    "collapsed": false,
    "ExecuteTime": {
     "end_time": "2024-03-28T22:10:52.517369Z",
     "start_time": "2024-03-28T22:10:52.055018Z"
    }
   },
   "id": "36c0c6512626bd57",
   "execution_count": 74
  },
  {
   "cell_type": "code",
   "outputs": [],
   "source": [
    "indexes_to_remove = list(error1_df.index) + list(error2_df.index) + list(success_df.index) + list(failure_df.index)"
   ],
   "metadata": {
    "collapsed": false,
    "ExecuteTime": {
     "end_time": "2024-03-28T22:10:52.565032Z",
     "start_time": "2024-03-28T22:10:52.520784Z"
    }
   },
   "id": "5ac8ffd80b9238d3",
   "execution_count": 75
  },
  {
   "cell_type": "code",
   "outputs": [
    {
     "data": {
      "text/plain": "         Ad ID                                          Job title  \\\n10      131315                            kontroler weterynaryjny   \n13      131159                            inspektor weterynaryjny   \n16      130982  pełnomocnik do spraw ochrony informacji niejaw...   \n60      130591                                        specjalista   \n330     129839                                           księgowy   \n...        ...                                                ...   \n107188   18252                                          inspektor   \n107197   18266                                        specjalista   \n107229   18227                                          inspektor   \n107231   18236                                          inspektor   \n107235   18162                               inspektor wojewódzki   \n\n                                        Employer (entity) Employer location  \\\n10            Powiatowy Inspektorat Weterynarii w Zgierzu            Zgierz   \n13            Powiatowy Inspektorat Weterynarii w Lęborku            Lębork   \n16      Generalna Dyrekcja Ochrony Środowiska w Warszawie          Warszawa   \n60                   Komenda Miejska Policji w Wałbrzychu         Wałbrzych   \n330     Powiatowy Inspektorat Weterynarii w Środzie Śl...      Środa Śląska   \n...                                                   ...               ...   \n107188      Wojewódzki Inspektorat Weterynarii w Krakowie            Kraków   \n107197  Główny Inspektorat Transportu Drogowego w Wars...          Warszawa   \n107229            Komenda Wojewódzka Policji we Wrocławiu           Wrocław   \n107231                    Łódzki Urząd Wojewódzki w Łodzi              Łódź   \n107235           Wielkopolski Urząd Wojewódzki w Poznaniu            Poznań   \n\n                                           Office address  \\\n10                         ul. A. Struga 23 95-100 Zgierz   \n13                      Ul. Weterynaryjna 1 84-300 Lębork   \n16                  Al. Jerozolimskie 136 02-305 Warszawa   \n60                      ul. Mazowiecka 2 58-300 Wałbrzych   \n330                  Ul. Wrocławska 2 55-300 Środa Śląska   \n...                                                   ...   \n107188  Wojewódzki Inspektorat Weterynarii w Krakowie ...   \n107197  Główny Inspektorat Transportu Drogowego, Aleje...   \n107229  Komenda Wojewódzka Policji we Wrocławiu ul. Po...   \n107231  Łódzki Urząd Wojewódzki w Łodzi ul. Piotrkowsk...   \n107235             Al. Niepodległości 16/18 61-713 Poznań   \n\n                                                Workplace  \\\n10                          Zgierz Zgierz ul. A.Struga 23   \n13               Lębork ul. Weterynaryjna 1 84-300 Lębork   \n16      Warszawa Al. Jerozolimskie 136 (Eurocentrum Of...   \n60                                              Wałbrzych   \n330                                          Środa Śląska   \n...                                                   ...   \n107188                                             Kraków   \n107197                                           Warszawa   \n107229                                            Wrocław   \n107231  Łódź Łódzki Urząd Wojewódzki w Łodzi ul. Piotr...   \n107235                                             Poznań   \n\n                                               Department          Posted on  \\\n10      Zespół ds. bezpieczeństwa żywności, pasz i uty...    08 grudnia 2023   \n13      w zespole ds. bezpieczeństwa żywności, pasz i ...    06 grudnia 2023   \n16      Stanowisko do spraw Ochrony Informacji Niejawnych    08 grudnia 2023   \n60      Wydziału Kadr i Szkolenia i Prezydialnego Kome...  23 listopada 2023   \n330                     Zespół ds. finansowo - księgowych  09 listopada 2023   \n...                                                   ...                ...   \n107188               Zespół do spraw Finansowo-ksiegowych  14 listopada 2019   \n107197  w Wydziale Projektowania Systemów Informatyczn...   11 stycznia 2018   \n107229                                w Wydziale Finansów   15 stycznia 2018   \n107231                      w Biurze Kadr, Płac i Budżetu    15 grudnia 2017   \n107235  w Wydziale Polityki Społecznej WUW w Poznaniu ...   05 stycznia 2018   \n\n          Expiration date                       Detailed recruitment results  \\\n10        25 grudnia 2023  anulowano nabórB|rak informacji dla kandydata,...   \n13        20 grudnia 2023                 anulowano nabórB|łędy w ogłoszeniu   \n16        20 grudnia 2023  anulowano nabórZ|miana wynika ze zmian organiz...   \n60         4 grudnia 2023  anulowano nabórN|iekompletna informacja dot. w...   \n330     24 listopada 2023  anulowano nabórB|rak zapisu w wymaganiach niez...   \n...                   ...                                                ...   \n107188     1 grudnia 2017  anulowano nabórn|abór na stanowisko anulowano ...   \n107197     4 grudnia 2017  decyzja kandydatki/kandydata o rezygnacji z ob...   \n107229  29 listopada 2017  decyzja kandydatki/kandydata o rezygnacji z ob...   \n107231  30 listopada 2017  decyzja kandydatki/kandydata o rezygnacji z ob...   \n107235  30 listopada 2017  decyzja kandydatki/kandydata o rezygnacji z ob...   \n\n                       Salary (monthly)  Vacancies Full-time ratio  \\\n10             nie podano wynagrodzenia          1               1   \n13             nie podano wynagrodzenia          1               1   \n16                    3723,00 zł brutto          1             1/2   \n60      nie mniej niż 3899,66 zł brutto          1               1   \n330            nie podano wynagrodzenia          1               1   \n...                                 ...        ...             ...   \n107188         nie podano wynagrodzenia          1               1   \n107197         nie podano wynagrodzenia          1               1   \n107229         nie podano wynagrodzenia          1               1   \n107231         nie podano wynagrodzenia          1             1,0   \n107235         nie podano wynagrodzenia          2               1   \n\n                                    Description of duties  \\\n10      [Nadzór weterynaryjny nad podmiotami produkują...   \n13      [wykonuje zdania Inspekcji Weterynaryjnej okre...   \n16      [zapewnia przestrzeganie przepisów o ochronie ...   \n60      [przyjmowanie, gromadzenie, opracowywanie, prz...   \n330     [Prowadzenie płatności wraz z kompleksową obsł...   \n...                                                   ...   \n107188  [prowadzenie ksiag inwentarzowych  środków trw...   \n107197  [Sprawowanie nadzoru nad utrzymaniem, wdrażani...   \n107229  [naliczanie i sporządzanie list miesięcznych u...   \n107231  [wyliczanie wynagrodzeń, sporządzanie list pła...   \n107235  [kontrolowanie realizacji zadań z zakresu wspi...   \n\n                              Required level of education  \\\n10              średnie zootechnika, technik weterynarii    \n13                                  wyższe weterynaryjne    \n16                                                wyższe    \n60                                                wyższe    \n330                                  średnie ekonomiczne    \n...                                                   ...   \n107188    średnie ekonomiczne - preferowana rachunkowość    \n107197                                            wyższe    \n107229                               średnie ekonomiczne    \n107231              średnie ekonomiczne, administracyjne    \n107235  wyższe magisterskie na kierunku pedagogika, pe...   \n\n                                            Prerequisites  \\\n10      [Znajomość przepisów weterynaryjnych z zakresu...   \n13      [Prawo wykonywania zawodu lekarza weterynarii,...   \n16      [doświadczenie zawodowe: co najmniej 1 rok w o...   \n60      [W służbie cywilnej nie może być zatrudniona o...   \n330     [znajomość obsługi komputera, znajomość ustawy...   \n...                                                   ...   \n107188  [doświadczenie zawodowe: 3 lata pracy w księgo...   \n107197  [doświadczenie zawodowe: 2 lata doświadczenia ...   \n107229  [doświadczenie zawodowe: 2 lata pracy w komórk...   \n107231  [doświadczenie zawodowe: 6 miesięcy w służbach...   \n107235  [staż pracy: 3 lata w zawodzie pedagoga lub ps...   \n\n                                    Optional requirements  \\\n10                 [Wykształcenie: wyższe weterynaryjne ]   \n13      [staż pracy: , znajomość języka angielskiego n...   \n16      [doświadczenie zawodowe: co najmniej 1 rok w o...   \n60      [Poświadczenie bezpieczeństwa uprawniające do ...   \n330     [doświadczenie zawodowe: co najmniej 1 rok w k...   \n...                                                   ...   \n107188  [biegła znajomość obsługi komputera (program M...   \n107197  [Wykształcenie: wyższe techniczne lub informat...   \n107229  [doświadczenie zawodowe: 1 rok pracy w komórka...   \n107231  [szkolenia w zakresie przepisów podatkowych, p...   \n107235  [doświadczenie zawodowe: w administracji publi...   \n\n                                 Application instructions Number of views  \n10      [Dokumenty należy złożyć do: 25.12.2023, Decyd...             70   \n13      [Dokumenty należy złożyć do: 20.12.2023, Decyd...             67   \n16      [Dokumenty należy złożyć do: 20.12.2023, Decyd...            391   \n60      [Dokumenty należy złożyć do: 04.12.2023, Decyd...            347   \n330     [Dokumenty należy złożyć do: 24.11.2023, Decyd...            235   \n...                                                   ...             ...  \n107188  [Dokumenty należy złożyć do: 01.12.2017, Decyd...           2805   \n107197  [Dokumenty należy złożyć do: 04.12.2017, Decyd...           2836   \n107229  [Dokumenty należy złożyć do: 29.11.2017, Decyd...           2651   \n107231  [Dokumenty należy złożyć do: 30.11.2017, Decyd...           2705   \n107235  [Dokumenty należy złożyć do: 30.11.2017, Decyd...           2465   \n\n[1586 rows x 19 columns]",
      "text/html": "<div>\n<style scoped>\n    .dataframe tbody tr th:only-of-type {\n        vertical-align: middle;\n    }\n\n    .dataframe tbody tr th {\n        vertical-align: top;\n    }\n\n    .dataframe thead th {\n        text-align: right;\n    }\n</style>\n<table border=\"1\" class=\"dataframe\">\n  <thead>\n    <tr style=\"text-align: right;\">\n      <th></th>\n      <th>Ad ID</th>\n      <th>Job title</th>\n      <th>Employer (entity)</th>\n      <th>Employer location</th>\n      <th>Office address</th>\n      <th>Workplace</th>\n      <th>Department</th>\n      <th>Posted on</th>\n      <th>Expiration date</th>\n      <th>Detailed recruitment results</th>\n      <th>Salary (monthly)</th>\n      <th>Vacancies</th>\n      <th>Full-time ratio</th>\n      <th>Description of duties</th>\n      <th>Required level of education</th>\n      <th>Prerequisites</th>\n      <th>Optional requirements</th>\n      <th>Application instructions</th>\n      <th>Number of views</th>\n    </tr>\n  </thead>\n  <tbody>\n    <tr>\n      <th>10</th>\n      <td>131315</td>\n      <td>kontroler weterynaryjny</td>\n      <td>Powiatowy Inspektorat Weterynarii w Zgierzu</td>\n      <td>Zgierz</td>\n      <td>ul. A. Struga 23 95-100 Zgierz</td>\n      <td>Zgierz Zgierz ul. A.Struga 23</td>\n      <td>Zespół ds. bezpieczeństwa żywności, pasz i uty...</td>\n      <td>08 grudnia 2023</td>\n      <td>25 grudnia 2023</td>\n      <td>anulowano nabórB|rak informacji dla kandydata,...</td>\n      <td>nie podano wynagrodzenia</td>\n      <td>1</td>\n      <td>1</td>\n      <td>[Nadzór weterynaryjny nad podmiotami produkują...</td>\n      <td>średnie zootechnika, technik weterynarii</td>\n      <td>[Znajomość przepisów weterynaryjnych z zakresu...</td>\n      <td>[Wykształcenie: wyższe weterynaryjne ]</td>\n      <td>[Dokumenty należy złożyć do: 25.12.2023, Decyd...</td>\n      <td>70</td>\n    </tr>\n    <tr>\n      <th>13</th>\n      <td>131159</td>\n      <td>inspektor weterynaryjny</td>\n      <td>Powiatowy Inspektorat Weterynarii w Lęborku</td>\n      <td>Lębork</td>\n      <td>Ul. Weterynaryjna 1 84-300 Lębork</td>\n      <td>Lębork ul. Weterynaryjna 1 84-300 Lębork</td>\n      <td>w zespole ds. bezpieczeństwa żywności, pasz i ...</td>\n      <td>06 grudnia 2023</td>\n      <td>20 grudnia 2023</td>\n      <td>anulowano nabórB|łędy w ogłoszeniu</td>\n      <td>nie podano wynagrodzenia</td>\n      <td>1</td>\n      <td>1</td>\n      <td>[wykonuje zdania Inspekcji Weterynaryjnej okre...</td>\n      <td>wyższe weterynaryjne</td>\n      <td>[Prawo wykonywania zawodu lekarza weterynarii,...</td>\n      <td>[staż pracy: , znajomość języka angielskiego n...</td>\n      <td>[Dokumenty należy złożyć do: 20.12.2023, Decyd...</td>\n      <td>67</td>\n    </tr>\n    <tr>\n      <th>16</th>\n      <td>130982</td>\n      <td>pełnomocnik do spraw ochrony informacji niejaw...</td>\n      <td>Generalna Dyrekcja Ochrony Środowiska w Warszawie</td>\n      <td>Warszawa</td>\n      <td>Al. Jerozolimskie 136 02-305 Warszawa</td>\n      <td>Warszawa Al. Jerozolimskie 136 (Eurocentrum Of...</td>\n      <td>Stanowisko do spraw Ochrony Informacji Niejawnych</td>\n      <td>08 grudnia 2023</td>\n      <td>20 grudnia 2023</td>\n      <td>anulowano nabórZ|miana wynika ze zmian organiz...</td>\n      <td>3723,00 zł brutto</td>\n      <td>1</td>\n      <td>1/2</td>\n      <td>[zapewnia przestrzeganie przepisów o ochronie ...</td>\n      <td>wyższe</td>\n      <td>[doświadczenie zawodowe: co najmniej 1 rok w o...</td>\n      <td>[doświadczenie zawodowe: co najmniej 1 rok w o...</td>\n      <td>[Dokumenty należy złożyć do: 20.12.2023, Decyd...</td>\n      <td>391</td>\n    </tr>\n    <tr>\n      <th>60</th>\n      <td>130591</td>\n      <td>specjalista</td>\n      <td>Komenda Miejska Policji w Wałbrzychu</td>\n      <td>Wałbrzych</td>\n      <td>ul. Mazowiecka 2 58-300 Wałbrzych</td>\n      <td>Wałbrzych</td>\n      <td>Wydziału Kadr i Szkolenia i Prezydialnego Kome...</td>\n      <td>23 listopada 2023</td>\n      <td>4 grudnia 2023</td>\n      <td>anulowano nabórN|iekompletna informacja dot. w...</td>\n      <td>nie mniej niż 3899,66 zł brutto</td>\n      <td>1</td>\n      <td>1</td>\n      <td>[przyjmowanie, gromadzenie, opracowywanie, prz...</td>\n      <td>wyższe</td>\n      <td>[W służbie cywilnej nie może być zatrudniona o...</td>\n      <td>[Poświadczenie bezpieczeństwa uprawniające do ...</td>\n      <td>[Dokumenty należy złożyć do: 04.12.2023, Decyd...</td>\n      <td>347</td>\n    </tr>\n    <tr>\n      <th>330</th>\n      <td>129839</td>\n      <td>księgowy</td>\n      <td>Powiatowy Inspektorat Weterynarii w Środzie Śl...</td>\n      <td>Środa Śląska</td>\n      <td>Ul. Wrocławska 2 55-300 Środa Śląska</td>\n      <td>Środa Śląska</td>\n      <td>Zespół ds. finansowo - księgowych</td>\n      <td>09 listopada 2023</td>\n      <td>24 listopada 2023</td>\n      <td>anulowano nabórB|rak zapisu w wymaganiach niez...</td>\n      <td>nie podano wynagrodzenia</td>\n      <td>1</td>\n      <td>1</td>\n      <td>[Prowadzenie płatności wraz z kompleksową obsł...</td>\n      <td>średnie ekonomiczne</td>\n      <td>[znajomość obsługi komputera, znajomość ustawy...</td>\n      <td>[doświadczenie zawodowe: co najmniej 1 rok w k...</td>\n      <td>[Dokumenty należy złożyć do: 24.11.2023, Decyd...</td>\n      <td>235</td>\n    </tr>\n    <tr>\n      <th>...</th>\n      <td>...</td>\n      <td>...</td>\n      <td>...</td>\n      <td>...</td>\n      <td>...</td>\n      <td>...</td>\n      <td>...</td>\n      <td>...</td>\n      <td>...</td>\n      <td>...</td>\n      <td>...</td>\n      <td>...</td>\n      <td>...</td>\n      <td>...</td>\n      <td>...</td>\n      <td>...</td>\n      <td>...</td>\n      <td>...</td>\n      <td>...</td>\n    </tr>\n    <tr>\n      <th>107188</th>\n      <td>18252</td>\n      <td>inspektor</td>\n      <td>Wojewódzki Inspektorat Weterynarii w Krakowie</td>\n      <td>Kraków</td>\n      <td>Wojewódzki Inspektorat Weterynarii w Krakowie ...</td>\n      <td>Kraków</td>\n      <td>Zespół do spraw Finansowo-ksiegowych</td>\n      <td>14 listopada 2019</td>\n      <td>1 grudnia 2017</td>\n      <td>anulowano nabórn|abór na stanowisko anulowano ...</td>\n      <td>nie podano wynagrodzenia</td>\n      <td>1</td>\n      <td>1</td>\n      <td>[prowadzenie ksiag inwentarzowych  środków trw...</td>\n      <td>średnie ekonomiczne - preferowana rachunkowość</td>\n      <td>[doświadczenie zawodowe: 3 lata pracy w księgo...</td>\n      <td>[biegła znajomość obsługi komputera (program M...</td>\n      <td>[Dokumenty należy złożyć do: 01.12.2017, Decyd...</td>\n      <td>2805</td>\n    </tr>\n    <tr>\n      <th>107197</th>\n      <td>18266</td>\n      <td>specjalista</td>\n      <td>Główny Inspektorat Transportu Drogowego w Wars...</td>\n      <td>Warszawa</td>\n      <td>Główny Inspektorat Transportu Drogowego, Aleje...</td>\n      <td>Warszawa</td>\n      <td>w Wydziale Projektowania Systemów Informatyczn...</td>\n      <td>11 stycznia 2018</td>\n      <td>4 grudnia 2017</td>\n      <td>decyzja kandydatki/kandydata o rezygnacji z ob...</td>\n      <td>nie podano wynagrodzenia</td>\n      <td>1</td>\n      <td>1</td>\n      <td>[Sprawowanie nadzoru nad utrzymaniem, wdrażani...</td>\n      <td>wyższe</td>\n      <td>[doświadczenie zawodowe: 2 lata doświadczenia ...</td>\n      <td>[Wykształcenie: wyższe techniczne lub informat...</td>\n      <td>[Dokumenty należy złożyć do: 04.12.2017, Decyd...</td>\n      <td>2836</td>\n    </tr>\n    <tr>\n      <th>107229</th>\n      <td>18227</td>\n      <td>inspektor</td>\n      <td>Komenda Wojewódzka Policji we Wrocławiu</td>\n      <td>Wrocław</td>\n      <td>Komenda Wojewódzka Policji we Wrocławiu ul. Po...</td>\n      <td>Wrocław</td>\n      <td>w Wydziale Finansów</td>\n      <td>15 stycznia 2018</td>\n      <td>29 listopada 2017</td>\n      <td>decyzja kandydatki/kandydata o rezygnacji z ob...</td>\n      <td>nie podano wynagrodzenia</td>\n      <td>1</td>\n      <td>1</td>\n      <td>[naliczanie i sporządzanie list miesięcznych u...</td>\n      <td>średnie ekonomiczne</td>\n      <td>[doświadczenie zawodowe: 2 lata pracy w komórk...</td>\n      <td>[doświadczenie zawodowe: 1 rok pracy w komórka...</td>\n      <td>[Dokumenty należy złożyć do: 29.11.2017, Decyd...</td>\n      <td>2651</td>\n    </tr>\n    <tr>\n      <th>107231</th>\n      <td>18236</td>\n      <td>inspektor</td>\n      <td>Łódzki Urząd Wojewódzki w Łodzi</td>\n      <td>Łódź</td>\n      <td>Łódzki Urząd Wojewódzki w Łodzi ul. Piotrkowsk...</td>\n      <td>Łódź Łódzki Urząd Wojewódzki w Łodzi ul. Piotr...</td>\n      <td>w Biurze Kadr, Płac i Budżetu</td>\n      <td>15 grudnia 2017</td>\n      <td>30 listopada 2017</td>\n      <td>decyzja kandydatki/kandydata o rezygnacji z ob...</td>\n      <td>nie podano wynagrodzenia</td>\n      <td>1</td>\n      <td>1,0</td>\n      <td>[wyliczanie wynagrodzeń, sporządzanie list pła...</td>\n      <td>średnie ekonomiczne, administracyjne</td>\n      <td>[doświadczenie zawodowe: 6 miesięcy w służbach...</td>\n      <td>[szkolenia w zakresie przepisów podatkowych, p...</td>\n      <td>[Dokumenty należy złożyć do: 30.11.2017, Decyd...</td>\n      <td>2705</td>\n    </tr>\n    <tr>\n      <th>107235</th>\n      <td>18162</td>\n      <td>inspektor wojewódzki</td>\n      <td>Wielkopolski Urząd Wojewódzki w Poznaniu</td>\n      <td>Poznań</td>\n      <td>Al. Niepodległości 16/18 61-713 Poznań</td>\n      <td>Poznań</td>\n      <td>w Wydziale Polityki Społecznej WUW w Poznaniu ...</td>\n      <td>05 stycznia 2018</td>\n      <td>30 listopada 2017</td>\n      <td>decyzja kandydatki/kandydata o rezygnacji z ob...</td>\n      <td>nie podano wynagrodzenia</td>\n      <td>2</td>\n      <td>1</td>\n      <td>[kontrolowanie realizacji zadań z zakresu wspi...</td>\n      <td>wyższe magisterskie na kierunku pedagogika, pe...</td>\n      <td>[staż pracy: 3 lata w zawodzie pedagoga lub ps...</td>\n      <td>[doświadczenie zawodowe: w administracji publi...</td>\n      <td>[Dokumenty należy złożyć do: 30.11.2017, Decyd...</td>\n      <td>2465</td>\n    </tr>\n  </tbody>\n</table>\n<p>1586 rows × 19 columns</p>\n</div>"
     },
     "execution_count": 76,
     "metadata": {},
     "output_type": "execute_result"
    }
   ],
   "source": [
    "df_copy = df\n",
    "df_copy.drop(indexes_to_remove, axis=0, inplace=True)\n",
    "df_copy"
   ],
   "metadata": {
    "collapsed": false,
    "ExecuteTime": {
     "end_time": "2024-03-28T22:10:52.658800Z",
     "start_time": "2024-03-28T22:10:52.573194Z"
    }
   },
   "id": "149345359511c74d",
   "execution_count": 76
  },
  {
   "cell_type": "code",
   "outputs": [
    {
     "data": {
      "text/plain": "                             Detailed recruitment results\n10      anulowano nabórB|rak informacji dla kandydata,...\n13                     anulowano nabórB|łędy w ogłoszeniu\n16      anulowano nabórZ|miana wynika ze zmian organiz...\n60      anulowano nabórN|iekompletna informacja dot. w...\n330     anulowano nabórB|rak zapisu w wymaganiach niez...\n...                                                   ...\n106738                      anulowano nabórr|eorganizacja\n106889  anulowano nabórU|przejmie informujemy, że w zw...\n106988  anulowano nabóru|stanie przyczyny wszczęcia na...\n107164  anulowano nabórP|owrót do pracy pracownika na ...\n107188  anulowano nabórn|abór na stanowisko anulowano ...\n\n[718 rows x 1 columns]",
      "text/html": "<div>\n<style scoped>\n    .dataframe tbody tr th:only-of-type {\n        vertical-align: middle;\n    }\n\n    .dataframe tbody tr th {\n        vertical-align: top;\n    }\n\n    .dataframe thead th {\n        text-align: right;\n    }\n</style>\n<table border=\"1\" class=\"dataframe\">\n  <thead>\n    <tr style=\"text-align: right;\">\n      <th></th>\n      <th>Detailed recruitment results</th>\n    </tr>\n  </thead>\n  <tbody>\n    <tr>\n      <th>10</th>\n      <td>anulowano nabórB|rak informacji dla kandydata,...</td>\n    </tr>\n    <tr>\n      <th>13</th>\n      <td>anulowano nabórB|łędy w ogłoszeniu</td>\n    </tr>\n    <tr>\n      <th>16</th>\n      <td>anulowano nabórZ|miana wynika ze zmian organiz...</td>\n    </tr>\n    <tr>\n      <th>60</th>\n      <td>anulowano nabórN|iekompletna informacja dot. w...</td>\n    </tr>\n    <tr>\n      <th>330</th>\n      <td>anulowano nabórB|rak zapisu w wymaganiach niez...</td>\n    </tr>\n    <tr>\n      <th>...</th>\n      <td>...</td>\n    </tr>\n    <tr>\n      <th>106738</th>\n      <td>anulowano nabórr|eorganizacja</td>\n    </tr>\n    <tr>\n      <th>106889</th>\n      <td>anulowano nabórU|przejmie informujemy, że w zw...</td>\n    </tr>\n    <tr>\n      <th>106988</th>\n      <td>anulowano nabóru|stanie przyczyny wszczęcia na...</td>\n    </tr>\n    <tr>\n      <th>107164</th>\n      <td>anulowano nabórP|owrót do pracy pracownika na ...</td>\n    </tr>\n    <tr>\n      <th>107188</th>\n      <td>anulowano nabórn|abór na stanowisko anulowano ...</td>\n    </tr>\n  </tbody>\n</table>\n<p>718 rows × 1 columns</p>\n</div>"
     },
     "execution_count": 78,
     "metadata": {},
     "output_type": "execute_result"
    }
   ],
   "source": [
    "df[df['Detailed recruitment results'].str.contains(r'anulowano nabór')][['Detailed recruitment results']]"
   ],
   "metadata": {
    "collapsed": false,
    "ExecuteTime": {
     "end_time": "2024-03-28T22:20:20.852191Z",
     "start_time": "2024-03-28T22:20:20.829674Z"
    }
   },
   "id": "5c41dea10451a115",
   "execution_count": 78
  },
  {
   "cell_type": "code",
   "outputs": [],
   "source": [],
   "metadata": {
    "collapsed": false
   },
   "id": "b6578d74270d4301"
  }
 ],
 "metadata": {
  "kernelspec": {
   "display_name": "Python 3",
   "language": "python",
   "name": "python3"
  },
  "language_info": {
   "codemirror_mode": {
    "name": "ipython",
    "version": 2
   },
   "file_extension": ".py",
   "mimetype": "text/x-python",
   "name": "python",
   "nbconvert_exporter": "python",
   "pygments_lexer": "ipython2",
   "version": "2.7.6"
  }
 },
 "nbformat": 4,
 "nbformat_minor": 5
}
