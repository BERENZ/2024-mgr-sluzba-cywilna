{
 "cells": [
  {
   "cell_type": "code",
   "execution_count": 39,
   "id": "initial_id",
   "metadata": {
    "collapsed": true,
    "ExecuteTime": {
     "end_time": "2024-03-29T20:44:51.911442Z",
     "start_time": "2024-03-29T20:44:51.896073Z"
    }
   },
   "outputs": [],
   "source": [
    "import pandas as pd\n",
    "import os"
   ]
  },
  {
   "cell_type": "markdown",
   "source": [
    "## Loading data"
   ],
   "metadata": {
    "collapsed": false
   },
   "id": "da17d20ef4204758"
  },
  {
   "cell_type": "code",
   "outputs": [],
   "source": [
    "path = os.getcwd()[0:-5] + '\\\\Data\\\\kprm-with-salary-update-20231115.json'\n",
    "\n",
    "df = pd.read_json(path, lines=True)\n",
    "\n",
    "# Dropping unnecessary columns:\n",
    "# '6' has been split on 2 columns due to an error during the download,\n",
    "# while '8' is a duplicate of '9' with minor differences. However, '9' is\n",
    "# believed to be the correct version.\n",
    "df.drop(columns=[6,8], inplace=True)\n",
    "\n",
    "# Renaming columns.\n",
    "df.columns = ['Ad ID', 'Job title', 'Employer (entity)', 'Employer location', 'Office address', 'Workplace', 'Department', 'Posted on', 'Expiration date', 'Detailed recruitment results', 'Salary (monthly)', 'Vacancies', 'Full-time ratio', 'Recruitment results', 'Description of duties', 'Required level of education', 'Prerequisites', 'Optional requirements', 'Application instructions', 'Number of views']"
   ],
   "metadata": {
    "collapsed": false,
    "ExecuteTime": {
     "end_time": "2024-03-29T20:45:01.485934Z",
     "start_time": "2024-03-29T20:44:52.083612Z"
    }
   },
   "id": "f6a4e2d0f5e507f6",
   "execution_count": 40
  },
  {
   "cell_type": "code",
   "outputs": [
    {
     "name": "stdout",
     "output_type": "stream",
     "text": [
      "1\n"
     ]
    }
   ],
   "source": [
    "print(df['Recruitment results'].nunique())"
   ],
   "metadata": {
    "collapsed": false,
    "ExecuteTime": {
     "end_time": "2024-03-29T20:45:01.538711Z",
     "start_time": "2024-03-29T20:45:01.489465Z"
    }
   },
   "id": "2221fccc52ee5c9d",
   "execution_count": 41
  },
  {
   "cell_type": "code",
   "outputs": [],
   "source": [
    "# The data contains no active posts at the time of the download:\n",
    "# the column \"Recruitment results\" contains only one unique value - \"Koniec naboru\"\n",
    "# (recruitment finished).\n",
    "# Thus, we can drop the column.\n",
    "df.drop(columns=[\"Recruitment results\"], inplace=True)"
   ],
   "metadata": {
    "collapsed": false,
    "ExecuteTime": {
     "end_time": "2024-03-29T20:45:01.671933Z",
     "start_time": "2024-03-29T20:45:01.542216Z"
    }
   },
   "id": "a5c353681ae0d424",
   "execution_count": 42
  },
  {
   "cell_type": "markdown",
   "source": [
    "## Cleansing"
   ],
   "metadata": {
    "collapsed": false
   },
   "id": "65d45f300dffc867"
  },
  {
   "cell_type": "markdown",
   "source": [
    "#### Reducing data size\n",
    "<span style=\"font-size:1.05em;\">We're removing unnecessary text from rows, such as \"NR\" (an abbreviation for number) in every cell of the \"Ad ID\" column.</span>"
   ],
   "metadata": {
    "collapsed": false
   },
   "id": "533ea4c5af6f84d7"
  },
  {
   "cell_type": "code",
   "outputs": [
    {
     "data": {
      "text/plain": "    Ad ID            Job title  \\\n0  131450   główny specjalista   \n1  131558             księgowy   \n2  131502  starszy specjalista   \n3  131510            inspektor   \n4  131408   główny specjalista   \n\n                                   Employer (entity) Employer location  \\\n0   Ministerstwo Rolnictwa i Rozwoju Wsi w Warszawie          Warszawa   \n1          Powiatowy Inspektorat Weterynarii w Piszu              Pisz   \n2       Główny Urząd Nadzoru Budowlanego w Warszawie          Warszawa   \n3  Powiatowy Inspektorat Nadzoru Budowlanego w Hr...        Hrubieszów   \n4     Ministerstwo Rozwoju i Technologii w Warszawie          Warszawa   \n\n                           Office address  \\\n0          ul. Wspólna 30 00-930 Warszawa   \n1           ul. Warszawska 38 12-200 Pisz   \n2            Krucza 38/42 00-926 Warszawa   \n3  ul. Plac Wolności 13 22-500 Hrubieszów   \n4   pl. Trzech Krzyży 3/5 00-507 Warszawa   \n\n                                           Workplace  \\\n0                                           Warszawa   \n1  Pisz Powiatowy Inspektorat Weterynarii ul. War...   \n2                          Warszawa ul. Krucza 38/42   \n3  Hrubieszów 22-500 Hrubieszów, ul. Plac Wolnośc...   \n4                                           Warszawa   \n\n                                          Department        Posted on  \\\n0    w Wydziale Obsługi Płacowej w Biurze Finansowym  15 grudnia 2023   \n1  w zespole ds. finansowo-księgowych i administr...  15 grudnia 2023   \n2                            w Biurze Organizacyjnym  14 grudnia 2023   \n3                       Referat inspekcji i kontroli  13 grudnia 2023   \n4  w Wydziale Wynagrodzeń w Departamencie Budżetu...  13 grudnia 2023   \n\n   Expiration date Detailed recruitment results  \\\n0  29 grudnia 2023             anulowano nabór|   \n1  29 grudnia 2023             anulowano nabór|   \n2  29 grudnia 2023             anulowano nabór|   \n3  29 grudnia 2023             anulowano nabór|   \n4  27 grudnia 2023             anulowano nabór|   \n\n                     Salary (monthly)  Vacancies Full-time ratio  \\\n0                   7009,44 zł brutto          1               1   \n1            nie podano wynagrodzenia          1               1   \n2            nie podano wynagrodzenia          1               1   \n3            nie podano wynagrodzenia          1               1   \n4  od 7009,00 zł do 7447,00 zł brutto          1               1   \n\n                               Description of duties  \\\n0  [nalicza wynagrodzenia pracowników oraz zasiłk...   \n1  [Wykonuje zadania księgowego w jednostce budże...   \n2  [organizuje proces przeprowadzania naborów do ...   \n3  [Prowadzi postępowania administracyjne wynikaj...   \n4  [prowadzi obsługę płacową dla pracowników zatr...   \n\n                         Required level of education  \\\n0                                            wyższe    \n1                                wyższe ekonomiczne    \n2                                            wyższe    \n3            średnie budowlane lub architektoniczne    \n4  wyższe ekonomiczne lub inne nieprofilowane wra...   \n\n                                       Prerequisites  \\\n0  [3 lata stażu pracy w obszarze wynagrodzeń i u...   \n1  [doświadczenie zawodowe: co najmniej 1 rok , W...   \n2  [doświadczenie zawodowe: 1,5 roku w pracy zwią...   \n3  [staż pracy: w administracji publicznej lub w ...   \n4  [Doświadczenie zawodowe: minimum 3 lata w obsz...   \n\n                               Optional requirements  \\\n0  [Wykształcenie wyższe ekonomiczne lub ekonomic...   \n1                                  [komunikatywność]   \n2  [Wykształcenie: wyższe prawnicze lub administr...   \n3  [Wykształcenie: wyższe Wykształcenie: wyższe b...   \n4  [CV i list motywacyjny, Kopie dokumentów potwi...   \n\n                            Application instructions Number of views  \n0  [Dokumenty należy złożyć do: 29.12.2023, Decyd...             91   \n1  [Dokumenty należy złożyć do: 29.12.2023, Decyd...             25   \n2  [Dokumenty należy złożyć do: 29.12.2023, Decyd...             34   \n3  [Dokumenty należy złożyć do: 29.12.2023, Decyd...             58   \n4  [Dokumenty należy złożyć do: 27.12.2023, Decyd...            395   ",
      "text/html": "<div>\n<style scoped>\n    .dataframe tbody tr th:only-of-type {\n        vertical-align: middle;\n    }\n\n    .dataframe tbody tr th {\n        vertical-align: top;\n    }\n\n    .dataframe thead th {\n        text-align: right;\n    }\n</style>\n<table border=\"1\" class=\"dataframe\">\n  <thead>\n    <tr style=\"text-align: right;\">\n      <th></th>\n      <th>Ad ID</th>\n      <th>Job title</th>\n      <th>Employer (entity)</th>\n      <th>Employer location</th>\n      <th>Office address</th>\n      <th>Workplace</th>\n      <th>Department</th>\n      <th>Posted on</th>\n      <th>Expiration date</th>\n      <th>Detailed recruitment results</th>\n      <th>Salary (monthly)</th>\n      <th>Vacancies</th>\n      <th>Full-time ratio</th>\n      <th>Description of duties</th>\n      <th>Required level of education</th>\n      <th>Prerequisites</th>\n      <th>Optional requirements</th>\n      <th>Application instructions</th>\n      <th>Number of views</th>\n    </tr>\n  </thead>\n  <tbody>\n    <tr>\n      <th>0</th>\n      <td>131450</td>\n      <td>główny specjalista</td>\n      <td>Ministerstwo Rolnictwa i Rozwoju Wsi w Warszawie</td>\n      <td>Warszawa</td>\n      <td>ul. Wspólna 30 00-930 Warszawa</td>\n      <td>Warszawa</td>\n      <td>w Wydziale Obsługi Płacowej w Biurze Finansowym</td>\n      <td>15 grudnia 2023</td>\n      <td>29 grudnia 2023</td>\n      <td>anulowano nabór|</td>\n      <td>7009,44 zł brutto</td>\n      <td>1</td>\n      <td>1</td>\n      <td>[nalicza wynagrodzenia pracowników oraz zasiłk...</td>\n      <td>wyższe</td>\n      <td>[3 lata stażu pracy w obszarze wynagrodzeń i u...</td>\n      <td>[Wykształcenie wyższe ekonomiczne lub ekonomic...</td>\n      <td>[Dokumenty należy złożyć do: 29.12.2023, Decyd...</td>\n      <td>91</td>\n    </tr>\n    <tr>\n      <th>1</th>\n      <td>131558</td>\n      <td>księgowy</td>\n      <td>Powiatowy Inspektorat Weterynarii w Piszu</td>\n      <td>Pisz</td>\n      <td>ul. Warszawska 38 12-200 Pisz</td>\n      <td>Pisz Powiatowy Inspektorat Weterynarii ul. War...</td>\n      <td>w zespole ds. finansowo-księgowych i administr...</td>\n      <td>15 grudnia 2023</td>\n      <td>29 grudnia 2023</td>\n      <td>anulowano nabór|</td>\n      <td>nie podano wynagrodzenia</td>\n      <td>1</td>\n      <td>1</td>\n      <td>[Wykonuje zadania księgowego w jednostce budże...</td>\n      <td>wyższe ekonomiczne</td>\n      <td>[doświadczenie zawodowe: co najmniej 1 rok , W...</td>\n      <td>[komunikatywność]</td>\n      <td>[Dokumenty należy złożyć do: 29.12.2023, Decyd...</td>\n      <td>25</td>\n    </tr>\n    <tr>\n      <th>2</th>\n      <td>131502</td>\n      <td>starszy specjalista</td>\n      <td>Główny Urząd Nadzoru Budowlanego w Warszawie</td>\n      <td>Warszawa</td>\n      <td>Krucza 38/42 00-926 Warszawa</td>\n      <td>Warszawa ul. Krucza 38/42</td>\n      <td>w Biurze Organizacyjnym</td>\n      <td>14 grudnia 2023</td>\n      <td>29 grudnia 2023</td>\n      <td>anulowano nabór|</td>\n      <td>nie podano wynagrodzenia</td>\n      <td>1</td>\n      <td>1</td>\n      <td>[organizuje proces przeprowadzania naborów do ...</td>\n      <td>wyższe</td>\n      <td>[doświadczenie zawodowe: 1,5 roku w pracy zwią...</td>\n      <td>[Wykształcenie: wyższe prawnicze lub administr...</td>\n      <td>[Dokumenty należy złożyć do: 29.12.2023, Decyd...</td>\n      <td>34</td>\n    </tr>\n    <tr>\n      <th>3</th>\n      <td>131510</td>\n      <td>inspektor</td>\n      <td>Powiatowy Inspektorat Nadzoru Budowlanego w Hr...</td>\n      <td>Hrubieszów</td>\n      <td>ul. Plac Wolności 13 22-500 Hrubieszów</td>\n      <td>Hrubieszów 22-500 Hrubieszów, ul. Plac Wolnośc...</td>\n      <td>Referat inspekcji i kontroli</td>\n      <td>13 grudnia 2023</td>\n      <td>29 grudnia 2023</td>\n      <td>anulowano nabór|</td>\n      <td>nie podano wynagrodzenia</td>\n      <td>1</td>\n      <td>1</td>\n      <td>[Prowadzi postępowania administracyjne wynikaj...</td>\n      <td>średnie budowlane lub architektoniczne</td>\n      <td>[staż pracy: w administracji publicznej lub w ...</td>\n      <td>[Wykształcenie: wyższe Wykształcenie: wyższe b...</td>\n      <td>[Dokumenty należy złożyć do: 29.12.2023, Decyd...</td>\n      <td>58</td>\n    </tr>\n    <tr>\n      <th>4</th>\n      <td>131408</td>\n      <td>główny specjalista</td>\n      <td>Ministerstwo Rozwoju i Technologii w Warszawie</td>\n      <td>Warszawa</td>\n      <td>pl. Trzech Krzyży 3/5 00-507 Warszawa</td>\n      <td>Warszawa</td>\n      <td>w Wydziale Wynagrodzeń w Departamencie Budżetu...</td>\n      <td>13 grudnia 2023</td>\n      <td>27 grudnia 2023</td>\n      <td>anulowano nabór|</td>\n      <td>od 7009,00 zł do 7447,00 zł brutto</td>\n      <td>1</td>\n      <td>1</td>\n      <td>[prowadzi obsługę płacową dla pracowników zatr...</td>\n      <td>wyższe ekonomiczne lub inne nieprofilowane wra...</td>\n      <td>[Doświadczenie zawodowe: minimum 3 lata w obsz...</td>\n      <td>[CV i list motywacyjny, Kopie dokumentów potwi...</td>\n      <td>[Dokumenty należy złożyć do: 27.12.2023, Decyd...</td>\n      <td>395</td>\n    </tr>\n  </tbody>\n</table>\n</div>"
     },
     "execution_count": 43,
     "metadata": {},
     "output_type": "execute_result"
    }
   ],
   "source": [
    "for index, row in df.iterrows():\n",
    "    if row['Ad ID'][0] == 'N' and row['Ad ID'][2] == ' ':\n",
    "        df.at[index, 'Ad ID'] = row['Ad ID'][3:]\n",
    "    \n",
    "    # Removing \"Adres urzędu: \" from each row.\n",
    "    if row['Office address'][12] == ':' and row['Office address'][13] == ' ':\n",
    "        df.at[index, 'Office address'] = row['Office address'][14:]\n",
    "    elif row['Office address'][12] == ':':\n",
    "        df.at[index, 'Office address'] = row['Office address'][13:]\n",
    "        \n",
    "    # Removing \"Miejsce wykonywania pracy: \" from each row.\n",
    "    if row['Workplace'][25] == ':' and row['Workplace'][26] == ' ':\n",
    "        df.at[index, 'Workplace'] = row['Workplace'][27:]\n",
    "    elif row['Workplace'][25] == ':':\n",
    "        df.at[index, 'Workplace'] = row['Workplace'][26:]\n",
    "\n",
    "    # Removing \"Wykształcenie: \" from each row. \n",
    "    if row['Required level of education'][13] == ':' and row['Required level of education'][14] == ' ':\n",
    "        df.at[index, 'Required level of education'] = row['Required level of education'][15:]\n",
    "    elif row['Required level of education'][13] == ':':\n",
    "        df.at[index, 'Required level of education'] = row['Required level of education'][14:]\n",
    "        \n",
    "    # Removing \"Wyniki naboru: \" from each row.\n",
    "    if row['Detailed recruitment results'][14] == ' ' and row['Detailed recruitment results'][13] == ':':\n",
    "        df.at[index, 'Detailed recruitment results'] = row['Detailed recruitment results'][15:]\n",
    "    elif row['Detailed recruitment results'][13] == ':':\n",
    "        df.at[index, 'Detailed recruitment results'] = row['Detailed recruitment results'][14:]\n",
    "    \n",
    "    # Removing \"Liczba odwiedzin: \" from each row.\n",
    "    # One additional condition since the first character in most entries is a space.\n",
    "    if row['Required level of education'][0] == ' ':\n",
    "        if row['Number of views'][18] == ':' and row['Number of views'][19] == ' ':\n",
    "            df.at[index, 'Number of views'] = row['Number of views'][20:]\n",
    "        elif row['Number of views'][18] == ':' and row['Number of views'][1].lower() == 'l':\n",
    "            df.at[index, 'Number of views'] = row['Number of views'][19:]\n",
    "    else:\n",
    "        if row['Number of views'][17] == ':' and row['Number of views'][18] == ' ':\n",
    "            df.at[index, 'Number of views'] = row['Number of views'][19:]\n",
    "        elif row['Number of views'][16] == ':' and row['Number of views'][0].lower() == 'l':\n",
    "            df.at[index, 'Number of views'] = row['Number of views'][17:]\n",
    "\n",
    "        \n",
    "df.head()"
   ],
   "metadata": {
    "collapsed": false,
    "ExecuteTime": {
     "end_time": "2024-03-29T20:45:44.393967Z",
     "start_time": "2024-03-29T20:45:01.677806Z"
    }
   },
   "id": "9bbf3613f848698c",
   "execution_count": 43
  },
  {
   "cell_type": "markdown",
   "source": [
    "#### Making data readable for computers"
   ],
   "metadata": {
    "collapsed": false
   },
   "id": "cd193d6918291395"
  },
  {
   "cell_type": "markdown",
   "source": [
    "##### The salary column"
   ],
   "metadata": {
    "collapsed": false
   },
   "id": "9c07de29dc1d14c"
  },
  {
   "cell_type": "markdown",
   "source": [
    "<span style=\"font-size:1.05em;\">First, we're checking whether all salaries are given as gross (brutto) or if there are some given as net (netto).</span>"
   ],
   "metadata": {
    "collapsed": false
   },
   "id": "f350cec1755b12ad"
  },
  {
   "cell_type": "code",
   "outputs": [
    {
     "name": "stdout",
     "output_type": "stream",
     "text": [
      "117\n"
     ]
    }
   ],
   "source": [
    "df_netto = df[df['Salary (monthly)'].str.contains('netto')][['Salary (monthly)']]\n",
    "count_netto = len(df_netto)\n",
    "print(count_netto)"
   ],
   "metadata": {
    "collapsed": false,
    "ExecuteTime": {
     "end_time": "2024-03-29T20:45:44.503689Z",
     "start_time": "2024-03-29T20:45:44.398870Z"
    }
   },
   "id": "93f44045b7ae39e1",
   "execution_count": 44
  },
  {
   "cell_type": "markdown",
   "source": [
    "<span style=\"font-size:1.05em;\">Exploring the frequency of different recruitment results.</span>"
   ],
   "metadata": {
    "collapsed": false
   },
   "id": "212b6d028a10355c"
  },
  {
   "cell_type": "code",
   "outputs": [],
   "source": [
    "# Announcements that ended with the employment of a candidate.\n",
    "success_df = df[df['Detailed recruitment results'].str.contains(r'wyborem kandydatki/kandydata|informacja o zatrudnieniu kandydatki|zatrudnieniem')][['Detailed recruitment results']]\n",
    "success_count = len(success_df)"
   ],
   "metadata": {
    "collapsed": false,
    "ExecuteTime": {
     "end_time": "2024-03-29T20:45:44.769024Z",
     "start_time": "2024-03-29T20:45:44.505873Z"
    }
   },
   "id": "bc2e2670329cbde7",
   "execution_count": 45
  },
  {
   "cell_type": "code",
   "outputs": [],
   "source": [
    "# Announcements that ended without employing a candidate.\n",
    "# Jak skategoryzować ogłoszenia, które w rezultacie mają wpisane \"decyzja o rezygnacji kandydata z obejmowanego stanowiska\"? Na razie są wrzucone jako fail, aczkolwiek jest to dyskusyjne.\n",
    "\n",
    "failure_df = df[df['Detailed recruitment results'].str.contains(r'bez wyboru kandydatki/kandydata|nie wybrano|nie zatrudniono|rak aplikacji|rak zgłoszeń|rak ofert|rak kandydatów|rak zapisu|kandydaci zrezygnowali|ikt się nie zgłosił|rak kandydatur|rak wniosków|bez zatrudnienia|kandydat zrezygnował|nie spełniały wymagań|nie wyłoniono|rezygnacji|rezygnacja|kandydat zrezygnował|zrezygnował z|nie zgłosił się|andydaci nie przybyli|zrezygnowali|braku kandydatur|kandydatka zrezygnowała|ezygnacja kandydatki|żadna oferta|rak złożonych ofert|ezygnacja kandydata|nadesłanych ofert|braku kandydatów|braku kandydatur')][['Detailed recruitment results']]\n",
    "failure_count = len(failure_df)"
   ],
   "metadata": {
    "collapsed": false,
    "ExecuteTime": {
     "end_time": "2024-03-29T20:45:45.820159Z",
     "start_time": "2024-03-29T20:45:44.772935Z"
    }
   },
   "id": "45c3016e1214b276",
   "execution_count": 46
  },
  {
   "cell_type": "code",
   "outputs": [
    {
     "name": "stdout",
     "output_type": "stream",
     "text": [
      "Ads that led to employment: 58659\n",
      "Ads that did not lead to employment: 43199\n",
      "Ads cancelled as a result of an error: 464\n"
     ]
    }
   ],
   "source": [
    "# Announcements that have been cancelled as a results of an error; they are omitted in our analysis.\n",
    "error1_df = df[df['Detailed recruitment results'].str.contains(r'łędu|łąd|łędem|łędne|orekta ogłoszenia|łędnie|łędny|łędy w ogłoszeniu|rak informacji|ie uwzględniono|łędna|omyłkowo|omyłka|nie uwwzględniono|przypadkowo|dwukrotnie|podwójnie|razy wprowadzono te same|zdublowane|problem techniczny|miana treści|wymaga korekty')][['Detailed recruitment results']]\n",
    "error1_count = len(error1_df)\n",
    "\n",
    "error2_df = df.loc[df['Detailed recruitment results'] == 'anulowano nabór|']\n",
    "error2_count = len(error2_df)\n",
    "\n",
    "error_count = error1_count + error2_count\n",
    "print(f\"Ads that led to employment: {success_count}\\n\"\n",
    "      f\"Ads that did not lead to employment: {failure_count}\\n\"\n",
    "      f\"Ads cancelled as a result of an error: {error1_count}\")"
   ],
   "metadata": {
    "collapsed": false,
    "ExecuteTime": {
     "end_time": "2024-03-29T20:45:46.423575Z",
     "start_time": "2024-03-29T20:45:45.824888Z"
    }
   },
   "id": "36c0c6512626bd57",
   "execution_count": 47
  },
  {
   "cell_type": "code",
   "outputs": [],
   "source": [
    "# A relatively small amount of ads was left, and they're not a subject of our analysis (e.g. a decision to cancel a vacancy or the return of an employee to work).\n",
    "# From now on, we're going to operate only on ads present in failure_df and success_df.\n",
    "\n",
    "failure_df = df[df.index.isin(list(failure_df.index))]\n",
    "success_df = df[df.index.isin(list(success_df.index))]"
   ],
   "metadata": {
    "collapsed": false,
    "ExecuteTime": {
     "end_time": "2024-03-29T20:45:46.658787Z",
     "start_time": "2024-03-29T20:45:46.471806Z"
    }
   },
   "id": "b6578d74270d4301",
   "execution_count": 49
  }
 ],
 "metadata": {
  "kernelspec": {
   "display_name": "Python 3",
   "language": "python",
   "name": "python3"
  },
  "language_info": {
   "codemirror_mode": {
    "name": "ipython",
    "version": 2
   },
   "file_extension": ".py",
   "mimetype": "text/x-python",
   "name": "python",
   "nbconvert_exporter": "python",
   "pygments_lexer": "ipython2",
   "version": "2.7.6"
  }
 },
 "nbformat": 4,
 "nbformat_minor": 5
}
