{
 "cells": [
  {
   "cell_type": "code",
   "execution_count": 1,
   "id": "initial_id",
   "metadata": {
    "collapsed": true,
    "ExecuteTime": {
     "end_time": "2024-03-14T22:35:33.378510Z",
     "start_time": "2024-03-14T22:35:28.369653Z"
    }
   },
   "outputs": [],
   "source": [
    "import pandas as pd\n",
    "import os"
   ]
  },
  {
   "cell_type": "code",
   "outputs": [
    {
     "data": {
      "text/plain": "          0                    1   \\\n0  NR 131450   główny specjalista   \n1  NR 131558             księgowy   \n2  NR 131502  starszy specjalista   \n3  NR 131510            inspektor   \n4  NR 131408   główny specjalista   \n\n                                                  2           3   \\\n0   Ministerstwo Rolnictwa i Rozwoju Wsi w Warszawie    Warszawa   \n1          Powiatowy Inspektorat Weterynarii w Piszu        Pisz   \n2       Główny Urząd Nadzoru Budowlanego w Warszawie    Warszawa   \n3  Powiatowy Inspektorat Nadzoru Budowlanego w Hr...  Hrubieszów   \n4     Ministerstwo Rozwoju i Technologii w Warszawie    Warszawa   \n\n                                                  4   \\\n0       Adres urzędu: ul. Wspólna 30 00-930 Warszawa   \n1        Adres urzędu: ul. Warszawska 38 12-200 Pisz   \n2         Adres urzędu: Krucza 38/42 00-926 Warszawa   \n3  Adres urzędu: ul. Plac Wolności 13 22-500 Hrub...   \n4  Adres urzędu: pl. Trzech Krzyży 3/5 00-507 War...   \n\n                                                  5              6   \\\n0                Miejsce wykonywania pracy: Warszawa  Adres urzędu:   \n1  Miejsce wykonywania pracy: Pisz Powiatowy Insp...  Adres urzędu:   \n2  Miejsce wykonywania pracy: Warszawa ul. Krucza...  Adres urzędu:   \n3  Miejsce wykonywania pracy: Hrubieszów 22-500 H...  Adres urzędu:   \n4                Miejsce wykonywania pracy: Warszawa  Adres urzędu:   \n\n                                                  7           8   \\\n0    w Wydziale Obsługi Płacowej w Biurze Finansowym  15.12.2023   \n1  w zespole ds. finansowo-księgowych i administr...  15.12.2023   \n2                            w Biurze Organizacyjnym  14.12.2023   \n3                       Referat inspekcji i kontroli  13.12.2023   \n4  w Wydziale Wynagrodzeń w Departamencie Budżetu...  12.12.2023   \n\n                9   ...                                  12 13 14  \\\n0  15 grudnia 2023  ...                   7009,44 zł brutto  1  1   \n1  15 grudnia 2023  ...            nie podano wynagrodzenia  1  1   \n2  14 grudnia 2023  ...            nie podano wynagrodzenia  1  1   \n3  13 grudnia 2023  ...            nie podano wynagrodzenia  1  1   \n4  13 grudnia 2023  ...  od 7009,00 zł do 7447,00 zł brutto  1  1   \n\n              15                                                 16  \\\n0  koniec naboru  [nalicza wynagrodzenia pracowników oraz zasiłk...   \n1  koniec naboru  [Wykonuje zadania księgowego w jednostce budże...   \n2  koniec naboru  [organizuje proces przeprowadzania naborów do ...   \n3  koniec naboru  [Prowadzi postępowania administracyjne wynikaj...   \n4  koniec naboru  [prowadzi obsługę płacową dla pracowników zatr...   \n\n                                                  17  \\\n0                             Wykształcenie: wyższe    \n1                 Wykształcenie: wyższe ekonomiczne    \n2                             Wykształcenie: wyższe    \n3  Wykształcenie: średnie budowlane lub architekt...   \n4  Wykształcenie: wyższe ekonomiczne lub inne nie...   \n\n                                                  18  \\\n0  [3 lata stażu pracy w obszarze wynagrodzeń i u...   \n1  [doświadczenie zawodowe: co najmniej 1 rok , W...   \n2  [doświadczenie zawodowe: 1,5 roku w pracy zwią...   \n3  [staż pracy: w administracji publicznej lub w ...   \n4  [Doświadczenie zawodowe: minimum 3 lata w obsz...   \n\n                                                  19  \\\n0  [Wykształcenie wyższe ekonomiczne lub ekonomic...   \n1                                  [komunikatywność]   \n2  [Wykształcenie: wyższe prawnicze lub administr...   \n3  [Wykształcenie: wyższe Wykształcenie: wyższe b...   \n4  [CV i list motywacyjny, Kopie dokumentów potwi...   \n\n                                                  20                       21  \n0  [Dokumenty należy złożyć do: 29.12.2023, Decyd...    Liczba odwiedzin: 91   \n1  [Dokumenty należy złożyć do: 29.12.2023, Decyd...    Liczba odwiedzin: 25   \n2  [Dokumenty należy złożyć do: 29.12.2023, Decyd...    Liczba odwiedzin: 34   \n3  [Dokumenty należy złożyć do: 29.12.2023, Decyd...    Liczba odwiedzin: 58   \n4  [Dokumenty należy złożyć do: 27.12.2023, Decyd...   Liczba odwiedzin: 395   \n\n[5 rows x 22 columns]",
      "text/html": "<div>\n<style scoped>\n    .dataframe tbody tr th:only-of-type {\n        vertical-align: middle;\n    }\n\n    .dataframe tbody tr th {\n        vertical-align: top;\n    }\n\n    .dataframe thead th {\n        text-align: right;\n    }\n</style>\n<table border=\"1\" class=\"dataframe\">\n  <thead>\n    <tr style=\"text-align: right;\">\n      <th></th>\n      <th>0</th>\n      <th>1</th>\n      <th>2</th>\n      <th>3</th>\n      <th>4</th>\n      <th>5</th>\n      <th>6</th>\n      <th>7</th>\n      <th>8</th>\n      <th>9</th>\n      <th>...</th>\n      <th>12</th>\n      <th>13</th>\n      <th>14</th>\n      <th>15</th>\n      <th>16</th>\n      <th>17</th>\n      <th>18</th>\n      <th>19</th>\n      <th>20</th>\n      <th>21</th>\n    </tr>\n  </thead>\n  <tbody>\n    <tr>\n      <th>0</th>\n      <td>NR 131450</td>\n      <td>główny specjalista</td>\n      <td>Ministerstwo Rolnictwa i Rozwoju Wsi w Warszawie</td>\n      <td>Warszawa</td>\n      <td>Adres urzędu: ul. Wspólna 30 00-930 Warszawa</td>\n      <td>Miejsce wykonywania pracy: Warszawa</td>\n      <td>Adres urzędu:</td>\n      <td>w Wydziale Obsługi Płacowej w Biurze Finansowym</td>\n      <td>15.12.2023</td>\n      <td>15 grudnia 2023</td>\n      <td>...</td>\n      <td>7009,44 zł brutto</td>\n      <td>1</td>\n      <td>1</td>\n      <td>koniec naboru</td>\n      <td>[nalicza wynagrodzenia pracowników oraz zasiłk...</td>\n      <td>Wykształcenie: wyższe</td>\n      <td>[3 lata stażu pracy w obszarze wynagrodzeń i u...</td>\n      <td>[Wykształcenie wyższe ekonomiczne lub ekonomic...</td>\n      <td>[Dokumenty należy złożyć do: 29.12.2023, Decyd...</td>\n      <td>Liczba odwiedzin: 91</td>\n    </tr>\n    <tr>\n      <th>1</th>\n      <td>NR 131558</td>\n      <td>księgowy</td>\n      <td>Powiatowy Inspektorat Weterynarii w Piszu</td>\n      <td>Pisz</td>\n      <td>Adres urzędu: ul. Warszawska 38 12-200 Pisz</td>\n      <td>Miejsce wykonywania pracy: Pisz Powiatowy Insp...</td>\n      <td>Adres urzędu:</td>\n      <td>w zespole ds. finansowo-księgowych i administr...</td>\n      <td>15.12.2023</td>\n      <td>15 grudnia 2023</td>\n      <td>...</td>\n      <td>nie podano wynagrodzenia</td>\n      <td>1</td>\n      <td>1</td>\n      <td>koniec naboru</td>\n      <td>[Wykonuje zadania księgowego w jednostce budże...</td>\n      <td>Wykształcenie: wyższe ekonomiczne</td>\n      <td>[doświadczenie zawodowe: co najmniej 1 rok , W...</td>\n      <td>[komunikatywność]</td>\n      <td>[Dokumenty należy złożyć do: 29.12.2023, Decyd...</td>\n      <td>Liczba odwiedzin: 25</td>\n    </tr>\n    <tr>\n      <th>2</th>\n      <td>NR 131502</td>\n      <td>starszy specjalista</td>\n      <td>Główny Urząd Nadzoru Budowlanego w Warszawie</td>\n      <td>Warszawa</td>\n      <td>Adres urzędu: Krucza 38/42 00-926 Warszawa</td>\n      <td>Miejsce wykonywania pracy: Warszawa ul. Krucza...</td>\n      <td>Adres urzędu:</td>\n      <td>w Biurze Organizacyjnym</td>\n      <td>14.12.2023</td>\n      <td>14 grudnia 2023</td>\n      <td>...</td>\n      <td>nie podano wynagrodzenia</td>\n      <td>1</td>\n      <td>1</td>\n      <td>koniec naboru</td>\n      <td>[organizuje proces przeprowadzania naborów do ...</td>\n      <td>Wykształcenie: wyższe</td>\n      <td>[doświadczenie zawodowe: 1,5 roku w pracy zwią...</td>\n      <td>[Wykształcenie: wyższe prawnicze lub administr...</td>\n      <td>[Dokumenty należy złożyć do: 29.12.2023, Decyd...</td>\n      <td>Liczba odwiedzin: 34</td>\n    </tr>\n    <tr>\n      <th>3</th>\n      <td>NR 131510</td>\n      <td>inspektor</td>\n      <td>Powiatowy Inspektorat Nadzoru Budowlanego w Hr...</td>\n      <td>Hrubieszów</td>\n      <td>Adres urzędu: ul. Plac Wolności 13 22-500 Hrub...</td>\n      <td>Miejsce wykonywania pracy: Hrubieszów 22-500 H...</td>\n      <td>Adres urzędu:</td>\n      <td>Referat inspekcji i kontroli</td>\n      <td>13.12.2023</td>\n      <td>13 grudnia 2023</td>\n      <td>...</td>\n      <td>nie podano wynagrodzenia</td>\n      <td>1</td>\n      <td>1</td>\n      <td>koniec naboru</td>\n      <td>[Prowadzi postępowania administracyjne wynikaj...</td>\n      <td>Wykształcenie: średnie budowlane lub architekt...</td>\n      <td>[staż pracy: w administracji publicznej lub w ...</td>\n      <td>[Wykształcenie: wyższe Wykształcenie: wyższe b...</td>\n      <td>[Dokumenty należy złożyć do: 29.12.2023, Decyd...</td>\n      <td>Liczba odwiedzin: 58</td>\n    </tr>\n    <tr>\n      <th>4</th>\n      <td>NR 131408</td>\n      <td>główny specjalista</td>\n      <td>Ministerstwo Rozwoju i Technologii w Warszawie</td>\n      <td>Warszawa</td>\n      <td>Adres urzędu: pl. Trzech Krzyży 3/5 00-507 War...</td>\n      <td>Miejsce wykonywania pracy: Warszawa</td>\n      <td>Adres urzędu:</td>\n      <td>w Wydziale Wynagrodzeń w Departamencie Budżetu...</td>\n      <td>12.12.2023</td>\n      <td>13 grudnia 2023</td>\n      <td>...</td>\n      <td>od 7009,00 zł do 7447,00 zł brutto</td>\n      <td>1</td>\n      <td>1</td>\n      <td>koniec naboru</td>\n      <td>[prowadzi obsługę płacową dla pracowników zatr...</td>\n      <td>Wykształcenie: wyższe ekonomiczne lub inne nie...</td>\n      <td>[Doświadczenie zawodowe: minimum 3 lata w obsz...</td>\n      <td>[CV i list motywacyjny, Kopie dokumentów potwi...</td>\n      <td>[Dokumenty należy złożyć do: 27.12.2023, Decyd...</td>\n      <td>Liczba odwiedzin: 395</td>\n    </tr>\n  </tbody>\n</table>\n<p>5 rows × 22 columns</p>\n</div>"
     },
     "execution_count": 2,
     "metadata": {},
     "output_type": "execute_result"
    }
   ],
   "source": [
    "path = os.getcwd()[0:36] + '\\\\Data\\\\kprm-with-salary-update-20231115.json'\n",
    "\n",
    "df = pd.read_json(path, lines=True)\n",
    "df.head()"
   ],
   "metadata": {
    "collapsed": false,
    "ExecuteTime": {
     "end_time": "2024-03-14T22:36:00.397736Z",
     "start_time": "2024-03-14T22:35:51.459560Z"
    }
   },
   "id": "f6a4e2d0f5e507f6",
   "execution_count": 2
  },
  {
   "cell_type": "code",
   "outputs": [
    {
     "name": "stdout",
     "output_type": "stream",
     "text": [
      "[ 0  1  2  3  4  5  6  7  8  9 10 11 12 13 14 15 16 17 18 19 20 21]\n"
     ]
    }
   ],
   "source": [
    "print(df.columns.values)"
   ],
   "metadata": {
    "collapsed": false,
    "ExecuteTime": {
     "end_time": "2024-03-14T22:38:20.322432Z",
     "start_time": "2024-03-14T22:38:20.313267Z"
    }
   },
   "id": "cc8d1e98a9743cd5",
   "execution_count": 8
  },
  {
   "cell_type": "code",
   "outputs": [],
   "source": [],
   "metadata": {
    "collapsed": false
   },
   "id": "40458ee1e2162565"
  }
 ],
 "metadata": {
  "kernelspec": {
   "display_name": "Python 3",
   "language": "python",
   "name": "python3"
  },
  "language_info": {
   "codemirror_mode": {
    "name": "ipython",
    "version": 2
   },
   "file_extension": ".py",
   "mimetype": "text/x-python",
   "name": "python",
   "nbconvert_exporter": "python",
   "pygments_lexer": "ipython2",
   "version": "2.7.6"
  }
 },
 "nbformat": 4,
 "nbformat_minor": 5
}
